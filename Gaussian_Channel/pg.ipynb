{
 "cells": [
  {
   "cell_type": "code",
   "execution_count": 17,
   "metadata": {},
   "outputs": [
    {
     "data": {
      "text/plain": [
       "0"
      ]
     },
     "execution_count": 17,
     "metadata": {},
     "output_type": "execute_result"
    }
   ],
   "source": [
    "import os\n",
    "import numpy as np\n",
    "import pandas as pd\n",
    "import pandas_ta as ta\n",
    "from pathlib import Path\n",
    "from datetime import datetime\n",
    "\n",
    "\n",
    "downloads_path = str(Path.home() / \"Downloads\")\n",
    "tv_exp_fn = f'{downloads_path}\\\\BINANCE_BTCUSDT.P, 15.csv'\n",
    "tst_fn = f'{downloads_path}\\\\tst.csv'\n",
    "\n",
    "N = 4\n",
    "per = 144\n",
    "mult = 1.414\n",
    "modeLag = False\n",
    "modeFast = False\n",
    "beta = 0.00503274062721631\n",
    "alpha = 0.0954202818890498\n",
    "lag = 17.875\n",
    "\n",
    "\n",
    "tv_df = pd.read_csv(tv_exp_fn)\n",
    "os.remove(tv_exp_fn)\n",
    "open_price = list(tv_df['open'])\n",
    "high_price = list(tv_df['high'])\n",
    "low_price = list(tv_df['low'])\n",
    "close_price = list(tv_df['close'])\n",
    "\n",
    "m_src = list(ta.hlc3(tv_df['high'], tv_df['low'], tv_df['close']))\n",
    "tv_trdata = list(tv_df['tv_trdata'])\n",
    "m_srcdata = m_src\n",
    "m_trdata = [idx for idx in range(len(m_src))]\n",
    "\n",
    "exp_df = pd.DataFrame()\n",
    "exp_df['tv_trdata'] = tv_trdata\n",
    "exp_df['m_trdata'] = m_trdata\n",
    "exp_df['chk'] = [f\"=ROUND(A{idx+2},1)=ROUND(B{idx+2},1)\" for idx in range(len(open_price))]\n",
    "exp_df['false_count'] = [f\"=COUNTIF(C2:C{len(open_price)}, FALSE)\"]+['']*(len(open_price)-1)\n",
    "exp_df.to_csv(tst_fn, index=False)\n",
    "os.system(f\"start EXCEL.EXE {tst_fn}\")\n"
   ]
  }
 ],
 "metadata": {
  "kernelspec": {
   "display_name": "Python 3",
   "language": "python",
   "name": "python3"
  },
  "language_info": {
   "codemirror_mode": {
    "name": "ipython",
    "version": 3
   },
   "file_extension": ".py",
   "mimetype": "text/x-python",
   "name": "python",
   "nbconvert_exporter": "python",
   "pygments_lexer": "ipython3",
   "version": "3.11.2"
  },
  "orig_nbformat": 4
 },
 "nbformat": 4,
 "nbformat_minor": 2
}
