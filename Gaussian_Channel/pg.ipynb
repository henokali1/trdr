{
 "cells": [
  {
   "cell_type": "code",
   "execution_count": 35,
   "metadata": {},
   "outputs": [
    {
     "data": {
      "text/plain": [
       "0"
      ]
     },
     "execution_count": 35,
     "metadata": {},
     "output_type": "execute_result"
    }
   ],
   "source": [
    "import os\n",
    "import numpy as np\n",
    "import pandas as pd\n",
    "import pandas_ta as ta\n",
    "from pathlib import Path\n",
    "from datetime import datetime\n",
    "\n",
    "\n",
    "downloads_path = str(Path.home() / \"Downloads\")\n",
    "tv_exp_fn = f'{downloads_path}\\\\BINANCE_BTCUSDT.P, 15.csv'\n",
    "tst_fn = f'{downloads_path}\\\\tst.csv'\n",
    "\n",
    "N = 4\n",
    "per = 144\n",
    "mult = 1.414\n",
    "modeLag = False\n",
    "modeFast = False\n",
    "beta = 0.00503274062721631\n",
    "alpha = 0.0954202818890498\n",
    "lag = 17.875\n",
    "m__x = 0.90457971811095\n",
    "\n",
    "\n",
    "tv_df = pd.read_csv(tv_exp_fn)\n",
    "os.remove(tv_exp_fn)\n",
    "open_price = list(tv_df['open'])\n",
    "high_price = list(tv_df['high'])\n",
    "low_price = list(tv_df['low'])\n",
    "close_price = list(tv_df['close'])\n",
    "\n",
    "m_src = list(ta.hlc3(tv_df['high'], tv_df['low'], tv_df['close']))\n",
    "tv__f = list(tv_df['tv__f'])\n",
    "m_srcdata = m_src\n",
    "m_trdata = [max([high_price[idx] - low_price[idx], abs(high_price[idx] - close_price[idx-1]), abs(low_price[idx] - close_price[idx-1])]) for idx in range(len(open_price))]\n",
    "_i = N\n",
    "_a = alpha\n",
    "_s = m_srcdata\n",
    "m__f = [0.0]*len(open_price)\n",
    "m_m2 = (36 if _i == 9 else 28 if _i == 8 else 21 if _i == 7 else 15 if _i == 6 else 10 if _i == 5 else 6 if _i == 4 else 3 if _i == 3 else 1 if _i == 2 else 0)\n",
    "m_m3 = (84 if _i == 9 else 56 if _i == 8 else 35 if _i == 7 else 20 if _i == 6 else 10 if _i == 5 else 4 if _i == 4 else 1 if _i == 3 else 0)\n",
    "m__m4 = (126 if _i == 9 else 70 if _i == 8 else 35 if _i == 7 else 15 if _i == 6 else 5 if _i == 5 else 1 if _i == 4 else 0)\n",
    "m__m5 = (126 if _i == 9 else 56 if _i == 8 else 21 if _i == 7 else 6 if _i == 6 else 1 if _i == 5 else 0)\n",
    "m__m6 = (84 if _i == 9 else 28 if _i == 8 else 7 if _i == 7 else 1 if _i == 6 else 0)\n",
    "m__m7 = (36 if _i == 9 else 8 if _i == 8 else 1 if _i == 7 else 0)\n",
    "m__m8 = (9 if _i == 9 else 1 if _i == 8 else 0)\n",
    "m__m9 = 1 if _i == 9 else 0\n",
    "m__f = [np.power(_a, _i) * _s if _i == 1 else np.power(_a, _i) * _s + _i * m__x * _f[idx-1] - (_m2 * np.power(m__x, 2) * _f[2] if _i >= 2 else 0) + (_m3 * np.power(m__x, 3) * _f[3] if _i >= 3 else 0) - (_m4 * np.power(m__x, 4) * _f[4] if _i >= 4 else 0) + (_m5 * np.power(m__x, 5) * _f[5] if _i >= 5 else 0) - (_m6 * np.power(m__x, 6) * _f[6] if _i >= 6 else 0) + (_m7 * np.power(m__x, 7) * _f[7] if _i >= 7 else 0) - (_m8 * np.power(m__x, 8) * _f[8] if _i >= 8 else 0) + (_m9 * np.power(m__x, 9) * _f[9] if _i == 9 else 0) for idx in range(len(close_price))]\n",
    "\n",
    "\n",
    "\n",
    "\n",
    "\n",
    "\n",
    "\n",
    "\n",
    "exp_df = pd.DataFrame()\n",
    "exp_df['tv__f'] = tv__f\n",
    "exp_df['m__m9'] = m__m9\n",
    "exp_df['chk'] = [f\"=ROUND(A{idx+2},1)=ROUND(B{idx+2},1)\" for idx in range(len(open_price))]\n",
    "exp_df['false_count'] = [f\"=COUNTIF(C2:C{len(open_price)}, FALSE)\"]+['']*(len(open_price)-1)\n",
    "exp_df.to_csv(tst_fn, index=False)\n",
    "os.system(f\"start EXCEL.EXE {tst_fn}\")\n"
   ]
  },
  {
   "cell_type": "code",
   "execution_count": 25,
   "metadata": {},
   "outputs": [
    {
     "name": "stdout",
     "output_type": "stream",
     "text": [
      "6\n"
     ]
    }
   ],
   "source": [
    "\n",
    "print(m_m2)"
   ]
  }
 ],
 "metadata": {
  "kernelspec": {
   "display_name": "Python 3",
   "language": "python",
   "name": "python3"
  },
  "language_info": {
   "codemirror_mode": {
    "name": "ipython",
    "version": 3
   },
   "file_extension": ".py",
   "mimetype": "text/x-python",
   "name": "python",
   "nbconvert_exporter": "python",
   "pygments_lexer": "ipython3",
   "version": "3.11.2"
  },
  "orig_nbformat": 4
 },
 "nbformat": 4,
 "nbformat_minor": 2
}
