{
 "cells": [
  {
   "cell_type": "code",
   "execution_count": 6,
   "metadata": {},
   "outputs": [
    {
     "name": "stdout",
     "output_type": "stream",
     "text": [
      "1\n",
      "5\n",
      "2\n",
      "3\n",
      "5\n",
      "3\n",
      "9\n",
      "2\n",
      "8\n",
      "8\n"
     ]
    }
   ],
   "source": [
    "from random import randint\n",
    "\n",
    "for i in range(1,11):\n",
    "    print(randint(1,10))"
   ]
  },
  {
   "cell_type": "code",
   "execution_count": 11,
   "metadata": {},
   "outputs": [],
   "source": [
    "pc_ref = [0, 25, -60, 400, -20, -75, 0, 300, -62.5, 66.7, 0, 40, -42.9, -25, -66.7, 0, 0, 700, -12.5, -28.6]\n",
    "pc_tst = [0, 400, -60, 400, -20, -75, 0, 0, 300, 0]\n",
    "\n",
    "def get_chunks(lst):\n",
    "    r=[]\n",
    "    chunk_size = 3\n",
    "    nxt_chunk_end_idx = chunk_size - 1\n",
    "    tot = len(lst)\n",
    "    for idx, val in enumerate(lst):\n",
    "        end_idx = idx+chunk_size\n",
    "        if end_idx <= tot:\n",
    "            r.append(lst[idx:end_idx])\n",
    "    return r\n",
    "\n",
    "ref_chunks = get_chunks(pc_ref)\n",
    "tst_chunks = get_chunks(pc_tst)"
   ]
  },
  {
   "cell_type": "code",
   "execution_count": 12,
   "metadata": {},
   "outputs": [
    {
     "name": "stdout",
     "output_type": "stream",
     "text": [
      "[[0, 25, -60], [25, -60, 400], [-60, 400, -20], [400, -20, -75], [-20, -75, 0], [-75, 0, 300], [0, 300, -62.5], [300, -62.5, 66.7], [-62.5, 66.7, 0], [66.7, 0, 40], [0, 40, -42.9], [40, -42.9, -25], [-42.9, -25, -66.7], [-25, -66.7, 0], [-66.7, 0, 0], [0, 0, 700], [0, 700, -12.5], [700, -12.5, -28.6]]\n",
      "[[0, 400, -60], [400, -60, 400], [-60, 400, -20], [400, -20, -75], [-20, -75, 0], [-75, 0, 0], [0, 0, 300], [0, 300, 0]]\n"
     ]
    }
   ],
   "source": [
    "print(ref_chunks)\n",
    "print(tst_chunks)"
   ]
  }
 ],
 "metadata": {
  "kernelspec": {
   "display_name": "Python 3",
   "language": "python",
   "name": "python3"
  },
  "language_info": {
   "codemirror_mode": {
    "name": "ipython",
    "version": 3
   },
   "file_extension": ".py",
   "mimetype": "text/x-python",
   "name": "python",
   "nbconvert_exporter": "python",
   "pygments_lexer": "ipython3",
   "version": "3.11.2"
  },
  "orig_nbformat": 4
 },
 "nbformat": 4,
 "nbformat_minor": 2
}
