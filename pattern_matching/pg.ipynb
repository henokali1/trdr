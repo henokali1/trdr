{
 "cells": [
  {
   "cell_type": "code",
   "execution_count": 6,
   "metadata": {},
   "outputs": [
    {
     "name": "stdout",
     "output_type": "stream",
     "text": [
      "1\n",
      "5\n",
      "2\n",
      "3\n",
      "5\n",
      "3\n",
      "9\n",
      "2\n",
      "8\n",
      "8\n"
     ]
    }
   ],
   "source": [
    "from random import randint\n",
    "\n",
    "for i in range(1,11):\n",
    "    print(randint(1,10))"
   ]
  },
  {
   "cell_type": "code",
   "execution_count": 55,
   "metadata": {},
   "outputs": [],
   "source": [
    "pc_ref = [0, 25, -60, 400, -20, -75, 0, 300, -62.5, 66.7, 0, 40, -42.9, -25, -66.7, 0, 0, 700, -12.5, -28.6]\n",
    "pc_tst = [0, 400, -60, 400, -20, -75, 0, 0, 300, 0]\n",
    "\n",
    "def get_chunks(lst):\n",
    "    r=[]\n",
    "    chunk_size = 3\n",
    "    tot = len(lst)\n",
    "    for idx, val in enumerate(lst):\n",
    "        end_idx = idx+chunk_size\n",
    "        if end_idx <= tot:\n",
    "            r.append(lst[idx:end_idx])\n",
    "    return r\n",
    "\n",
    "ref_chunks = get_chunks(pc_ref)\n",
    "tst_chunks = get_chunks(pc_tst)"
   ]
  },
  {
   "cell_type": "code",
   "execution_count": 79,
   "metadata": {},
   "outputs": [],
   "source": [
    "pc_ref = [0.252, 0.3061, 0.2328, 1.4866, -0.0304, -0.2396, 0.2776, -0.559, 0.1776, -0.0879, -0.2489, 0.191, -0.1669, 0.2069, -0.0082, 0.0303, 0.1514, -0.5416, 0.1393, -0.279, 0.1289, 0.0536, 0.0173, 0.0729, -0.3921, 0.331, -0.0669, -0.8499, 0.3064, 0.1968, 0.0437, -0.2584, 0.0821, -0.1622, 0.0575, 0.4276, 0.1731, 0.1696, -0.0697, 0.2628, -0.161, 0.1347, -0.1344, 0.2343, 0.2603, -0.3267, 0.1155, -0.1771, 0.6486, 0.1485, -0.9008, 0.5201, 0.0352, 0.0058, 0.2433, -0.0338, -0.1182, -0.1072, -0.2131, 0.0788, -0.2011, -0.5752, 0.2088, 0.1272, 0.1737, 0.0688, 0.0179, 0.0266, -0.1226, -0.3593, -0.3145, 0.4753, -0.6577, -0.4921, 0.6385, -0.1851, 0.1173, 0.1288, -0.1917, 0.466, 0.1443, -0.1435, 0.1033, -0.033, 0.1452, -0.041, -0.1955, 0.2475, 0.1176, 0.1048, -0.1507, -0.0141, 0.0763, 0.0129, 0.1513, -0.0414, -0.9417, 0.562, 0.0129, -0.291, 0.3272, 0.497, 0.0291, 0.1116, 0.07, -0.1977, -0.096, 0.1428, -0.1951, -0.1208, 0.2339, -0.3064, 0.1438, 0.1687, -0.011, 0.2247, 0.2931, 0.0273, 0.3568, 0.1841, 0.0173, -0.2452, 0.3968, 0.2555, -0.2334, 0.0639, 0.0635, 0.0594, -0.1268, 0.1941, 0.1845, -0.3609, -0.1249, 0.227, -0.5049, 0.2084, 0.346, -0.1565, -0.1739, 0.1898, -0.2511, 0.162, 0.1262, 0.4644, 1.4146, 1.3239, -0.2552, 0.5043, 0.2696, 1.3639, 0.9492, -0.6752, -0.8053, 0.3686, 0.224, -0.0946, 0.3022, 0.9325, 0.0764, 1.1665, 0.8176, 0.8777, -0.2752, 0.3193, -0.0129, 0.2201, 0.5784, -0.7921, 0.5223, 0.0881, 0.7826, -0.1728, 0.215, 0.1403, -0.1354, -0.7929, -1.6224, -0.4311, -3.9419, 2.0467, 0.3975, -0.0158, 0.1819, -0.068, 1.6716, -0.1723, -0.0134, -0.816, 0.283, -0.1722, 0.8016, -0.1964, 0.3173, 0.6438, 0.1002, -0.1255, 0.6785, -0.0524, -0.0911, 0.1621, 0.4624, 0.1326, -0.2818, -0.4339, 0.1541]\n",
    "pc_tst = [0.1776, -0.0879, -0.2489, 0.191, -0.1669, 0.2069, -0.0082, 0.0303, 0.1514, -0.5416]\n",
    "\n",
    "def get_chunks(lst):\n",
    "    r=[]\n",
    "    chunk_size = 10\n",
    "    tot = len(lst)\n",
    "    for idx, val in enumerate(lst):\n",
    "        end_idx = idx+chunk_size\n",
    "        if end_idx <= tot:\n",
    "            r.append(lst[idx:end_idx])\n",
    "    return r\n",
    "\n",
    "ref_chunks = get_chunks(pc_ref)\n",
    "tst_chunks = get_chunks(pc_tst)"
   ]
  },
  {
   "cell_type": "code",
   "execution_count": 67,
   "metadata": {},
   "outputs": [
    {
     "data": {
      "text/plain": [
       "1"
      ]
     },
     "execution_count": 67,
     "metadata": {},
     "output_type": "execute_result"
    }
   ],
   "source": [
    "len(tst_chunks)"
   ]
  },
  {
   "cell_type": "code",
   "execution_count": 73,
   "metadata": {},
   "outputs": [
    {
     "name": "stdout",
     "output_type": "stream",
     "text": [
      "[[0.252, 0.3061, 0.2328, 1.4866, -0.0304, -0.2396, 0.2776, -0.559, 0.1776, -0.0879], [0.3061, 0.2328, 1.4866, -0.0304, -0.2396, 0.2776, -0.559, 0.1776, -0.0879, -0.2489], [0.2328, 1.4866, -0.0304, -0.2396, 0.2776, -0.559, 0.1776, -0.0879, -0.2489, 0.191], [1.4866, -0.0304, -0.2396, 0.2776, -0.559, 0.1776, -0.0879, -0.2489, 0.191, -0.1669], [-0.0304, -0.2396, 0.2776, -0.559, 0.1776, -0.0879, -0.2489, 0.191, -0.1669, 0.2069], [-0.2396, 0.2776, -0.559, 0.1776, -0.0879, -0.2489, 0.191, -0.1669, 0.2069, -0.0082], [0.2776, -0.559, 0.1776, -0.0879, -0.2489, 0.191, -0.1669, 0.2069, -0.0082, 0.0303], [-0.559, 0.1776, -0.0879, -0.2489, 0.191, -0.1669, 0.2069, -0.0082, 0.0303, 0.1514], [0.1776, -0.0879, -0.2489, 0.191, -0.1669, 0.2069, -0.0082, 0.0303, 0.1514, -0.5416], [-0.0879, -0.2489, 0.191, -0.1669, 0.2069, -0.0082, 0.0303, 0.1514, -0.5416, 0.1393], [-0.2489, 0.191, -0.1669, 0.2069, -0.0082, 0.0303, 0.1514, -0.5416, 0.1393, -0.279], [0.191, -0.1669, 0.2069, -0.0082, 0.0303, 0.1514, -0.5416, 0.1393, -0.279, 0.1289], [-0.1669, 0.2069, -0.0082, 0.0303, 0.1514, -0.5416, 0.1393, -0.279, 0.1289, 0.0536], [0.2069, -0.0082, 0.0303, 0.1514, -0.5416, 0.1393, -0.279, 0.1289, 0.0536, 0.0173], [-0.0082, 0.0303, 0.1514, -0.5416, 0.1393, -0.279, 0.1289, 0.0536, 0.0173, 0.0729], [0.0303, 0.1514, -0.5416, 0.1393, -0.279, 0.1289, 0.0536, 0.0173, 0.0729, -0.3921], [0.1514, -0.5416, 0.1393, -0.279, 0.1289, 0.0536, 0.0173, 0.0729, -0.3921, 0.331], [-0.5416, 0.1393, -0.279, 0.1289, 0.0536, 0.0173, 0.0729, -0.3921, 0.331, -0.0669]]\n",
      "[[0.1776, -0.0879, -0.2489, 0.191, -0.1669, 0.2069, -0.0082, 0.0303, 0.1514, -0.5416]]\n"
     ]
    }
   ],
   "source": [
    "print(ref_chunks)\n",
    "print(tst_chunks)"
   ]
  },
  {
   "cell_type": "code",
   "execution_count": null,
   "metadata": {},
   "outputs": [],
   "source": []
  },
  {
   "cell_type": "code",
   "execution_count": 80,
   "metadata": {},
   "outputs": [
    {
     "name": "stdout",
     "output_type": "stream",
     "text": [
      "10\n"
     ]
    }
   ],
   "source": [
    "def chunk_diff(ref_lst, tst_lst):\n",
    "    cntr = 0\n",
    "    chunk_size = len(tst_lst[0])\n",
    "    sm_lst = []\n",
    "    sm_idx_dic = {}\n",
    "    print(chunk_size)\n",
    "    for i in tst_lst:\n",
    "        for j in ref_lst:\n",
    "            diff = []\n",
    "            for k in range(chunk_size):\n",
    "                diff.append(abs(i[k] - j[k]))\n",
    "            cntr += 1\n",
    "            sm = sum(diff)\n",
    "            # sm_lst.append({'k': f'{cntr}: {i} vs {j}', 'sm': sm})\n",
    "            sm_lst.append({'k': cntr, 'sm': sm})\n",
    "    return sm_lst\n",
    "\n",
    "sm_lst = chunk_diff(ref_chunks, tst_chunks)"
   ]
  },
  {
   "cell_type": "code",
   "execution_count": 82,
   "metadata": {},
   "outputs": [
    {
     "name": "stdout",
     "output_type": "stream",
     "text": [
      "{'k': 9, 'sm': 0.0} {'k': 176, 'sm': 11.8161}\n"
     ]
    }
   ],
   "source": [
    "from typing import List, Dict\n",
    "\n",
    "def sort_dicts_by_value(dicts: List[Dict], key: str) -> List[Dict]:\n",
    "    \"\"\"\n",
    "    Sorts a list of dictionaries by the specified key value.\n",
    "\n",
    "    :param dicts: List of dictionaries to be sorted\n",
    "    :param key: The key by which the dictionaries should be sorted\n",
    "    :return: A list of dictionaries sorted by the specified key\n",
    "    \"\"\"\n",
    "    try:\n",
    "        return sorted(dicts, key=lambda x: x[key])\n",
    "    except KeyError:\n",
    "        raise KeyError(f\"One or more dictionaries do not have the key '{key}'\")\n",
    "    except TypeError:\n",
    "        raise TypeError(f\"The value for key '{key}' is not comparable\")\n",
    "\n",
    "sorted_list = sort_dicts_by_value(sm_lst, 'sm')\n",
    "print(sorted_list[0],sorted_list[-1])\n"
   ]
  },
  {
   "cell_type": "code",
   "execution_count": 2,
   "metadata": {},
   "outputs": [
    {
     "name": "stdout",
     "output_type": "stream",
     "text": [
      "Calculating sdbv...\n"
     ]
    }
   ],
   "source": [
    "\n",
    "from binance.client import Client\n",
    "from binance.enums import *\n",
    "from time import time\n",
    "import pickle as pickle\n",
    "from datetime import datetime\n",
    "import pandas as pd\n",
    "from pathlib import Path\n",
    "from datetime import datetime\n",
    "import json\n",
    "import math\n",
    "import ast\n",
    "from time import time\n",
    "\n",
    "from typing import List, Dict\n",
    "\n",
    "\n",
    "downloads_path = str(Path.home() / \"Downloads\")\n",
    "documents_path = str(Path.home() / \"Documents\")\n",
    "tst_fn = f'{downloads_path}\\\\hd.csv'\n",
    "hd_dl_fn = f'{downloads_path}\\\\hd_dl.csv'\n",
    "qualifying_trades_fn = f'{downloads_path}\\\\qualifying_trades.csv'\n",
    "\n",
    "\n",
    "def get_client():\n",
    "    fn = f'{documents_path}\\\\key\\\\binance-key.pickle'\n",
    "    with open(fn, 'rb') as handle:\n",
    "        k = pickle.load(handle)\n",
    "    return Client(k['API_KEY'], k['API_SECRET'])\n",
    "\n",
    "def get_config(file_path):\n",
    "    with open(file_path, 'r') as file:\n",
    "        config = json.load(file)\n",
    "    return config\n",
    "\n",
    "\n",
    "def get_chunks(lst, chunk_size):\n",
    "    r=[]\n",
    "    tot = len(lst)\n",
    "    for idx, val in enumerate(lst):\n",
    "        end_idx = idx+chunk_size\n",
    "        if end_idx <= tot:\n",
    "            r.append(lst[idx:end_idx])\n",
    "    return r\n",
    "\n",
    "def get_pc(hd_df):\n",
    "    close_price = list(hd_df['close'])\n",
    "    ts = list(hd_df['time'])\n",
    "    pc = []\n",
    "    for idx, val in enumerate(close_price):\n",
    "        if idx==0:\n",
    "            pc.append({'time': ts[0], 'pc': 0})\n",
    "        else:\n",
    "            previous_price = close_price[idx-1]\n",
    "            current_price = val\n",
    "            pc_val = (round((current_price*100/previous_price)-100, 4))\n",
    "            pc.append({'time': ts[idx], 'pc': pc_val})\n",
    "    pc_df = pd.DataFrame(pc)\n",
    "    return pc_df\n",
    "\n",
    "def get_trades(hd_df, chunk_size):\n",
    "    close_price = list(hd_df['close'])\n",
    "    high_price = list(hd_df['high'])\n",
    "    low_price = list(hd_df['low'])\n",
    "    longs=[]\n",
    "    shorts=[]\n",
    "    long_qualified = []\n",
    "    short_qualified = []\n",
    "    tot = len(close_price)\n",
    "    for idx in range(len(close_price)):\n",
    "        if (idx + chunk_size) <= tot:\n",
    "            cp = close_price[idx]\n",
    "            max_price = max(high_price[idx:idx + chunk_size])\n",
    "            min_price = min(low_price[idx:idx + chunk_size])\n",
    "            long_roi = round((max_price*100/cp)-100, 4)\n",
    "            short_roi = round((cp*100/min_price)-100, 4)\n",
    "            longs.append({'long': long_roi})\n",
    "            long_qualified.append(long_roi >= roi_threshold)\n",
    "            shorts.append({'short': short_roi})\n",
    "            short_qualified.append(short_roi >= roi_threshold)\n",
    "        else:\n",
    "            long_roi = 0.0\n",
    "            short_roi = 0.0\n",
    "            longs.append({'long': long_roi})\n",
    "            long_qualified.append(False)\n",
    "            shorts.append({'short': short_roi})\n",
    "            short_qualified.append(False)\n",
    "    long_trades_df = pd.DataFrame(longs)\n",
    "    short_trades_df = pd.DataFrame(shorts)\n",
    "    long_qualified_df = pd.DataFrame(long_qualified)\n",
    "    short_qualified_df = pd.DataFrame(short_qualified)\n",
    "    return long_trades_df, short_trades_df, long_qualified, short_qualified\n",
    "\n",
    "def download_hd(start_timestamp, end_timestamp, candlestick): \n",
    "    client = get_client()\n",
    "    data = []\n",
    "    tot = (end_timestamp - start_timestamp)/(900*500)\n",
    "    cntr = 0\n",
    "    for current_sts in range(start_timestamp, end_timestamp+1, 900*500):\n",
    "        next_ets = current_sts + 900*500 if (current_sts + 900*500) < end_timestamp else end_timestamp\n",
    "        print(current_sts, next_ets, f'100% completed') if next_ets == end_timestamp else print(current_sts, next_ets, f'{round(cntr*100/tot, 1)}% completed')\n",
    "        cntr += 1\n",
    "        \n",
    "        klines = client.futures_historical_klines('BTCUSDT', candlestick, current_sts*1000, next_ets*1000, limit=500)\n",
    "        \n",
    "        for kline in klines:\n",
    "            timestamp = kline[0]/1000\n",
    "            open_price = float(kline[1])\n",
    "            high_price = float(kline[2])\n",
    "            low_price = float(kline[3])\n",
    "            close_price = float(kline[4])\n",
    "            volume = float(kline[5])\n",
    "\n",
    "            data.append([timestamp, open_price, high_price, low_price, close_price, volume])\n",
    "\n",
    "    df = pd.DataFrame(data, columns=['time', 'open', 'high', 'low', 'close', 'volume'])\n",
    "    df.to_csv(hd_dl_fn, index=False)\n",
    "    print('Historical Data Exported!\\t', hd_dl_fn)\n",
    "    return df\n",
    "\n",
    "def read_local_hd(fn):\n",
    "    return pd.read_csv(fn)\n",
    "\n",
    "def get_qualifying_trades(df):\n",
    "    close_pc_df = get_pc(df)\n",
    "    long_trades_df, short_trades_df, long_qualified, short_qualified = get_trades(df, chunk_size)\n",
    "    df['close_pc'] = close_pc_df['pc']\n",
    "    df['long'] = long_trades_df\n",
    "    df['short'] = short_trades_df\n",
    "    df['long_qualified'] = long_qualified\n",
    "    df['short_qualified'] = short_qualified\n",
    "    df.to_csv(qualifying_trades_fn, index=False)\n",
    "    print('Qualifying Trades Data Exported!', qualifying_trades_fn)\n",
    "    return df\n",
    "\n",
    "def get_chunks(qt_df):\n",
    "    lst = list(qt_df['close_pc'])\n",
    "    r=[]\n",
    "    tot = len(lst)\n",
    "    for idx, val in enumerate(lst):\n",
    "        if idx < chunk_size:\n",
    "            r.append([0]*chunk_size)\n",
    "        else:\n",
    "            r.append(lst[idx-chunk_size:idx])\n",
    "    qt_df['ref_chunks'] = r\n",
    "    qt_df.to_csv(f'{downloads_path}/ref_chunks.csv', index=False)\n",
    "    print('Ref Chunks Exported!', f'{downloads_path}/ref_chunks.csv')\n",
    "    return qt_df\n",
    "\n",
    "def get_tst_chunks(ref_chunks_df):\n",
    "    long_qualified = list(ref_chunks_df['long_qualified'])\n",
    "    short_qualified = list(ref_chunks_df['short_qualified'])\n",
    "    ref_chunks_lst = list(ref_chunks_df['ref_chunks'])\n",
    "    r=[]\n",
    "    tst_lst = []\n",
    "    chunk_diff_lst = []\n",
    "    for idx in range(len(long_qualified)):\n",
    "        if (idx < chunk_size) or ((long_qualified[idx] == False) and (short_qualified[idx] == False)) :\n",
    "            r.append(None)\n",
    "            chunk_diff_lst.append(None)\n",
    "        else:\n",
    "            if (long_qualified[idx] == True) or (short_qualified[idx] == True):\n",
    "                r.append(ref_chunks_lst[idx])\n",
    "                tst_lst.append(ref_chunks_lst[idx])\n",
    "\n",
    "    ref_chunks_df['tst_chunks'] = r\n",
    "    ref_chunks_df['sm'] = chunk_diff_lst\n",
    "    ref_chunks_df.to_csv(f'{downloads_path}/tst_chunks.csv', index=False)\n",
    "    print('TST Chunks Exported!', f'{downloads_path}/tst_chunks.csv')\n",
    "    return ref_chunks_df, tst_lst\n",
    "\n",
    "\n",
    "\n",
    "def sort_dicts_by_value(dicts: List[Dict], key: str) -> List[Dict]:\n",
    "    \"\"\"\n",
    "    Sorts a list of dictionaries by the specified key value.\n",
    "\n",
    "    :param dicts: List of dictionaries to be sorted\n",
    "    :param key: The key by which the dictionaries should be sorted\n",
    "    :return: A list of dictionaries sorted by the specified key\n",
    "    \"\"\"\n",
    "    try:\n",
    "        return sorted(dicts, key=lambda x: x[key])\n",
    "    except KeyError:\n",
    "        raise KeyError(f\"One or more dictionaries do not have the key '{key}'\")\n",
    "    except TypeError:\n",
    "        raise TypeError(f\"The value for key '{key}' is not comparable\")\n",
    "\n",
    "def all_zeros(lst):\n",
    "    return all(x == 0 for x in lst)\n",
    "\n",
    "def format_elapsed_time(seconds):\n",
    "    days = seconds // (24 * 3600)\n",
    "    seconds %= 24 * 3600\n",
    "    hours = seconds // 3600\n",
    "    seconds %= 3600\n",
    "    minutes = seconds // 60\n",
    "    seconds %= 60\n",
    "\n",
    "    return f\"{days:03}d:{hours:02}h:{minutes:02}m:{seconds:02}s\"\n",
    "\n",
    "# math.isnan(tst_chunks_lst[110])\n",
    "def chunk_diff(ref_lst, tst_lst):\n",
    "    cntr = 0\n",
    "    chunk_size = len(tst_lst[0])\n",
    "    sm_lst = []\n",
    "    tot = len(tst_lst)\n",
    "    start_ts = int(time())\n",
    "    for tst_lst_idx,tst_val in enumerate(tst_lst):\n",
    "        tst_lst_idx += 1\n",
    "        if(tst_lst_idx%10 == 0) and tst_lst_idx != 0:\n",
    "            completed = round(tst_lst_idx*100/tot, 1)\n",
    "            remaining = round(100-completed)\n",
    "            cur_ts = time()\n",
    "            ts_diff = int(cur_ts - start_ts)\n",
    "            estimated_tm_to_complete = round(int(ts_diff*(tot-tst_lst_idx)/tst_lst_idx), 1)\n",
    "            print(f\"Elapsed Time: {format_elapsed_time(ts_diff)} \\t Completed: {completed}% \\tRemaining: {remaining}% \\tETA: {format_elapsed_time(estimated_tm_to_complete)}\")\n",
    "        for ref_idx,ref_val in enumerate(ref_lst):\n",
    "            diff = []\n",
    "            if(all_zeros(ref_val)) or (all_zeros(tst_val) or (tst_val == ref_val)):\n",
    "                continue\n",
    "            else:\n",
    "                for k in range(chunk_size):\n",
    "                    diff.append(abs(tst_val[k] - ref_val[k]))\n",
    "                cntr += 1\n",
    "                sm = round(sum(diff), 2)\n",
    "                if (sm <= sm_threshold) and (long_qualified_lst[ref_idx]):\n",
    "                    pattern_id = f'{ts[ref_idx]}_{candlestick}_{chunk_size}_{roi_threshold}_{sm_threshold}'\n",
    "                    long_roi = long[ref_idx]\n",
    "                    short_roi = short[ref_idx]\n",
    "                    sm_lst.append({'sm': sm, 'pattern_id': pattern_id, 'long_roi': long_roi, 'short_roi': short_roi, 'ref': ref_val, 'tst': tst_val})\n",
    "    return sm_lst\n",
    "\n",
    "def str_to_lst(val):\n",
    "    try:\n",
    "        return ast.literal_eval(val)\n",
    "    except ValueError as e:\n",
    "        return math.isnan(val)\n",
    "\n",
    "\n",
    "\n",
    "\n",
    "config = get_config('config.json')\n",
    "candlestick = config['candlestick']\n",
    "chunk_size = config['chunk_size']\n",
    "roi_threshold = config['roi_threshold']\n",
    "sm_threshold = config['sm_threshold']\n",
    "\n",
    "start_timestamp = 1609459200 #  January 1, 2021 12:00:00 AM\n",
    "end_timestamp = 1719721304\n",
    "\n",
    "# ref_chunks = get_chunks(pc_ref)\n",
    "# tst_chunks = get_chunks(pc_tst)\n",
    "# hd = read_local_hd(hd_dl_fn)\n",
    "# qt_df = get_qualifying_trades(hd)\n",
    "\n",
    "# ref_chunks_df = get_chunks(qt_df)\n",
    "# tst_chunks_df, tst_lst = get_tst_chunks(ref_chunks_df)\n",
    "\n",
    "tst_chunks_df = pd.read_csv(f'{downloads_path}/tst_chunks.csv')\n",
    "close_price_lst = list(tst_chunks_df['close'])\n",
    "high_price_lst = list(tst_chunks_df['high'])\n",
    "ref_chunks_lst_str = list(tst_chunks_df['ref_chunks'])\n",
    "tst_chunks_lst_str = list(tst_chunks_df['tst_chunks'])\n",
    "long_qualified_lst = list(tst_chunks_df['long_qualified'])\n",
    "ts = list(tst_chunks_df['time'])\n",
    "ts = [int(i) for i in ts]\n",
    "long = list(tst_chunks_df['long'])\n",
    "short = list(tst_chunks_df['short'])\n",
    "\n",
    "# -------------------------------------------------------------------------------------------\n",
    "\n",
    "\n",
    "\n",
    "# for idx in range(len(long_qualified_lst)):\n",
    "\n",
    "tst_val_lst = []\n",
    "for i in tst_chunks_lst_str:\n",
    "    v = str_to_lst(i)\n",
    "    if type(v) == type([1]):\n",
    "        tst_val_lst.append(v)\n",
    "\n",
    "# tst_val_lst = tst_val_lst[:400]\n",
    "tst_val_lst = [[0.1452, -0.041, -0.1955, 0.2475, 0.1176, 0.1048, -0.1507, -0.0141, 0.0763, 0.0129]]\n",
    "ref_chunks_lst = [str_to_lst(i) for i in ref_chunks_lst_str]\n",
    "chunk_diff_lst = chunk_diff(ref_chunks_lst, tst_val_lst)\n",
    "print('Calculating sdbv...')\n",
    "sdbv = sort_dicts_by_value(chunk_diff_lst, 'sm')"
   ]
  },
  {
   "cell_type": "code",
   "execution_count": 30,
   "metadata": {},
   "outputs": [
    {
     "name": "stdout",
     "output_type": "stream",
     "text": [
      "Calculating sdbv...\n"
     ]
    }
   ],
   "source": []
  },
  {
   "cell_type": "code",
   "execution_count": 3,
   "metadata": {},
   "outputs": [
    {
     "name": "stdout",
     "output_type": "stream",
     "text": [
      "{'sm': 0.53, 'pattern_id': '1627670700_15m_10_1_1', 'long_roi': 7.0985, 'short_roi': 0.076, 'ref': [0.1646, -0.043, -0.2026, 0.219, 0.0445, 0.0059, 0.0227, 0.0333, 0.1078, -0.0392], 'tst': [0.1452, -0.041, -0.1955, 0.2475, 0.1176, 0.1048, -0.1507, -0.0141, 0.0763, 0.0129]}\n",
      "{'sm': 1.0, 'pattern_id': '1715526000_15m_10_1_1', 'long_roi': 1.0913, 'short_roi': 0.096, 'ref': [0.0771, -0.0013, -0.1104, 0.1033, 0.0383, 0.0224, 0.1118, -0.0588, -0.1062, 0.0229], 'tst': [0.1452, -0.041, -0.1955, 0.2475, 0.1176, 0.1048, -0.1507, -0.0141, 0.0763, 0.0129]}\n",
      "{'sm': 1.0, 'pattern_id': '1712436300_15m_10_1_1', 'long_roi': 1.9311, 'short_roi': 0.1972, 'ref': [-0.0035, -0.024, 0.0702, 0.0228, 0.0549, 0.017, -0.1458, -0.1071, 0.1666, 0.019], 'tst': [0.1452, -0.041, -0.1955, 0.2475, 0.1176, 0.1048, -0.1507, -0.0141, 0.0763, 0.0129]}\n",
      "{'sm': 1.0, 'pattern_id': '1693315800_15m_10_1_1', 'long_roi': 6.2756, 'short_roi': 0.232, 'ref': [0.149, -0.035, -0.1662, 0.0285, -0.0104, 0.0728, 0.1243, 0.0919, -0.126, 0.0146], 'tst': [0.1452, -0.041, -0.1955, 0.2475, 0.1176, 0.1048, -0.1507, -0.0141, 0.0763, 0.0129]}\n",
      "{'sm': 1.0, 'pattern_id': '1687780800_15m_10_1_1', 'long_roi': 1.0941, 'short_roi': 0.3112, 'ref': [0.0294, -0.2308, -0.233, 0.2061, 0.0337, 0.003, 0.0962, 0.0743, -0.0086, 0.0201], 'tst': [0.1452, -0.041, -0.1955, 0.2475, 0.1176, 0.1048, -0.1507, -0.0141, 0.0763, 0.0129]}\n",
      "{'sm': 1.0, 'pattern_id': '1680258600_15m_10_1_1', 'long_roi': 1.05, 'short_roi': 0.2591, 'ref': [0.1334, -0.1232, 0.0357, 0.1406, 0.1562, -0.0162, -0.1085, 0.0407, 0.0716, 0.3242], 'tst': [0.1452, -0.041, -0.1955, 0.2475, 0.1176, 0.1048, -0.1507, -0.0141, 0.0763, 0.0129]}\n",
      "{'sm': 1.0, 'pattern_id': '1676963700_15m_10_1_1', 'long_roi': 1.4038, 'short_roi': 1.9233, 'ref': [0.1214, -0.0751, 0.0896, 0.0277, 0.1437, 0.1174, -0.1305, 0.1335, 0.239, -0.0551], 'tst': [0.1452, -0.041, -0.1955, 0.2475, 0.1176, 0.1048, -0.1507, -0.0141, 0.0763, 0.0129]}\n",
      "{'sm': 1.0, 'pattern_id': '1676884500_15m_10_1_1', 'long_roi': 1.8977, 'short_roi': 0.6707, 'ref': [0.2865, -0.0947, -0.0409, 0.197, -0.0612, 0.0441, -0.1905, 0.0454, -0.0805, -0.0883], 'tst': [0.1452, -0.041, -0.1955, 0.2475, 0.1176, 0.1048, -0.1507, -0.0141, 0.0763, 0.0129]}\n",
      "{'sm': 1.0, 'pattern_id': '1676813400_15m_10_1_1', 'long_roi': 1.5311, 'short_roi': 0.1196, 'ref': [0.056, 0.0936, -0.1462, 0.0422, 0.1099, -0.0405, 0.0032, 0.0697, 0.0036, -0.0486], 'tst': [0.1452, -0.041, -0.1955, 0.2475, 0.1176, 0.1048, -0.1507, -0.0141, 0.0763, 0.0129]}\n",
      "{'sm': 1.0, 'pattern_id': '1676453400_15m_10_1_1', 'long_roi': 1.7202, 'short_roi': 0.0565, 'ref': [0.0945, 0.0813, -0.1215, -0.0977, 0.0421, 0.0081, -0.0819, -0.0439, 0.0312, 0.1005], 'tst': [0.1452, -0.041, -0.1955, 0.2475, 0.1176, 0.1048, -0.1507, -0.0141, 0.0763, 0.0129]}\n"
     ]
    }
   ],
   "source": [
    "for i in range(10):\n",
    "    print(sdbv[i*-1])"
   ]
  },
  {
   "cell_type": "code",
   "execution_count": 32,
   "metadata": {},
   "outputs": [
    {
     "data": {
      "text/plain": [
       "224"
      ]
     },
     "execution_count": 32,
     "metadata": {},
     "output_type": "execute_result"
    }
   ],
   "source": [
    "len(sdbv)"
   ]
  },
  {
   "cell_type": "code",
   "execution_count": 29,
   "metadata": {},
   "outputs": [
    {
     "data": {
      "text/plain": [
       "2207"
      ]
     },
     "execution_count": 29,
     "metadata": {},
     "output_type": "execute_result"
    }
   ],
   "source": [
    "len(sdbv)"
   ]
  },
  {
   "cell_type": "code",
   "execution_count": 6,
   "metadata": {},
   "outputs": [
    {
     "name": "stdout",
     "output_type": "stream",
     "text": [
      "0.0\n",
      "1.001176357269287\n",
      "2.0018222332000732\n",
      "3.002232313156128\n",
      "4.002963542938232\n"
     ]
    }
   ],
   "source": [
    "from time import sleep\n",
    "from time import time\n",
    "\n",
    "st = time()\n",
    "for i in range(5):\n",
    "    print(time()-st)\n",
    "    sleep(1)"
   ]
  },
  {
   "cell_type": "code",
   "execution_count": 5,
   "metadata": {},
   "outputs": [
    {
     "name": "stdout",
     "output_type": "stream",
     "text": [
      "[{'ts': 1714290300.0, 'ref': [0.1047, -0.0233, 0.1427, -0.0754, -0.1609, 0.2304, 0.0294, 0.1272, -0.1348, -0.0962], 'tst': [0.1033, -0.033, 0.1452, -0.041, -0.1955, 0.2475, 0.1176, 0.1048, -0.1507, -0.0141], 'sm': 0.3083}, {'ts': 1714289400.0, 'ref': [-0.0548, 0.1047, -0.0233, 0.1427, -0.0754, -0.1609, 0.2304, 0.0294, 0.1272, -0.1348], 'tst': [-0.1435, 0.1033, -0.033, 0.1452, -0.041, -0.1955, 0.2475, 0.1176, 0.1048, -0.1507], 'sm': 0.31490000000000007}, {'ts': 1707577200.0, 'ref': [-0.0309, 0.0354, -0.0061, -0.1938, 0.2505, 0.1128, 0.0935, -0.1113, -0.0478, -0.0047], 'tst': [-0.033, 0.1452, -0.041, -0.1955, 0.2475, 0.1176, 0.1048, -0.1507, -0.0141, 0.0763], 'sm': 0.32170000000000004}, {'ts': 1671252300.0, 'ref': [-0.2051, 0.2375, 0.1407, 0.0582, -0.1092, 0.0643, 0.0769, 0.0648, 0.1199, -0.0934], 'tst': [-0.1955, 0.2475, 0.1176, 0.1048, -0.1507, -0.0141, 0.0763, 0.0129, 0.1513, -0.0414], 'sm': 0.34509999999999996}, {'ts': 1714291200.0, 'ref': [-0.0233, 0.1427, -0.0754, -0.1609, 0.2304, 0.0294, 0.1272, -0.1348, -0.0962, 0.0218], 'tst': [-0.033, 0.1452, -0.041, -0.1955, 0.2475, 0.1176, 0.1048, -0.1507, -0.0141, 0.0763], 'sm': 0.3614}]\n"
     ]
    }
   ],
   "source": [
    "print(sdbv[0:5])"
   ]
  },
  {
   "cell_type": "code",
   "execution_count": 29,
   "metadata": {},
   "outputs": [
    {
     "data": {
      "text/plain": [
       "245006"
      ]
     },
     "execution_count": 29,
     "metadata": {},
     "output_type": "execute_result"
    }
   ],
   "source": [
    "len(sdbv)"
   ]
  },
  {
   "cell_type": "code",
   "execution_count": 3,
   "metadata": {},
   "outputs": [
    {
     "name": "stdout",
     "output_type": "stream",
     "text": [
      "{'ts': 1714290300.0, 'ref': [0.1047, -0.0233, 0.1427, -0.0754, -0.1609, 0.2304, 0.0294, 0.1272, -0.1348, -0.0962], 'tst': [0.1033, -0.033, 0.1452, -0.041, -0.1955, 0.2475, 0.1176, 0.1048, -0.1507, -0.0141], 'sm': 0.3083}\n",
      "{'ts': 1714289400.0, 'ref': [-0.0548, 0.1047, -0.0233, 0.1427, -0.0754, -0.1609, 0.2304, 0.0294, 0.1272, -0.1348], 'tst': [-0.1435, 0.1033, -0.033, 0.1452, -0.041, -0.1955, 0.2475, 0.1176, 0.1048, -0.1507], 'sm': 0.31490000000000007}\n",
      "{'ts': 1707577200.0, 'ref': [-0.0309, 0.0354, -0.0061, -0.1938, 0.2505, 0.1128, 0.0935, -0.1113, -0.0478, -0.0047], 'tst': [-0.033, 0.1452, -0.041, -0.1955, 0.2475, 0.1176, 0.1048, -0.1507, -0.0141, 0.0763], 'sm': 0.32170000000000004}\n",
      "{'ts': 1671252300.0, 'ref': [-0.2051, 0.2375, 0.1407, 0.0582, -0.1092, 0.0643, 0.0769, 0.0648, 0.1199, -0.0934], 'tst': [-0.1955, 0.2475, 0.1176, 0.1048, -0.1507, -0.0141, 0.0763, 0.0129, 0.1513, -0.0414], 'sm': 0.34509999999999996}\n",
      "{'ts': 1714291200.0, 'ref': [-0.0233, 0.1427, -0.0754, -0.1609, 0.2304, 0.0294, 0.1272, -0.1348, -0.0962, 0.0218], 'tst': [-0.033, 0.1452, -0.041, -0.1955, 0.2475, 0.1176, 0.1048, -0.1507, -0.0141, 0.0763], 'sm': 0.3614}\n",
      "{'ts': 1714292100.0, 'ref': [0.1427, -0.0754, -0.1609, 0.2304, 0.0294, 0.1272, -0.1348, -0.0962, 0.0218, -0.0016], 'tst': [0.1452, -0.041, -0.1955, 0.2475, 0.1176, 0.1048, -0.1507, -0.0141, 0.0763, 0.0129], 'sm': 0.3662}\n",
      "{'ts': 1699019100.0, 'ref': [-0.0026, 0.114, 0.0088, -0.1973, 0.3322, 0.1014, 0.1732, -0.1154, 0.0087, 0.1146], 'tst': [-0.033, 0.1452, -0.041, -0.1955, 0.2475, 0.1176, 0.1048, -0.1507, -0.0141, 0.0763], 'sm': 0.37889999999999996}\n",
      "{'ts': 1707578100.0, 'ref': [0.0354, -0.0061, -0.1938, 0.2505, 0.1128, 0.0935, -0.1113, -0.0478, -0.0047, 0.0789], 'tst': [0.1452, -0.041, -0.1955, 0.2475, 0.1176, 0.1048, -0.1507, -0.0141, 0.0763, 0.0129], 'sm': 0.38560000000000005}\n",
      "{'ts': 1648442700.0, 'ref': [-0.0137, 0.1489, 0.032, -0.12, 0.2064, 0.065, 0.1315, -0.2077, -0.0645, 0.0752], 'tst': [-0.033, 0.1452, -0.041, -0.1955, 0.2475, 0.1176, 0.1048, -0.1507, -0.0141, 0.0763], 'sm': 0.40040000000000003}\n",
      "{'ts': 1707576300.0, 'ref': [-0.0728, -0.0309, 0.0354, -0.0061, -0.1938, 0.2505, 0.1128, 0.0935, -0.1113, -0.0478], 'tst': [0.1033, -0.033, 0.1452, -0.041, -0.1955, 0.2475, 0.1176, 0.1048, -0.1507, -0.0141], 'sm': 0.4168}\n",
      "{'ts': 1644815700.0, 'ref': [-0.1806, 0.2618, 0.0809, 0.0935, 0.0479, -0.0055, 0.0757, -0.0148, 0.0569, -0.0585], 'tst': [-0.1955, 0.2475, 0.1176, 0.1048, -0.1507, -0.0141, 0.0763, 0.0129, 0.1513, -0.0414], 'sm': 0.42419999999999997}\n",
      "{'ts': 1705320000.0, 'ref': [-0.0536, 0.2036, -0.1796, -0.1368, 0.1659, -0.2979, 0.124, -0.0075, -0.0099, 0.2028], 'tst': [-0.096, 0.1428, -0.1951, -0.1208, 0.2339, -0.3064, 0.1438, 0.1687, -0.011, 0.2247], 'sm': 0.4302}\n",
      "{'ts': 1648441800.0, 'ref': [0.0701, -0.0137, 0.1489, 0.032, -0.12, 0.2064, 0.065, 0.1315, -0.2077, -0.0645], 'tst': [0.1033, -0.033, 0.1452, -0.041, -0.1955, 0.2475, 0.1176, 0.1048, -0.1507, -0.0141], 'sm': 0.43250000000000005}\n",
      "{'ts': 1667821500.0, 'ref': [0.0965, -0.0805, -0.2658, 0.2646, 0.15, 0.0467, -0.091, -0.054, 0.0694, -0.0525], 'tst': [0.1452, -0.041, -0.1955, 0.2475, 0.1176, 0.1048, -0.1507, -0.0141, 0.0763, 0.0129], 'sm': 0.438}\n",
      "{'ts': 1644813900.0, 'ref': [0.0532, -0.0017, -0.1806, 0.2618, 0.0809, 0.0935, 0.0479, -0.0055, 0.0757, -0.0148], 'tst': [0.1452, -0.041, -0.1955, 0.2475, 0.1176, 0.1048, -0.1507, -0.0141, 0.0763, 0.0129], 'sm': 0.444}\n",
      "{'ts': 1644814800.0, 'ref': [-0.0017, -0.1806, 0.2618, 0.0809, 0.0935, 0.0479, -0.0055, 0.0757, -0.0148, 0.0569], 'tst': [-0.041, -0.1955, 0.2475, 0.1176, 0.1048, -0.1507, -0.0141, 0.0763, 0.0129, 0.1513], 'sm': 0.44639999999999996}\n",
      "{'ts': 1667664000.0, 'ref': [0.1097, -0.0197, 0.183, -0.1047, -0.2622, 0.2427, 0.0508, 0.1175, -0.0249, -0.0695], 'tst': [0.1033, -0.033, 0.1452, -0.041, -0.1955, 0.2475, 0.1176, 0.1048, -0.1507, -0.0141], 'sm': 0.4534}\n",
      "{'ts': 1668788100.0, 'ref': [-0.2187, 0.0311, 0.1057, -0.5225, 0.0713, -0.284, 0.1688, 0.0948, -0.0012, 0.0641], 'tst': [-0.0082, 0.0303, 0.1514, -0.5416, 0.1393, -0.279, 0.1289, 0.0536, 0.0173, 0.0729], 'sm': 0.4575}\n",
      "{'ts': 1707579000.0, 'ref': [-0.0061, -0.1938, 0.2505, 0.1128, 0.0935, -0.1113, -0.0478, -0.0047, 0.0789, -0.0321], 'tst': [-0.041, -0.1955, 0.2475, 0.1176, 0.1048, -0.1507, -0.0141, 0.0763, 0.0129, 0.1513], 'sm': 0.45920000000000005}\n",
      "{'ts': 1647056700.0, 'ref': [-0.1867, 0.1196, -0.0278, 0.0659, -0.0867, -0.347, 0.205, 0.1279, 0.0409, -0.1529], 'tst': [-0.1435, 0.1033, -0.033, 0.1452, -0.041, -0.1955, 0.2475, 0.1176, 0.1048, -0.1507], 'sm': 0.46009999999999995}\n",
      "{'ts': 1667664900.0, 'ref': [-0.0197, 0.183, -0.1047, -0.2622, 0.2427, 0.0508, 0.1175, -0.0249, -0.0695, 0.054], 'tst': [-0.033, 0.1452, -0.041, -0.1955, 0.2475, 0.1176, 0.1048, -0.1507, -0.0141, 0.0763], 'sm': 0.46929999999999994}\n",
      "{'ts': 1671251400.0, 'ref': [-0.2221, -0.2051, 0.2375, 0.1407, 0.0582, -0.1092, 0.0643, 0.0769, 0.0648, 0.1199], 'tst': [-0.041, -0.1955, 0.2475, 0.1176, 0.1048, -0.1507, -0.0141, 0.0763, 0.0129, 0.1513], 'sm': 0.47419999999999995}\n",
      "{'ts': 1689795900.0, 'ref': [-0.0874, 0.1189, -0.0293, -0.1067, 0.201, 0.077, 0.1195, -0.0472, -0.0389, 0.0117], 'tst': [-0.033, 0.1452, -0.041, -0.1955, 0.2475, 0.1176, 0.1048, -0.1507, -0.0141, 0.0763], 'sm': 0.47589999999999993}\n",
      "{'ts': 1689796800.0, 'ref': [0.1189, -0.0293, -0.1067, 0.201, 0.077, 0.1195, -0.0472, -0.0389, 0.0117, -0.0416], 'tst': [0.1452, -0.041, -0.1955, 0.2475, 0.1176, 0.1048, -0.1507, -0.0141, 0.0763, 0.0129], 'sm': 0.4759999999999999}\n",
      "{'ts': 1667820600.0, 'ref': [0.0821, 0.0965, -0.0805, -0.2658, 0.2646, 0.15, 0.0467, -0.091, -0.054, 0.0694], 'tst': [-0.033, 0.1452, -0.041, -0.1955, 0.2475, 0.1176, 0.1048, -0.1507, -0.0141, 0.0763], 'sm': 0.48769999999999997}\n",
      "{'ts': 1695331800.0, 'ref': [-0.1301, 0.0693, 0.0011, 0.0429, -0.0805, -0.1332, 0.0807, 0.0998, 0.0914, -0.1455], 'tst': [-0.1435, 0.1033, -0.033, 0.1452, -0.041, -0.1955, 0.2475, 0.1176, 0.1048, -0.1507], 'sm': 0.4888}\n",
      "{'ts': 1684727100.0, 'ref': [0.1909, -0.0499, -0.262, 0.1392, 0.0748, 0.0691, -0.0289, 0.0139, 0.054, 0.0038], 'tst': [0.1452, -0.041, -0.1955, 0.2475, 0.1176, 0.1048, -0.1507, -0.0141, 0.0763, 0.0129], 'sm': 0.4891}\n",
      "{'ts': 1707103800.0, 'ref': [-0.1781, 0.34, 0.1405, 0.1095, -0.1395, -0.1357, 0.0976, -0.0049, 0.2036, 0.087], 'tst': [-0.1955, 0.2475, 0.1176, 0.1048, -0.1507, -0.0141, 0.0763, 0.0129, 0.1513, -0.0414], 'sm': 0.4901}\n",
      "{'ts': 1661760000.0, 'ref': [-0.0677, -0.1472, 0.2765, 0.0859, 0.1029, 0.0111, -0.0907, 0.059, 0.1109, 0.1516], 'tst': [-0.041, -0.1955, 0.2475, 0.1176, 0.1048, -0.1507, -0.0141, 0.0763, 0.0129, 0.1513], 'sm': 0.4916000000000001}\n",
      "{'ts': 1707579900.0, 'ref': [-0.1938, 0.2505, 0.1128, 0.0935, -0.1113, -0.0478, -0.0047, 0.0789, -0.0321, 0.0271], 'tst': [-0.1955, 0.2475, 0.1176, 0.1048, -0.1507, -0.0141, 0.0763, 0.0129, 0.1513, -0.0414], 'sm': 0.4928}\n",
      "{'ts': 1672203600.0, 'ref': [0.0528, -0.0767, -0.5499, 0.243, 0.0824, 0.0276, 0.0925, 0.0078, 0.0264, -0.0642], 'tst': [0.0788, -0.2011, -0.5752, 0.2088, 0.1272, 0.1737, 0.0688, 0.0179, 0.0266, -0.1226], 'sm': 0.4931999999999999}\n",
      "{'ts': 1680099300.0, 'ref': [0.1583, -0.1178, 0.0869, -0.0286, 0.3512, -0.0995, -0.1764, 0.2353, -0.0106, 0.094], 'tst': [0.1443, -0.1435, 0.1033, -0.033, 0.1452, -0.041, -0.1955, 0.2475, 0.1176, 0.1048], 'sm': 0.49529999999999996}\n",
      "{'ts': 1647057600.0, 'ref': [0.1196, -0.0278, 0.0659, -0.0867, -0.347, 0.205, 0.1279, 0.0409, -0.1529, -0.0961], 'tst': [0.1033, -0.033, 0.1452, -0.041, -0.1955, 0.2475, 0.1176, 0.1048, -0.1507, -0.0141], 'sm': 0.49889999999999995}\n",
      "{'ts': 1712364300.0, 'ref': [0.0903, 0.1316, -0.2304, 0.2783, 0.0411, 0.1082, -0.1388, -0.0394, 0.1047, 0.0732], 'tst': [0.1452, -0.041, -0.1955, 0.2475, 0.1176, 0.1048, -0.1507, -0.0141, 0.0763, 0.0129], 'sm': 0.499}\n",
      "{'ts': 1686571200.0, 'ref': [-0.0619, -0.1773, 0.1445, 0.0973, -0.0961, -0.1497, -0.022, -0.0281, 0.015, 0.1307], 'tst': [-0.041, -0.1955, 0.2475, 0.1176, 0.1048, -0.1507, -0.0141, 0.0763, 0.0129, 0.1513], 'sm': 0.49929999999999997}\n",
      "{'ts': 1617573600.0, 'ref': [0.0712, 0.1456, 0.0175, -0.227, 0.1931, 0.1384, 0.0732, -0.1045, 0.1033, 0.0399], 'tst': [-0.033, 0.1452, -0.041, -0.1955, 0.2475, 0.1176, 0.1048, -0.1507, -0.0141, 0.0763], 'sm': 0.5014000000000001}\n",
      "{'ts': 1649498400.0, 'ref': [0.0163, 0.2105, -0.0721, -0.1744, 0.2259, -0.0139, 0.0057, -0.1058, -0.0429, 0.0885], 'tst': [-0.033, 0.1452, -0.041, -0.1955, 0.2475, 0.1176, 0.1048, -0.1507, -0.0141, 0.0763], 'sm': 0.5049}\n",
      "{'ts': 1675336500.0, 'ref': [0.0202, -0.2042, 0.0905, 0.1304, 0.1348, -0.1422, 0.0168, -0.0189, -0.0849, 0.1467], 'tst': [-0.041, -0.1955, 0.2475, 0.1176, 0.1048, -0.1507, -0.0141, 0.0763, 0.0129, 0.1513], 'sm': 0.5066999999999999}\n",
      "{'ts': 1695333600.0, 'ref': [0.0011, 0.0429, -0.0805, -0.1332, 0.0807, 0.0998, 0.0914, -0.1455, 0.0444, 0.0843], 'tst': [-0.033, 0.1452, -0.041, -0.1955, 0.2475, 0.1176, 0.1048, -0.1507, -0.0141, 0.0763], 'sm': 0.5079}\n",
      "{'ts': 1617740100.0, 'ref': [0.0541, -0.1941, 0.1198, -0.0297, 0.1126, -0.1007, -0.2144, 0.1141, 0.1806, 0.0645], 'tst': [0.1443, -0.1435, 0.1033, -0.033, 0.1452, -0.041, -0.1955, 0.2475, 0.1176, 0.1048], 'sm': 0.5085}\n",
      "{'ts': 1634902200.0, 'ref': [-0.1601, -0.1254, -0.2225, 0.0636, -0.0651, -0.4951, 0.3343, 0.0813, 0.1998, 0.0793], 'tst': [-0.1182, -0.1072, -0.2131, 0.0788, -0.2011, -0.5752, 0.2088, 0.1272, 0.1737, 0.0688], 'sm': 0.5088}\n",
      "{'ts': 1708628400.0, 'ref': [0.1475, -0.0751, -0.0355, 0.2408, 0.168, 0.0424, -0.1525, -0.0503, 0.1434, 0.1016], 'tst': [0.1452, -0.041, -0.1955, 0.2475, 0.1176, 0.1048, -0.1507, -0.0141, 0.0763, 0.0129], 'sm': 0.5097}\n",
      "{'ts': 1700480700.0, 'ref': [0.1039, -0.0927, 0.1219, 0.0473, -0.1663, 0.2857, 0.07, 0.1901, -0.2151, -0.0882], 'tst': [0.1033, -0.033, 0.1452, -0.041, -0.1955, 0.2475, 0.1176, 0.1048, -0.1507, -0.0141], 'sm': 0.5106999999999999}\n",
      "{'ts': 1667819700.0, 'ref': [0.1349, 0.0821, 0.0965, -0.0805, -0.2658, 0.2646, 0.15, 0.0467, -0.091, -0.054], 'tst': [0.1033, -0.033, 0.1452, -0.041, -0.1955, 0.2475, 0.1176, 0.1048, -0.1507, -0.0141], 'sm': 0.5124}\n",
      "{'ts': 1687893300.0, 'ref': [-0.0514, -0.2456, 0.2257, 0.0199, 0.0775, -0.1934, 0.0483, 0.0685, -0.059, 0.0284], 'tst': [-0.041, -0.1955, 0.2475, 0.1176, 0.1048, -0.1507, -0.0141, 0.0763, 0.0129, 0.1513], 'sm': 0.5149999999999999}\n",
      "{'ts': 1630128600.0, 'ref': [-0.0166, 0.0828, -0.0417, -0.198, 0.1802, 0.0576, -0.0309, 0.0016, 0.0011, 0.0708], 'tst': [-0.033, 0.1452, -0.041, -0.1955, 0.2475, 0.1176, 0.1048, -0.1507, -0.0141, 0.0763], 'sm': 0.518}\n",
      "{'ts': 1696408200.0, 'ref': [-0.0493, -0.1351, 0.1115, 0.1132, 0.0368, -0.0678, 0.0595, 0.0937, -0.0146, 0.1097], 'tst': [-0.041, -0.1955, 0.2475, 0.1176, 0.1048, -0.1507, -0.0141, 0.0763, 0.0129, 0.1513], 'sm': 0.5201}\n",
      "{'ts': 1664890200.0, 'ref': [-0.0707, -0.1595, 0.1336, -0.0321, 0.1234, -0.0611, -0.1745, 0.333, 0.0676, 0.044], 'tst': [0.1443, -0.1435, 0.1033, -0.033, 0.1452, -0.041, -0.1955, 0.2475, 0.1176, 0.1048], 'sm': 0.5214000000000001}\n",
      "{'ts': 1669297500.0, 'ref': [-0.0363, 0.0369, 0.1632, -0.2589, 0.1053, -0.2043, 0.1478, 0.0302, 0.0345, 0.0979], 'tst': [-0.0082, 0.0303, 0.1514, -0.5416, 0.1393, -0.279, 0.1289, 0.0536, 0.0173, 0.0729], 'sm': 0.5224}\n",
      "{'ts': 1663914600.0, 'ref': [-0.0485, 0.1579, 0.0649, -0.0793, -0.1665, 0.1895, -0.2231, -0.0826, 0.1613, -0.2869], 'tst': [0.0291, 0.1116, 0.07, -0.1977, -0.096, 0.1428, -0.1951, -0.1208, 0.2339, -0.3064], 'sm': 0.5229000000000001}\n",
      "{'ts': 1693614600.0, 'ref': [-0.062, 0.0788, 0.0194, -0.1996, 0.0641, 0.1017, 0.0678, -0.0562, 0.0047, 0.0899], 'tst': [-0.033, 0.1452, -0.041, -0.1955, 0.2475, 0.1176, 0.1048, -0.1507, -0.0141, 0.0763], 'sm': 0.5231}\n",
      "{'ts': 1664597700.0, 'ref': [0.1672, -0.1211, 0.0686, -0.0588, 0.0696, -0.1283, -0.1254, 0.1932, 0.0758, 0.0165], 'tst': [0.1443, -0.1435, 0.1033, -0.033, 0.1452, -0.041, -0.1955, 0.2475, 0.1176, 0.1048], 'sm': 0.5231999999999999}\n",
      "{'ts': 1701564300.0, 'ref': [0.1582, -0.0903, -0.134, 0.1182, 0.1026, 0.0563, -0.0436, -0.0041, 0.0545, -0.0573], 'tst': [0.1452, -0.041, -0.1955, 0.2475, 0.1176, 0.1048, -0.1507, -0.0141, 0.0763, 0.0129], 'sm': 0.5257}\n",
      "{'ts': 1690449300.0, 'ref': [-0.0772, 0.1185, 0.0531, 0.0863, -0.161, 0.0143, 0.0646, -0.0438, 0.1653, 0.0339], 'tst': [-0.1955, 0.2475, 0.1176, 0.1048, -0.1507, -0.0141, 0.0763, 0.0129, 0.1513, -0.0414], 'sm': 0.5267000000000001}\n",
      "{'ts': 1647055800.0, 'ref': [0.2132, -0.1867, 0.1196, -0.0278, 0.0659, -0.0867, -0.347, 0.205, 0.1279, 0.0409], 'tst': [0.1443, -0.1435, 0.1033, -0.033, 0.1452, -0.041, -0.1955, 0.2475, 0.1176, 0.1048], 'sm': 0.5268}\n",
      "{'ts': 1680161400.0, 'ref': [-0.1267, -0.1861, 0.3599, 0.0696, 0.078, -0.1443, 0.0304, 0.0511, -0.0787, 0.2292], 'tst': [-0.041, -0.1955, 0.2475, 0.1176, 0.1048, -0.1507, -0.0141, 0.0763, 0.0129, 0.1513], 'sm': 0.5278999999999999}\n",
      "{'ts': 1617981300.0, 'ref': [0.0923, 0.0684, 0.0792, 0.1497, -0.5175, 0.0201, -0.3077, 0.2057, 0.0343, -0.0016], 'tst': [0.2069, -0.0082, 0.0303, 0.1514, -0.5416, 0.1393, -0.279, 0.1289, 0.0536, 0.0173], 'sm': 0.5287999999999999}\n",
      "{'ts': 1701565200.0, 'ref': [-0.0903, -0.134, 0.1182, 0.1026, 0.0563, -0.0436, -0.0041, 0.0545, -0.0573, 0.1352], 'tst': [-0.041, -0.1955, 0.2475, 0.1176, 0.1048, -0.1507, -0.0141, 0.0763, 0.0129, 0.1513], 'sm': 0.5287999999999999}\n",
      "{'ts': 1704659400.0, 'ref': [0.0967, -0.0029, 0.1018, -0.1235, -0.0565, 0.1884, 0.1019, 0.1079, -0.04, -0.054], 'tst': [0.1033, -0.033, 0.1452, -0.041, -0.1955, 0.2475, 0.1176, 0.1048, -0.1507, -0.0141], 'sm': 0.5301}\n",
      "{'ts': 1712366100.0, 'ref': [-0.2304, 0.2783, 0.0411, 0.1082, -0.1388, -0.0394, 0.1047, 0.0732, -0.0208, -0.1296], 'tst': [-0.1955, 0.2475, 0.1176, 0.1048, -0.1507, -0.0141, 0.0763, 0.0129, 0.1513, -0.0414], 'sm': 0.5318}\n",
      "{'ts': 1707820200.0, 'ref': [0.1327, 0.0254, 0.1156, -0.0106, -0.184, 0.1418, 0.0192, 0.1951, -0.1648, -0.0796], 'tst': [0.1033, -0.033, 0.1452, -0.041, -0.1955, 0.2475, 0.1176, 0.1048, -0.1507, -0.0141], 'sm': 0.5333}\n",
      "{'ts': 1627670700.0, 'ref': [0.1646, -0.043, -0.2026, 0.219, 0.0445, 0.0059, 0.0227, 0.0333, 0.1078, -0.0392], 'tst': [0.1452, -0.041, -0.1955, 0.2475, 0.1176, 0.1048, -0.1507, -0.0141, 0.0763, 0.0129], 'sm': 0.5334}\n",
      "{'ts': 1695332700.0, 'ref': [0.0693, 0.0011, 0.0429, -0.0805, -0.1332, 0.0807, 0.0998, 0.0914, -0.1455, 0.0444], 'tst': [0.1033, -0.033, 0.1452, -0.041, -0.1955, 0.2475, 0.1176, 0.1048, -0.1507, -0.0141], 'sm': 0.5339}\n",
      "{'ts': 1688592600.0, 'ref': [-0.0141, 0.0069, -0.0512, -0.1821, 0.0158, 0.1045, 0.0788, -0.1001, -0.021, 0.1025], 'tst': [-0.033, 0.1452, -0.041, -0.1955, 0.2475, 0.1176, 0.1048, -0.1507, -0.0141, 0.0763], 'sm': 0.5353}\n",
      "{'ts': 1681333200.0, 'ref': [-0.0354, -0.0976, -0.1512, -0.1537, 0.1915, -0.2598, 0.1316, 0.1452, 0.0037, 0.2065], 'tst': [-0.096, 0.1428, -0.1951, -0.1208, 0.2339, -0.3064, 0.1438, 0.1687, -0.011, 0.2247], 'sm': 0.5354}\n",
      "{'ts': 1716932700.0, 'ref': [0.0193, 0.1702, 0.0984, 0.0703, -0.2134, -0.0692, 0.0701, -0.0418, 0.1588, -0.0449], 'tst': [-0.1955, 0.2475, 0.1176, 0.1048, -0.1507, -0.0141, 0.0763, 0.0129, 0.1513, -0.0414], 'sm': 0.5355000000000001}\n",
      "{'ts': 1697072400.0, 'ref': [0.1357, -0.0444, -0.0246, 0.1976, 0.091, 0.0626, -0.1277, -0.0526, -0.0649, -0.0175], 'tst': [0.1452, -0.041, -0.1955, 0.2475, 0.1176, 0.1048, -0.1507, -0.0141, 0.0763, 0.0129], 'sm': 0.5356}\n",
      "{'ts': 1649499300.0, 'ref': [0.2105, -0.0721, -0.1744, 0.2259, -0.0139, 0.0057, -0.1058, -0.0429, 0.0885, -0.0672], 'tst': [0.1452, -0.041, -0.1955, 0.2475, 0.1176, 0.1048, -0.1507, -0.0141, 0.0763, 0.0129], 'sm': 0.5357}\n",
      "{'ts': 1662373800.0, 'ref': [-0.1266, 0.2871, -0.0192, -0.001, -0.1366, -0.0091, 0.0856, -0.0046, 0.0648, -0.0941], 'tst': [-0.1955, 0.2475, 0.1176, 0.1048, -0.1507, -0.0141, 0.0763, 0.0129, 0.1513, -0.0414], 'sm': 0.5362}\n",
      "{'ts': 1616267700.0, 'ref': [-0.3453, 0.0837, 0.1407, 0.0449, -0.1123, 0.1499, 0.2147, -0.1842, -0.1119, 0.1924], 'tst': [-0.2334, 0.0639, 0.0635, 0.0594, -0.1268, 0.1941, 0.1845, -0.3609, -0.1249, 0.227], 'sm': 0.5366}\n",
      "{'ts': 1640212200.0, 'ref': [0.1144, -0.1372, 0.1187, -0.0352, -0.1412, 0.1779, 0.0123, 0.1128, -0.2833, -0.0338], 'tst': [0.1033, -0.033, 0.1452, -0.041, -0.1955, 0.2475, 0.1176, 0.1048, -0.1507, -0.0141], 'sm': 0.5370999999999999}\n",
      "{'ts': 1668789000.0, 'ref': [0.0311, 0.1057, -0.5225, 0.0713, -0.284, 0.1688, 0.0948, -0.0012, 0.0641, -0.1018], 'tst': [0.0303, 0.1514, -0.5416, 0.1393, -0.279, 0.1289, 0.0536, 0.0173, 0.0729, -0.3921], 'sm': 0.5372999999999999}\n",
      "{'ts': 1653117300.0, 'ref': [-0.0226, 0.0626, -0.1425, 0.1451, 0.028, -0.1661, 0.3029, 0.0331, 0.0911, -0.1346], 'tst': [-0.1435, 0.1033, -0.033, 0.1452, -0.041, -0.1955, 0.2475, 0.1176, 0.1048, -0.1507], 'sm': 0.5393000000000001}\n",
      "{'ts': 1653116400.0, 'ref': [0.125, -0.0226, 0.0626, -0.1425, 0.1451, 0.028, -0.1661, 0.3029, 0.0331, 0.0911], 'tst': [0.1443, -0.1435, 0.1033, -0.033, 0.1452, -0.041, -0.1955, 0.2475, 0.1176, 0.1048], 'sm': 0.5425000000000001}\n",
      "{'ts': 1693615500.0, 'ref': [0.0788, 0.0194, -0.1996, 0.0641, 0.1017, 0.0678, -0.0562, 0.0047, 0.0899, -0.0364], 'tst': [0.1452, -0.041, -0.1955, 0.2475, 0.1176, 0.1048, -0.1507, -0.0141, 0.0763, 0.0129], 'sm': 0.5434000000000001}\n",
      "{'ts': 1662352200.0, 'ref': [0.0368, -0.058, 0.115, -0.0418, -0.1492, 0.2397, 0.0967, -0.0367, 0.0257, -0.0423], 'tst': [0.1033, -0.033, 0.1452, -0.041, -0.1955, 0.2475, 0.1176, 0.1048, -0.1507, -0.0141], 'sm': 0.5436000000000001}\n",
      "{'ts': 1648440900.0, 'ref': [0.0186, 0.0701, -0.0137, 0.1489, 0.032, -0.12, 0.2064, 0.065, 0.1315, -0.2077], 'tst': [-0.1435, 0.1033, -0.033, 0.1452, -0.041, -0.1955, 0.2475, 0.1176, 0.1048, -0.1507], 'sm': 0.5442}\n",
      "{'ts': 1679814900.0, 'ref': [0.1252, 0.0527, -0.1766, 0.1278, 0.0898, -0.0193, -0.1388, -0.0702, 0.051, 0.0611], 'tst': [0.1452, -0.041, -0.1955, 0.2475, 0.1176, 0.1048, -0.1507, -0.0141, 0.0763, 0.0129], 'sm': 0.5456999999999999}\n",
      "{'ts': 1693613700.0, 'ref': [0.1406, -0.062, 0.0788, 0.0194, -0.1996, 0.0641, 0.1017, 0.0678, -0.0562, 0.0047], 'tst': [0.1033, -0.033, 0.1452, -0.041, -0.1955, 0.2475, 0.1176, 0.1048, -0.1507, -0.0141], 'sm': 0.5468000000000001}\n",
      "{'ts': 1707462000.0, 'ref': [0.1278, -0.1235, -0.0342, 0.2996, 0.1969, 0.195, -0.1512, -0.0437, 0.0487, 0.0061], 'tst': [0.1452, -0.041, -0.1955, 0.2475, 0.1176, 0.1048, -0.1507, -0.0141, 0.0763, 0.0129], 'sm': 0.5472999999999999}\n",
      "{'ts': 1676484000.0, 'ref': [-0.1116, 0.289, 0.1404, -0.0298, -0.152, -0.1646, 0.1103, 0.029, 0.0974, -0.0509], 'tst': [-0.1955, 0.2475, 0.1176, 0.1048, -0.1507, -0.0141, 0.0763, 0.0129, 0.1513, -0.0414], 'sm': 0.5480999999999999}\n",
      "{'ts': 1687894200.0, 'ref': [-0.2456, 0.2257, 0.0199, 0.0775, -0.1934, 0.0483, 0.0685, -0.059, 0.0284, -0.0851], 'tst': [-0.1955, 0.2475, 0.1176, 0.1048, -0.1507, -0.0141, 0.0763, 0.0129, 0.1513, -0.0414], 'sm': 0.5482999999999999}\n",
      "{'ts': 1690448400.0, 'ref': [-0.1383, -0.0772, 0.1185, 0.0531, 0.0863, -0.161, 0.0143, 0.0646, -0.0438, 0.1653], 'tst': [-0.041, -0.1955, 0.2475, 0.1176, 0.1048, -0.1507, -0.0141, 0.0763, 0.0129, 0.1513], 'sm': 0.5487000000000001}\n",
      "{'ts': 1667663100.0, 'ref': [-0.2948, 0.1097, -0.0197, 0.183, -0.1047, -0.2622, 0.2427, 0.0508, 0.1175, -0.0249], 'tst': [-0.1435, 0.1033, -0.033, 0.1452, -0.041, -0.1955, 0.2475, 0.1176, 0.1048, -0.1507], 'sm': 0.5492999999999999}\n",
      "{'ts': 1662351300.0, 'ref': [-0.1093, 0.0368, -0.058, 0.115, -0.0418, -0.1492, 0.2397, 0.0967, -0.0367, 0.0257], 'tst': [-0.1435, 0.1033, -0.033, 0.1452, -0.041, -0.1955, 0.2475, 0.1176, 0.1048, -0.1507], 'sm': 0.5496}\n",
      "{'ts': 1664598600.0, 'ref': [-0.1211, 0.0686, -0.0588, 0.0696, -0.1283, -0.1254, 0.1932, 0.0758, 0.0165, -0.2004], 'tst': [-0.1435, 0.1033, -0.033, 0.1452, -0.041, -0.1955, 0.2475, 0.1176, 0.1048, -0.1507], 'sm': 0.5499999999999999}\n",
      "{'ts': 1616266800.0, 'ref': [0.3042, -0.3453, 0.0837, 0.1407, 0.0449, -0.1123, 0.1499, 0.2147, -0.1842, -0.1119], 'tst': [0.2555, -0.2334, 0.0639, 0.0635, 0.0594, -0.1268, 0.1941, 0.1845, -0.3609, -0.1249], 'sm': 0.5507}\n",
      "{'ts': 1691093700.0, 'ref': [-0.0729, -0.1222, 0.0298, 0.0624, 0.1654, -0.1046, 0.0305, 0.0951, 0.015, 0.1531], 'tst': [-0.041, -0.1955, 0.2475, 0.1176, 0.1048, -0.1507, -0.0141, 0.0763, 0.0129, 0.1513], 'sm': 0.5521}\n",
      "{'ts': 1650176100.0, 'ref': [-0.0875, 0.1298, 0.0651, 0.0102, -0.0774, 0.0164, 0.0472, -0.0069, 0.139, -0.027], 'tst': [-0.1955, 0.2475, 0.1176, 0.1048, -0.1507, -0.0141, 0.0763, 0.0129, 0.1513, -0.0414], 'sm': 0.5522}\n",
      "{'ts': 1697070600.0, 'ref': [0.0322, 0.0842, 0.1357, -0.0444, -0.0246, 0.1976, 0.091, 0.0626, -0.1277, -0.0526], 'tst': [0.1033, -0.033, 0.1452, -0.041, -0.1955, 0.2475, 0.1176, 0.1048, -0.1507, -0.0141], 'sm': 0.5523}\n",
      "{'ts': 1617741000.0, 'ref': [-0.1941, 0.1198, -0.0297, 0.1126, -0.1007, -0.2144, 0.1141, 0.1806, 0.0645, -0.0158], 'tst': [-0.1435, 0.1033, -0.033, 0.1452, -0.041, -0.1955, 0.2475, 0.1176, 0.1048, -0.1507], 'sm': 0.5532}\n",
      "{'ts': 1661002200.0, 'ref': [-0.033, 0.1273, 0.0358, -0.121, 0.0697, 0.1243, 0.0282, -0.1829, 0.0725, 0.0805], 'tst': [-0.033, 0.1452, -0.041, -0.1955, 0.2475, 0.1176, 0.1048, -0.1507, -0.0141, 0.0763], 'sm': 0.5533}\n",
      "{'ts': 1714631400.0, 'ref': [0.0547, 0.1638, -0.1608, -0.1177, 0.126, -0.2878, 0.1295, 0.19, 0.1584, 0.2375], 'tst': [-0.096, 0.1428, -0.1951, -0.1208, 0.2339, -0.3064, 0.1438, 0.1687, -0.011, 0.2247], 'sm': 0.5533999999999999}\n",
      "{'ts': 1667832300.0, 'ref': [-0.2873, 0.1919, 0.138, -0.0371, -0.1509, -0.0386, 0.029, -0.0217, 0.0314, -0.0608], 'tst': [-0.1955, 0.2475, 0.1176, 0.1048, -0.1507, -0.0141, 0.0763, 0.0129, 0.1513, -0.0414], 'sm': 0.5556}\n",
      "{'ts': 1648285200.0, 'ref': [-0.079, 0.0297, -0.063, -0.0408, 0.1508, 0.0873, 0.0717, -0.1696, 0.0065, 0.0947], 'tst': [-0.033, 0.1452, -0.041, -0.1955, 0.2475, 0.1176, 0.1048, -0.1507, -0.0141, 0.0763], 'sm': 0.5561999999999999}\n",
      "{'ts': 1636300800.0, 'ref': [0.1253, -0.2461, 0.133, 0.1074, -0.2437, -0.1013, 0.2019, -0.323, 0.1972, 0.1505], 'tst': [0.07, -0.1977, -0.096, 0.1428, -0.1951, -0.1208, 0.2339, -0.3064, 0.1438, 0.1687], 'sm': 0.5563999999999999}\n",
      "{'ts': 1665246600.0, 'ref': [-0.0293, -0.15, 0.2048, 0.078, -0.0334, -0.1196, 0.0678, 0.0329, 0.021, 0.0364], 'tst': [-0.041, -0.1955, 0.2475, 0.1176, 0.1048, -0.1507, -0.0141, 0.0763, 0.0129, 0.1513], 'sm': 0.5571}\n",
      "{'ts': 1714288500.0, 'ref': [-0.1158, -0.0548, 0.1047, -0.0233, 0.1427, -0.0754, -0.1609, 0.2304, 0.0294, 0.1272], 'tst': [0.1443, -0.1435, 0.1033, -0.033, 0.1452, -0.041, -0.1955, 0.2475, 0.1176, 0.1048], 'sm': 0.5590999999999999}\n",
      "{'ts': 1677116700.0, 'ref': [-0.0273, -0.2052, 0.1998, 0.0939, -0.0868, -0.1237, -0.104, 0.0867, 0.0141, 0.0058], 'tst': [-0.041, -0.1955, 0.2475, 0.1176, 0.1048, -0.1507, -0.0141, 0.0763, 0.0129, 0.1513], 'sm': 0.5603999999999999}\n",
      "{'ts': 1703423700.0, 'ref': [0.1838, -0.0635, 0.1661, -0.0845, 0.0999, -0.0144, -0.1578, 0.203, -0.0053, 0.0549], 'tst': [0.1443, -0.1435, 0.1033, -0.033, 0.1452, -0.041, -0.1955, 0.2475, 0.1176, 0.1048], 'sm': 0.5607}\n"
     ]
    }
   ],
   "source": [
    "for i in range(100):\n",
    "    print(sdbv[i])"
   ]
  },
  {
   "cell_type": "code",
   "execution_count": null,
   "metadata": {},
   "outputs": [],
   "source": [
    "import matplotlib.pyplot as plt\n",
    "\n",
    "def plot_lists(tst_lsts, ref_lst, tst_lst, label1='List 1', label2='List 2', title='Line Graph', xlabel='X-axis', ylabel='Y-axis'):\n",
    "    plt.figure(figsize=(10, 6))\n",
    "    plt.plot(ref_lst, label=label1, marker='o')\n",
    "    plt.plot(tst_lst, label=label2, marker='x')\n",
    "    for i in tst_lsts:\n",
    "        plt.plot(i, label=label2, marker='x')\n",
    "    plt.title(title)\n",
    "    plt.xlabel(xlabel)\n",
    "    plt.ylabel(ylabel)\n",
    "    plt.legend()\n",
    "    plt.grid(True)\n",
    "    plt.show()\n",
    "\n",
    "# Example usage\n",
    "ref_lst = [0.1393, -0.279, 0.1289, 0.0536, 0.0173, 0.0729, -0.3921, 0.331, -0.0669, -0.8499]\n",
    "tst_lst = [0.1627, -0.3479, -0.0267, -0.1921, 0.0222, 0.1822, 0.036, 0.2573, -0.1122, -0.7797]\n",
    "tst_lsts = [[0.1393, -0.279, 0.1289, 0.0536, 0.0173, 0.0729, -0.3921, 0.331, -0.0669, -0.8499], [0.1339, -0.2712, 0.1238, 0.11, -0.0212, 0.1032, -0.4732, -0.1148, 0.278, -0.763], [-0.2349, -0.0012, 0.107, 0.0887, -0.0334, 0.087, -0.3967, 0.1344, -0.1688, -0.8242], [0.0698, -0.2854, -0.074, -0.0168, -0.0024, 0.1081, -0.438, -0.0103, 0.042, -0.6446], [0.2045, -0.2967, 0.0766, 0.0257, 0.133, -0.0037, -0.3916, -0.1858, -0.2335, -0.7369], [0.1061, -0.3776, 0.0746, 0.0418, 0.0291, 0.1158, -0.2508, 0.1434, -0.231, -0.4328], [0.1317, -0.0052, 0.1327, -0.0427, 0.0961, 0.2314, -0.1699, 0.3709, -0.1205, -0.6201], [0.0528, -0.1169, -0.1639, 0.0529, 0.0199, 0.093, -0.4968, 0.0811, -0.0742, -1.1212], [0.1627, -0.3479, -0.0267, -0.1921, 0.0222, 0.1822, 0.036, 0.2573, -0.1122, -0.7797], [0.0352, -0.2445, 0.2051, 0.0843, -0.0346, -0.0835, -0.1908, 0.1057, -0.0711, -0.4893], [-0.1001, -0.219, 0.3287, 0.1449, 0.0267, 0.0495, -0.0306, 0.1839, -0.0741, -0.9654], [0.0535, -0.1236, 0.1096, 0.1261, -0.1683, 0.064, -0.3994, 0.2862, 0.0097, -0.2452], [0.1355, -0.1066, 0.1541, -0.0446, -0.0685, -0.0274, -0.2238, -0.0505, -0.0708, -0.6247], [0.1403, -0.2584, 0.1304, -0.0171, -0.0685, 0.2828, -0.0405, 0.3866, -0.119, -0.4333], [0.0534, -0.0371, 0.1572, -0.0417, -0.2144, -0.0029, -0.2381, 0.0914, 0.0035, -0.8989], [0.1215, -0.2896, 0.2137, 0.0328, 0.0702, 0.0224, -0.2786, 0.3614, -0.1701, -0.0532], [-0.0422, -0.089, 0.0389, 0.1817, 0.0156, 0.145, -0.172, 0.3351, -0.0301, -0.4854], [-0.0714, -0.1694, 0.1079, -0.0154, -0.1311, -0.003, -0.2569, 0.1387, -0.112, -0.552], [-0.0748, -0.3086, 0.0798, 0.0623, -0.048, -0.1394, -0.2492, 0.3116, -0.2054, -0.4166], [0.0151, -0.2743, 0.0654, 0.0146, -0.0517, 0.0617, -0.1254, 0.1941, -0.0982, -0.2827], [0.1758, -0.3531, 0.1766, 0.1337, 0.0227, -0.0673, -0.4331, -0.0484, -0.2082, -0.4752], [0.1332, -0.2361, 0.182, 0.0505, -0.0122, -0.0509, -0.2213, 0.1685, -0.0362, -0.1515], [0.0872, -0.2519, 0.0529, -0.124, -0.0283, 0.0541, -0.0876, 0.1342, -0.2334, -0.5829], [0.1434, -0.3073, 0.0312, -0.1984, -0.2567, 0.0118, 0.0264, 0.1361, -0.0648, -0.8479], [0.133, -0.3083, 0.0281, 0.0106, -0.0258, -0.1042, -0.048, 0.1394, -0.0595, -0.4538], [0.0117, -0.0792, 0.1019, 0.0909, -0.0485, 0.1139, -0.0778, 0.0879, -0.0452, -0.5857], [0.0459, -0.0059, 0.1268, 0.0986, 0.0168, -0.2569, -0.3616, 0.2247, -0.041, -0.4115], [0.0527, -0.1985, -0.0047, -0.0341, -0.2311, 0.2574, -0.5896, 0.2249, -0.0717, -0.633], [0.1056, -0.2062, 0.1376, -0.1098, 0.2997, 0.0281, -0.1856, 0.1757, -0.021, -0.5138], [0.1447, -0.229, 0.1284, -0.1325, 0.1186, -0.2619, -0.2538, 0.0725, 0.0072, -1.0507], [-0.1122, -0.069, 0.1589, 0.1313, 0.0445, 0.0285, -0.2318, 0.139, -0.0754, -0.4923], [0.0825, 0.076, -0.0508, -0.1958, 0.0289, 0.067, -0.2372, 0.1146, -0.1605, -0.8109], [0.016, -0.2411, -0.0984, 0.0193, 0.0685, -0.0154, -0.4741, 0.145, 0.0788, -0.4628], [0.1414, -0.0247, 0.0802, 0.031, -0.0135, 0.2477, -0.3355, -0.1099, -0.078, -0.5183], [0.0783, -0.1491, -0.1434, -0.0636, -0.2592, -0.1233, -0.3365, 0.2516, -0.1969, -0.909], [0.1446, -0.3412, 0.0015, 0.0549, -0.1011, 0.0482, -0.4353, 0.1749, -0.1071, -0.0491], [0.0679, -0.0108, -0.063, 0.0313, 0.022, 0.1779, -0.3361, 0.3616, 0.1057, -0.39], [0.0014, -0.0202, 0.0513, 0.0715, 0.0735, 0.1609, -0.2323, -0.0581, -0.1662, -0.9525], [0.0727, -0.2555, 0.0333, 0.2598, 0.0116, 0.1378, -0.3753, 0.0679, -0.2233, -0.3584], [0.1504, -0.0833, 0.0073, -0.0879, -0.0413, 0.0165, -0.0888, 0.1345, -0.0918, -0.5684], [-0.0989, -0.1574, 0.1032, 0.055, -0.1942, 0.0273, 0.0908, 0.3317, 0.0941, -0.7467], [0.0713, -0.284, 0.1688, 0.0948, -0.0012, 0.0641, -0.1018, -0.0761, -0.1278, -0.3935], [0.1034, -0.0008, 0.1699, 0.1697, 0.2065, 0.2378, -0.3933, 0.025, 0.067, -0.7194], [0.0858, -0.039, 0.0252, 0.0066, 0.1109, 0.0665, -0.0066, -0.0257, -0.0138, -0.7897], [0.1399, -0.1216, -0.0296, -0.2803, 0.1379, 0.0975, 0.1562, 0.3358, -0.097, -0.8289], [0.1189, -0.1856, 0.1813, 0.1941, -0.1176, 0.1516, -0.493, 0.1101, -0.0305, -0.3248], [0.1033, -0.1557, 0.0673, 0.0659, -0.05, 0.0689, -0.4118, 0.2049, 0.0897, -0.0512], [0.0655, -0.1873, 0.1597, 0.0965, -0.1312, 0.0378, -0.413, 0.0335, 0.0784, -0.3266], [-0.194, -0.2508, 0.1919, 0.0684, -0.0436, -0.0021, -0.2253, 0.2453, 0.1666, -0.5004], [-0.1153, -0.2231, 0.1334, -0.0135, 0.0692, -0.1727, -0.3487, 0.249, 0.0527, -0.3619], [0.2373, -0.1852, 0.3377, 0.1608, -0.1439, 0.0452, -0.2209, 0.0262, -0.1227, -1.035], [0.0275, -0.1591, -0.0146, 0.1989, -0.0292, 0.0742, -0.1521, -0.1734, -0.04, -0.9281], [0.0663, 0.0265, 0.0997, 0.2044, -0.0902, 0.1633, -0.3674, 0.1873, 0.1273, -0.5506], [0.163, 0.1733, -0.0085, -0.0166, -0.0647, 0.0759, -0.2448, 0.2944, 0.0628, -0.5131], [0.2267, -0.2218, 0.3966, -0.0557, 0.1951, 0.0999, -0.1821, -0.024, -0.1184, -0.9269], [0.1038, 0.0207, 0.0445, 0.016, 0.0375, -0.0733, -0.1463, 0.0549, 0.0272, -0.6588], [0.1286, -0.1026, -0.1262, -0.1124, -0.1299, 0.0573, -0.6238, 0.1259, -0.0769, -1.066], [0.1785, -0.1751, -0.0434, 0.08, -0.1361, -0.3022, 0.0571, 0.286, -0.0138, -0.8322], [-0.0224, -0.2242, -0.0295, 0.1197, 0.0011, 0.1133, -0.0119, 0.02, -0.0098, -1.0395], [0.097, 0.0532, 0.0477, -0.0702, -0.004, 0.0771, -0.1989, -0.0568, 0.0244, -0.6899], [0.1835, -0.166, 0.0922, 0.0875, 0.0081, -0.2042, -0.0648, -0.0263, 0.1078, -0.9151], [0.0115, -0.3522, 0.1618, -0.0711, 0.0553, -0.038, -0.055, 0.2093, -0.1065, -0.4138], [-0.1678, -0.1693, 0.1565, -0.0172, 0.1806, 0.1139, -0.2891, 0.2305, -0.0777, -0.3405], [0.1803, -0.1846, 0.2212, -0.0702, 0.1304, 0.028, -0.1793, 0.3369, -0.1149, -0.1686], [0.1552, -0.2507, 0.1214, -0.0517, -0.0874, 0.1568, -0.0975, 0.2034, 0.0889, -0.3144], [0.1444, -0.1781, 0.1438, 0.1817, 0.0288, 0.034, -0.1058, 0.4046, -0.2183, -0.1982], [0.1179, -0.2092, 0.1701, 0.113, -0.0284, 0.0704, -0.1848, 0.1851, -0.0446, 0.0], [0.0848, -0.102, 0.053, 0.1001, 0.2153, -0.1013, -0.1182, 0.3213, -0.2275, -0.5544], [-0.0668, -0.0977, 0.058, 0.0777, 0.0266, -0.0248, -0.1126, 0.2475, -0.0714, -0.3396], [0.1455, -0.1721, 0.0925, 0.1048, -0.1617, 0.0134, 0.1881, 0.0896, -0.0703, -0.6458], [0.126, -0.0619, 0.2471, 0.0923, 0.159, 0.1996, -0.2086, 0.1424, -0.0371, -0.438], [0.2475, 0.1176, 0.1048, -0.1507, -0.0141, 0.0763, 0.0129, 0.1513, -0.0414, -0.9417], [-0.1598, -0.2982, 0.0543, 0.0299, 0.0348, 0.1723, -0.1856, -0.0496, -0.0758, -0.5093], [0.1415, -0.0673, -0.0252, -0.0118, 0.1751, 0.0702, -0.2925, 0.2145, -0.0691, -0.1908], [0.115, -0.2823, 0.0646, 0.0606, 0.0856, -0.014, -0.0045, 0.214, -0.1816, -0.2514], [0.1189, -0.2227, -0.0241, -0.0322, -0.035, -0.0266, -0.5637, 0.2393, -0.0497, -0.1241], [0.2034, -0.0096, -0.0904, -0.0751, -0.0061, -0.3214, -0.2935, 0.2794, 0.0597, -0.752], [0.1139, -0.2576, -0.022, -0.3431, 0.1545, 0.1139, -0.0681, 0.1239, 0.0313, -0.9227], [-0.106, -0.2441, -0.0338, -0.1383, -0.1478, 0.1243, -0.4305, 0.2266, -0.2433, -0.5437], [0.4014, -0.0747, 0.1168, 0.0498, -0.0315, -0.1142, -0.1131, 0.0363, -0.1119, -0.7057], [0.2265, -0.2308, 0.1009, 0.2029, -0.1601, -0.1254, -0.2225, 0.0636, -0.0651, -0.4951], [0.0035, -0.2437, 0.1432, 0.3047, 0.0655, -0.0039, -0.2498, -0.1196, -0.0985, -0.5507], [0.0873, -0.2658, 0.1597, -0.5172, 0.1319, 0.0426, 0.0137, 0.1311, -0.0974, -0.8097], [0.1326, -0.2559, -0.0071, 0.121, -0.057, -0.0019, -0.0012, 0.3533, -0.1426, -0.2307], [0.1449, -0.3811, -0.013, 0.1151, -0.0272, 0.1165, -0.1316, 0.0931, -0.0803, -0.2695], [0.1613, -0.2869, -0.0419, 0.044, -0.2945, 0.1163, -0.3266, -0.0499, -0.0552, -0.377], [0.0598, 0.0626, 0.0039, 0.0265, -0.1866, -0.0326, -0.3089, 0.165, -0.0671, -0.4851], [0.0162, -0.0832, 0.0509, 0.003, 0.0128, 0.0094, 0.0659, 0.2836, 0.0698, -0.5097], [0.1423, -0.4407, 0.12, -0.1473, 0.1442, 0.0582, -0.3553, 0.1455, -0.0626, -0.0946], [0.1747, -0.2489, 0.1205, 0.0661, -0.0268, 0.1966, -0.1708, 0.142, 0.1304, -0.2136], [0.2394, -0.0638, 0.1588, -0.2084, 0.0041, 0.1173, -0.4538, 0.3338, -0.0132, -0.1293], [0.0288, -0.2274, 0.0847, -0.1745, 0.0201, 0.025, -0.397, 0.2572, -0.1598, 0.0006], [0.0983, 0.2203, -0.1586, 0.1699, -0.139, 0.1328, -0.4066, 0.3893, -0.0673, -0.5762], [0.0239, -0.0077, -0.0658, -0.0992, -0.0877, -0.0237, -0.1528, 0.1105, -0.1774, -0.848], [0.1207, 0.0245, 0.0684, 0.0051, 0.2239, 0.0617, -0.1367, 0.1185, -0.1284, -1.181], [0.0738, -0.2681, -0.0422, 0.1016, 0.0358, -0.0834, -0.0551, 0.2286, -0.055, -0.2621], [0.0659, -0.0996, 0.0623, 0.1986, 0.0017, -0.0402, -0.3634, 0.4181, 0.12, -0.2351], [0.0468, -0.093, -0.0397, -0.19, 0.04, 0.0551, -0.11, 0.0724, -0.0294, -1.0525], [0.0567, -0.0089, 0.0251, 0.0513, 0.0238, -0.0006, -0.2187, 0.0311, 0.1057, -0.5225], [0.217, -0.0327, 0.1165, 0.0203, -0.115, 0.2063, -0.0659, 0.3229, -0.0405, -1.3699]]\n",
    "plot_lists(tst_lsts, ref_lst, tst_lst, label1='Ref', label2='tst', title='Percent Change Diff', xlabel='Candlestick', ylabel='Percent Change')\n"
   ]
  },
  {
   "cell_type": "code",
   "execution_count": 17,
   "metadata": {},
   "outputs": [
    {
     "name": "stdout",
     "output_type": "stream",
     "text": [
      "idx 29 ep 29037.85 max 29333.12 roi 1.02\n",
      "idx 118712 ep 70806.0 max 70965.8 roi 0.23\n",
      "idx 32334 ep 54164.95 max 54477.09 roi 0.58\n",
      "idx 81942 ep 28699.9 max 28933.6 roi 0.81\n",
      "idx 51890 ep 21154.7 max 21237.0 roi 0.39\n",
      "idx 60759 ep 18736.0 max 18900.0 roi 0.88\n",
      "idx 84579 ep 27059.8 max 27155.7 roi 0.35\n",
      "idx 72901 ep 23298.0 max 23364.0 roi 0.28\n",
      "idx 48441 ep 29930.3 max 30194.8 roi 0.88\n",
      "idx 44874 ep 39836.4 max 39977.6 roi 0.35\n",
      "idx 64908 ep 20481.7 max 20523.5 roi 0.2\n",
      "idx 117404 ep 62398.1 max 62851.8 roi 0.73\n",
      "idx 36662 ep 41639.14 max 42368.0 roi 1.75\n",
      "idx 98614 ep 33973.7 max 34200.0 roi 0.67\n",
      "idx 67549 ep 17043.4 max 17095.1 roi 0.3\n",
      "idx 56827 ep 24000.7 max 24197.6 roi 0.82\n",
      "idx 118265 ep 65210.6 max 65430.3 roi 0.34\n",
      "idx 18038 ep 34156.0 max 34296.24 roi 0.41\n",
      "idx 18861 ep 31214.17 max 31957.93 roi 2.38\n",
      "idx 63075 ep 18963.4 max 19081.0 roi 0.62\n",
      "idx 44442 ep 42354.1 max 42456.6 roi 0.24\n",
      "idx 36622 ep 42667.35 max 42768.95 roi 0.24\n",
      "idx 22523 ep 49769.26 max 49960.0 roi 0.38\n",
      "idx 31911 ep 56917.76 max 57444.0 roi 0.92\n",
      "idx 57688 ep 21560.3 max 21646.4 roi 0.4\n",
      "idx 55241 ep 23813.9 max 24300.0 roi 2.04\n",
      "idx 80413 ep 30172.2 max 30250.0 roi 0.26\n",
      "idx 57438 ep 21198.5 max 21250.0 roi 0.24\n",
      "idx 66464 ep 16587.2 max 16631.1 roi 0.26\n",
      "idx 83910 ep 26088.9 max 26219.5 roi 0.5\n",
      "idx 67078 ep 16776.0 max 17138.7 roi 2.16\n",
      "idx 31069 ep 57948.67 max 58081.0 roi 0.23\n",
      "idx 109926 ep 51593.8 max 51844.0 roi 0.48\n",
      "idx 118837 ep 69377.9 max 69724.3 roi 0.5\n",
      "idx 52252 ep 19965.0 max 20200.0 roi 1.18\n",
      "idx 85411 ep 26475.0 max 26509.1 roi 0.13\n",
      "idx 82831 ep 26822.6 max 26928.6 roi 0.4\n",
      "idx 90441 ep 28956.6 max 28999.9 roi 0.15\n",
      "idx 104451 ep 42946.9 max 43139.1 roi 0.45\n",
      "idx 93102 ep 25965.0 max 26016.5 roi 0.2\n",
      "idx 120920 ep 67436.1 max 67742.1 roi 0.45\n",
      "idx 65925 ep 16597.1 max 16621.8 roi 0.15\n",
      "idx 122173 ep 61352.8 max 61532.5 roi 0.29\n",
      "idx 66083 ep 16605.5 max 16672.0 roi 0.4\n",
      "idx 71365 ep 20585.4 max 20870.0 roi 1.38\n",
      "idx 39264 ep 42083.1 max 42169.02 roi 0.2\n",
      "idx 108147 ep 42134.0 max 42795.6 roi 1.57\n",
      "idx 107383 ep 39976.2 max 40224.4 roi 0.62\n",
      "idx 25530 ep 44695.04 max 44976.48 roi 0.63\n",
      "idx 52547 ep 19104.1 max 19280.3 roi 0.92\n",
      "idx 117326 ep 63210.0 max 63700.0 roi 0.78\n",
      "idx 55435 ep 23026.5 max 23300.0 roi 1.19\n",
      "idx 24626 ep 46447.18 max 46768.6 roi 0.69\n",
      "idx 102104 ep 37706.5 max 37774.6 roi 0.18\n",
      "idx 23660 ep 49893.7 max 50375.0 roi 0.96\n",
      "idx 72506 ep 23043.3 max 23089.7 roi 0.2\n",
      "idx 64890 ep 20473.4 max 20618.0 roi 0.71\n",
      "idx 49079 ep 28795.6 max 29236.5 roi 1.53\n",
      "idx 97960 ep 28374.8 max 28402.6 roi 0.1\n",
      "idx 45887 ep 39415.1 max 39635.7 roi 0.56\n",
      "idx 39693 ep 40349.1 max 40549.0 roi 0.5\n",
      "idx 46696 ep 38780.1 max 38860.0 roi 0.21\n",
      "idx 65333 ep 16807.2 max 16996.0 roi 1.12\n",
      "idx 105433 ep 43137.9 max 43268.0 roi 0.3\n",
      "idx 29762 ep 61461.69 max 62424.17 roi 1.57\n",
      "idx 120129 ep 71150.1 max 71195.0 roi 0.06\n",
      "idx 63173 ep 19023.2 max 19126.8 roi 0.54\n",
      "idx 61665 ep 20075.4 max 20176.9 roi 0.51\n",
      "idx 57377 ep 21348.2 max 21489.0 roi 0.66\n",
      "idx 82035 ep 28939.1 max 29437.5 roi 1.72\n",
      "idx 89166 ep 29720.4 max 29820.9 roi 0.34\n",
      "idx 98 ep 29212.12 max 29500.0 roi 0.99\n",
      "idx 8813 ep 58901.33 max 59050.0 roi 0.25\n",
      "idx 96102 ep 27034.3 max 27075.0 roi 0.15\n",
      "idx 58063 ep 19962.5 max 20035.0 roi 0.36\n",
      "idx 77105 ep 24771.2 max 24890.1 roi 0.48\n",
      "idx 72252 ep 22771.6 max 22935.0 roi 0.72\n",
      "idx 92534 ep 25660.3 max 26060.0 roi 1.56\n",
      "idx 53284 ep 21437.5 max 21489.0 roi 0.24\n",
      "idx 114154 ep 65688.5 max 65861.4 roi 0.26\n",
      "idx 28266 ep 63188.0 max 63700.0 roi 0.81\n",
      "idx 78500 ep 28269.9 max 28392.0 roi 0.43\n",
      "idx 51904 ep 21019.3 max 21150.0 roi 0.62\n",
      "idx 24452 ep 45911.01 max 46011.96 roi 0.22\n",
      "idx 83685 ep 26781.1 max 26927.6 roi 0.55\n",
      "idx 60514 ep 19089.4 max 19185.0 roi 0.5\n",
      "idx 93203 ep 27560.0 max 27735.1 roi 0.64\n",
      "idx 95690 ep 26597.8 max 26631.1 roi 0.13\n",
      "idx 18754 ep 32399.99 max 32620.0 roi 0.68\n",
      "idx 33621 ep 47876.72 max 47888.0 roi 0.02\n",
      "idx 39565 ep 43949.9 max 44013.6 roi 0.14\n",
      "idx 29619 ep 61543.42 max 62000.0 roi 0.74\n",
      "idx 98747 ep 34198.0 max 34262.4 roi 0.19\n",
      "idx 119312 ep 69503.8 max 69950.0 roi 0.64\n",
      "idx 53232 ep 21489.1 max 21721.7 roi 1.08\n",
      "idx 102025 ep 37762.7 max 37924.5 roi 0.43\n",
      "idx 115630 ep 65318.3 max 65480.0 roi 0.25\n",
      "idx 104441 ep 43090.1 max 43213.8 roi 0.29\n",
      "idx 65915 ep 16690.5 max 16725.9 roi 0.21\n",
      "idx 50451 ep 29631.7 max 29784.9 roi 0.52\n"
     ]
    }
   ],
   "source": [
    "rois_lst = []\n",
    "for i in tst_lsts:\n",
    "    idx = ref_chunks_lst.index(i)\n",
    "    ep = close_price_lst[idx]\n",
    "    hp = max(high_price_lst[idx:idx+chunk_size])\n",
    "    roi = round((hp*100/ep)-100,2)\n",
    "    rois_lst.append(roi)\n",
    "    print('idx', idx, 'ep', ep, 'max', hp, 'roi', roi)"
   ]
  },
  {
   "cell_type": "code",
   "execution_count": 64,
   "metadata": {},
   "outputs": [
    {
     "data": {
      "text/plain": [
       "0.55"
      ]
     },
     "execution_count": 64,
     "metadata": {},
     "output_type": "execute_result"
    }
   ],
   "source": [
    "sum([0.23, 0.58, 0.81, 0.39, 0.88, 0.35, 0.28, 0.88])/len([0.23, 0.58, 0.81, 0.39, 0.88, 0.35, 0.28, 0.88])"
   ]
  },
  {
   "cell_type": "code",
   "execution_count": 18,
   "metadata": {},
   "outputs": [
    {
     "data": {
      "text/plain": [
       "0.6049"
      ]
     },
     "execution_count": 18,
     "metadata": {},
     "output_type": "execute_result"
    }
   ],
   "source": [
    "sum(rois_lst)/len(rois_lst)"
   ]
  }
 ],
 "metadata": {
  "kernelspec": {
   "display_name": "Python 3",
   "language": "python",
   "name": "python3"
  },
  "language_info": {
   "codemirror_mode": {
    "name": "ipython",
    "version": 3
   },
   "file_extension": ".py",
   "mimetype": "text/x-python",
   "name": "python",
   "nbconvert_exporter": "python",
   "pygments_lexer": "ipython3",
   "version": "3.11.0"
  },
  "orig_nbformat": 4
 },
 "nbformat": 4,
 "nbformat_minor": 2
}
