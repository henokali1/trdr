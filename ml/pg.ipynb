{
 "cells": [
  {
   "cell_type": "code",
   "execution_count": 7,
   "metadata": {},
   "outputs": [],
   "source": [
    "from binance.client import Client\n",
    "import pickle\n",
    "\n",
    "def get_client():\n",
    "    # fn = '/home/ubuntu/key/binance-key.pickle'\n",
    "    fn = '../../key/binance-key.pickle'\n",
    "    # fn = '/home/era/key/binance-key.pickle'\n",
    "    with open(fn, 'rb') as handle:\n",
    "        k = pickle.load(handle)\n",
    "    return Client(k['API_KEY'], k['API_SECRET'])\n",
    "\n",
    "def get_max_purchase_quantity(client, coin_pair, leverage=1):\n",
    "    # Get the account balance for the base and quote assets of the coin pair\n",
    "    account_info = client.futures_account_balance()\n",
    "    \n",
    "    # Initialize variables to store balances\n",
    "    base_balance = 0\n",
    "    quote_balance = 0\n",
    "    \n",
    "    # Find the balances for the base and quote assets\n",
    "    for asset in account_info:\n",
    "        if asset['asset'] == coin_pair.split('/')[0]:\n",
    "            base_balance = float(asset['balance'])\n",
    "        elif asset['asset'] == coin_pair.split('/')[1]:\n",
    "            quote_balance = float(asset['balance'])\n",
    "    \n",
    "    # Calculate the maximum quantity that can be purchased\n",
    "    max_quantity = min(base_balance, (quote_balance * leverage) / client.futures_exchange_info(symbol=coin_pair)['filters'][1]['minQty'])\n",
    "    \n",
    "    return max_quantity\n",
    "\n",
    "client = get_client()\n",
    "coin_pair = 'BTCUSDT'  # Replace with your desired coin pair\n",
    "leverage = 1  # Specify the desired leverage\n",
    "\n",
    "# max_quantity = get_max_purchase_quantity(client, coin_pair, leverage)\n",
    "# print(f\"Maximum quantity that can be purchased for {coin_pair} with {leverage}x leverage: {max_quantity}\")\n"
   ]
  },
  {
   "cell_type": "code",
   "execution_count": 45,
   "metadata": {},
   "outputs": [
    {
     "name": "stdout",
     "output_type": "stream",
     "text": [
      "1 1\n",
      "0.010\n"
     ]
    }
   ],
   "source": [
    "qty = 0.010779823064629619\n",
    "if qty < 1:\n",
    "    qty_str = str(qty)\n",
    "    p_idx = qty_str.index('.')\n",
    "    for idx,val in enumerate(qty_str[p_idx+1:]):\n",
    "        if int(val)!=0:\n",
    "            print(idx, val)\n",
    "            print(qty_str[:p_idx+idx+3])\n",
    "            break\n"
   ]
  },
  {
   "cell_type": "code",
   "execution_count": 39,
   "metadata": {},
   "outputs": [
    {
     "data": {
      "text/plain": [
       "'0.010779823064629619'"
      ]
     },
     "execution_count": 39,
     "metadata": {},
     "output_type": "execute_result"
    }
   ],
   "source": [
    "qty_str"
   ]
  },
  {
   "cell_type": "code",
   "execution_count": 43,
   "metadata": {},
   "outputs": [
    {
     "data": {
      "text/plain": [
       "'0.01'"
      ]
     },
     "execution_count": 43,
     "metadata": {},
     "output_type": "execute_result"
    }
   ],
   "source": [
    "'0.010779823064629619'[0:4]"
   ]
  }
 ],
 "metadata": {
  "kernelspec": {
   "display_name": "Python 3",
   "language": "python",
   "name": "python3"
  },
  "language_info": {
   "codemirror_mode": {
    "name": "ipython",
    "version": 3
   },
   "file_extension": ".py",
   "mimetype": "text/x-python",
   "name": "python",
   "nbconvert_exporter": "python",
   "pygments_lexer": "ipython3",
   "version": "3.10.12"
  },
  "orig_nbformat": 4
 },
 "nbformat": 4,
 "nbformat_minor": 2
}
