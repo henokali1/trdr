{
 "cells": [
  {
   "cell_type": "code",
   "execution_count": 1,
   "metadata": {},
   "outputs": [
    {
     "name": "stdout",
     "output_type": "stream",
     "text": [
      "Input DataFrame is:\n",
      "    x  y  z\n",
      "0  5  4  9\n",
      "1  2  7  3\n",
      "2  7  5  5\n",
      "3  0  1  1\n",
      "Correlation between  x  and  y is:  0.41\n",
      "Correlation between  x  and  x is:  1.0\n",
      "Correlation between  x  and  z is:  0.72\n",
      "Correlation between  y  and  x is:  0.41\n"
     ]
    }
   ],
   "source": [
    "import pandas as pd\n",
    "\n",
    "df = pd.DataFrame(\n",
    "   {\n",
    "      \"x\": [5, 2, 7, 0],\n",
    "      \"y\": [4, 7, 5, 1],\n",
    "      \"z\": [9, 3, 5, 1]\n",
    "   }\n",
    ")\n",
    "print(\"Input DataFrame is:\\n\", df)\n",
    "\n",
    "col1, col2 = \"x\", \"y\"\n",
    "corr = df[col1].corr(df[col2])\n",
    "print(\"Correlation between \", col1, \" and \", col2, \"is: \", round(corr, 2))\n",
    "\n",
    "col1, col2 = \"x\", \"x\"\n",
    "corr = df[col1].corr(df[col2])\n",
    "print(\"Correlation between \", col1, \" and \", col2, \"is: \", round(corr, 2))\n",
    "\n",
    "col1, col2 = \"x\", \"z\"\n",
    "corr = df[col1].corr(df[col2])\n",
    "print(\"Correlation between \", col1, \" and \", col2, \"is: \", round(corr, 2))\n",
    "\n",
    "col1, col2 = \"y\", \"x\"\n",
    "corr = df[col1].corr(df[col2])\n",
    "print(\"Correlation between \", col1, \" and \", col2, \"is: \", round(corr, 2))"
   ]
  }
 ],
 "metadata": {
  "kernelspec": {
   "display_name": "Python 3",
   "language": "python",
   "name": "python3"
  },
  "language_info": {
   "codemirror_mode": {
    "name": "ipython",
    "version": 3
   },
   "file_extension": ".py",
   "mimetype": "text/x-python",
   "name": "python",
   "nbconvert_exporter": "python",
   "pygments_lexer": "ipython3",
   "version": "3.10.12"
  },
  "orig_nbformat": 4
 },
 "nbformat": 4,
 "nbformat_minor": 2
}
