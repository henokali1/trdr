{
 "cells": [
  {
   "cell_type": "code",
   "execution_count": 24,
   "metadata": {},
   "outputs": [],
   "source": [
    "import pandas as pd\n",
    "from os import listdir\n",
    "from os.path import isfile, join\n",
    "\n",
    "prompts_path = '../../data/prompt_outputs/'\n",
    "raw_pred_fns = [int(f.replace('.txt', '')) for f in listdir(prompts_path) if isfile(join(prompts_path, f))]\n",
    "sorted_fns = sorted(raw_pred_fns)\n",
    "\n",
    "def read_prompt_outputs(file_name):\n",
    "    numbers = []\n",
    "    max_candlestick = 12\n",
    "    \n",
    "    try:\n",
    "        with open(file_name, 'r') as file:\n",
    "            for line in file:\n",
    "                try:\n",
    "                    number = float(line.strip())\n",
    "                    numbers.append(number)\n",
    "                except ValueError:\n",
    "                    print(f\"Skipping invalid line: {line.strip()}\")\n",
    "\n",
    "    except FileNotFoundError:\n",
    "        print(f\"File not found: {file_name}\")\n",
    "    except Exception as e:\n",
    "        print(f\"An error occurred: {e}\")\n",
    "\n",
    "    return (max(numbers[:max_candlestick]), abs(min(numbers[:max_candlestick])))\n",
    "\n",
    "# sorted_fns = sorted_fns[:10]\n",
    "exp_dta = []\n",
    "for ts in sorted_fns:\n",
    "    file_name = f'../../data/prompt_outputs/{ts}.txt'\n",
    "    max_, min_ = read_prompt_outputs(file_name)\n",
    "    exp_dta.append({'ts': ts, 'max': max_, 'min': min_})\n",
    "\n",
    "pd.DataFrame(exp_dta).to_csv('../../data/exp_dta.csv', index=False)"
   ]
  }
 ],
 "metadata": {
  "kernelspec": {
   "display_name": "Python 3",
   "language": "python",
   "name": "python3"
  },
  "language_info": {
   "codemirror_mode": {
    "name": "ipython",
    "version": 3
   },
   "file_extension": ".py",
   "mimetype": "text/x-python",
   "name": "python",
   "nbconvert_exporter": "python",
   "pygments_lexer": "ipython3",
   "version": "3.10.12"
  },
  "orig_nbformat": 4
 },
 "nbformat": 4,
 "nbformat_minor": 2
}
