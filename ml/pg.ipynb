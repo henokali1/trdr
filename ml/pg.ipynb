{
 "cells": [
  {
   "cell_type": "code",
   "execution_count": 1,
   "metadata": {},
   "outputs": [],
   "source": [
    "from binance.client import Client\n",
    "import pickle\n",
    "\n",
    "def get_client():\n",
    "    # fn = '/home/ubuntu/key/binance-key.pickle'\n",
    "    fn = '../../key/binance-key.pickle'\n",
    "    # fn = '/home/era/key/binance-key.pickle'\n",
    "    with open(fn, 'rb') as handle:\n",
    "        k = pickle.load(handle)\n",
    "    return Client(k['API_KEY'], k['API_SECRET'])\n",
    "\n",
    "\n",
    "client = get_client()\n",
    "\n",
    "\n",
    "def get_position_history(start_time, end_time):    \n",
    "    # Get all trades within the specified time frame\n",
    "    trades = client.futures_account_trades()\n",
    "    \n",
    "    # Filter trades to only include those within the specified time frame\n",
    "    position_history = []\n",
    "    for trade in trades:\n",
    "        trade_time = int(trade['time']) // 1000  # Convert milliseconds to seconds\n",
    "        if start_time <= trade_time <= end_time:\n",
    "            position_history.append(trade)\n",
    "    \n",
    "    return position_history,trades"
   ]
  },
  {
   "cell_type": "code",
   "execution_count": 2,
   "metadata": {},
   "outputs": [
    {
     "ename": "BinanceAPIException",
     "evalue": "APIError(code=-2015): Invalid API-key, IP, or permissions for action, request ip: 2.50.136.182",
     "output_type": "error",
     "traceback": [
      "\u001b[0;31m---------------------------------------------------------------------------\u001b[0m",
      "\u001b[0;31mBinanceAPIException\u001b[0m                       Traceback (most recent call last)",
      "Cell \u001b[0;32mIn[2], line 4\u001b[0m\n\u001b[1;32m      1\u001b[0m start_timestamp \u001b[39m=\u001b[39m \u001b[39m1693928778\u001b[39m\n\u001b[1;32m      2\u001b[0m end_timestamp \u001b[39m=\u001b[39m \u001b[39m1694069177\u001b[39m\n\u001b[0;32m----> 4\u001b[0m position_history,trades \u001b[39m=\u001b[39m get_position_history(start_timestamp, end_timestamp)\n\u001b[1;32m      6\u001b[0m \u001b[39mfor\u001b[39;00m trade \u001b[39min\u001b[39;00m position_history:\n\u001b[1;32m      7\u001b[0m     \u001b[39mprint\u001b[39m(trade)\n",
      "Cell \u001b[0;32mIn[1], line 18\u001b[0m, in \u001b[0;36mget_position_history\u001b[0;34m(start_time, end_time)\u001b[0m\n\u001b[1;32m     16\u001b[0m \u001b[39mdef\u001b[39;00m \u001b[39mget_position_history\u001b[39m(start_time, end_time):    \n\u001b[1;32m     17\u001b[0m     \u001b[39m# Get all trades within the specified time frame\u001b[39;00m\n\u001b[0;32m---> 18\u001b[0m     trades \u001b[39m=\u001b[39m client\u001b[39m.\u001b[39;49mfutures_account_trades()\n\u001b[1;32m     20\u001b[0m     \u001b[39m# Filter trades to only include those within the specified time frame\u001b[39;00m\n\u001b[1;32m     21\u001b[0m     position_history \u001b[39m=\u001b[39m []\n",
      "File \u001b[0;32m~/.local/lib/python3.8/site-packages/binance/client.py:6630\u001b[0m, in \u001b[0;36mClient.futures_account_trades\u001b[0;34m(self, **params)\u001b[0m\n\u001b[1;32m   6624\u001b[0m \u001b[39mdef\u001b[39;00m \u001b[39mfutures_account_trades\u001b[39m(\u001b[39mself\u001b[39m, \u001b[39m*\u001b[39m\u001b[39m*\u001b[39mparams):\n\u001b[1;32m   6625\u001b[0m \u001b[39m    \u001b[39m\u001b[39m\"\"\"Get trades for the authenticated account and symbol.\u001b[39;00m\n\u001b[1;32m   6626\u001b[0m \n\u001b[1;32m   6627\u001b[0m \u001b[39m    https://binance-docs.github.io/apidocs/futures/en/#account-trade-list-user_data\u001b[39;00m\n\u001b[1;32m   6628\u001b[0m \n\u001b[1;32m   6629\u001b[0m \u001b[39m    \"\"\"\u001b[39;00m\n\u001b[0;32m-> 6630\u001b[0m     \u001b[39mreturn\u001b[39;00m \u001b[39mself\u001b[39;49m\u001b[39m.\u001b[39;49m_request_futures_api(\u001b[39m'\u001b[39;49m\u001b[39mget\u001b[39;49m\u001b[39m'\u001b[39;49m, \u001b[39m'\u001b[39;49m\u001b[39muserTrades\u001b[39;49m\u001b[39m'\u001b[39;49m, \u001b[39mTrue\u001b[39;49;00m, data\u001b[39m=\u001b[39;49mparams)\n",
      "File \u001b[0;32m~/.local/lib/python3.8/site-packages/binance/client.py:383\u001b[0m, in \u001b[0;36mClient._request_futures_api\u001b[0;34m(self, method, path, signed, version, **kwargs)\u001b[0m\n\u001b[1;32m    380\u001b[0m \u001b[39mdef\u001b[39;00m \u001b[39m_request_futures_api\u001b[39m(\u001b[39mself\u001b[39m, method, path, signed\u001b[39m=\u001b[39m\u001b[39mFalse\u001b[39;00m, version: \u001b[39mint\u001b[39m \u001b[39m=\u001b[39m \u001b[39m1\u001b[39m, \u001b[39m*\u001b[39m\u001b[39m*\u001b[39mkwargs) \u001b[39m-\u001b[39m\u001b[39m>\u001b[39m Dict:\n\u001b[1;32m    381\u001b[0m     uri \u001b[39m=\u001b[39m \u001b[39mself\u001b[39m\u001b[39m.\u001b[39m_create_futures_api_uri(path, version)\n\u001b[0;32m--> 383\u001b[0m     \u001b[39mreturn\u001b[39;00m \u001b[39mself\u001b[39;49m\u001b[39m.\u001b[39;49m_request(method, uri, signed, \u001b[39mTrue\u001b[39;49;00m, \u001b[39m*\u001b[39;49m\u001b[39m*\u001b[39;49mkwargs)\n",
      "File \u001b[0;32m~/.local/lib/python3.8/site-packages/binance/client.py:359\u001b[0m, in \u001b[0;36mClient._request\u001b[0;34m(self, method, uri, signed, force_params, **kwargs)\u001b[0m\n\u001b[1;32m    356\u001b[0m kwargs \u001b[39m=\u001b[39m \u001b[39mself\u001b[39m\u001b[39m.\u001b[39m_get_request_kwargs(method, signed, force_params, \u001b[39m*\u001b[39m\u001b[39m*\u001b[39mkwargs)\n\u001b[1;32m    358\u001b[0m \u001b[39mself\u001b[39m\u001b[39m.\u001b[39mresponse \u001b[39m=\u001b[39m \u001b[39mgetattr\u001b[39m(\u001b[39mself\u001b[39m\u001b[39m.\u001b[39msession, method)(uri, \u001b[39m*\u001b[39m\u001b[39m*\u001b[39mkwargs)\n\u001b[0;32m--> 359\u001b[0m \u001b[39mreturn\u001b[39;00m \u001b[39mself\u001b[39;49m\u001b[39m.\u001b[39;49m_handle_response(\u001b[39mself\u001b[39;49m\u001b[39m.\u001b[39;49mresponse)\n",
      "File \u001b[0;32m~/.local/lib/python3.8/site-packages/binance/client.py:368\u001b[0m, in \u001b[0;36mClient._handle_response\u001b[0;34m(response)\u001b[0m\n\u001b[1;32m    363\u001b[0m \u001b[39m\u001b[39m\u001b[39m\"\"\"Internal helper for handling API responses from the Binance server.\u001b[39;00m\n\u001b[1;32m    364\u001b[0m \u001b[39mRaises the appropriate exceptions when necessary; otherwise, returns the\u001b[39;00m\n\u001b[1;32m    365\u001b[0m \u001b[39mresponse.\u001b[39;00m\n\u001b[1;32m    366\u001b[0m \u001b[39m\"\"\"\u001b[39;00m\n\u001b[1;32m    367\u001b[0m \u001b[39mif\u001b[39;00m \u001b[39mnot\u001b[39;00m (\u001b[39m200\u001b[39m \u001b[39m<\u001b[39m\u001b[39m=\u001b[39m response\u001b[39m.\u001b[39mstatus_code \u001b[39m<\u001b[39m \u001b[39m300\u001b[39m):\n\u001b[0;32m--> 368\u001b[0m     \u001b[39mraise\u001b[39;00m BinanceAPIException(response, response\u001b[39m.\u001b[39mstatus_code, response\u001b[39m.\u001b[39mtext)\n\u001b[1;32m    369\u001b[0m \u001b[39mtry\u001b[39;00m:\n\u001b[1;32m    370\u001b[0m     \u001b[39mreturn\u001b[39;00m response\u001b[39m.\u001b[39mjson()\n",
      "\u001b[0;31mBinanceAPIException\u001b[0m: APIError(code=-2015): Invalid API-key, IP, or permissions for action, request ip: 2.50.136.182"
     ]
    }
   ],
   "source": [
    "start_timestamp = 1693928778\n",
    "end_timestamp = 1694069177\n",
    "\n",
    "position_history,trades = get_position_history(start_timestamp, end_timestamp)\n",
    "\n",
    "for trade in position_history:\n",
    "    print(trade)"
   ]
  }
 ],
 "metadata": {
  "kernelspec": {
   "display_name": "Python 3",
   "language": "python",
   "name": "python3"
  },
  "language_info": {
   "codemirror_mode": {
    "name": "ipython",
    "version": 3
   },
   "file_extension": ".py",
   "mimetype": "text/x-python",
   "name": "python",
   "nbconvert_exporter": "python",
   "pygments_lexer": "ipython3",
   "version": "3.8.10"
  },
  "orig_nbformat": 4
 },
 "nbformat": 4,
 "nbformat_minor": 2
}
