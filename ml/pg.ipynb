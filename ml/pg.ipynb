{
 "cells": [
  {
   "cell_type": "code",
   "execution_count": 1,
   "metadata": {},
   "outputs": [],
   "source": [
    "%matplotlib inline\n",
    "import matplotlib.pylab as plt\n",
    "\n",
    "from tsfresh import extract_features, extract_relevant_features, select_features\n",
    "from tsfresh.utilities.dataframe_functions import impute\n",
    "\n",
    "from sklearn.tree import DecisionTreeClassifier\n",
    "from sklearn.model_selection import train_test_split\n",
    "from sklearn.metrics import classification_report\n",
    "\n",
    "import pandas as pd\n",
    "import numpy as np\n",
    "\n",
    "\n",
    "hrs=3\n",
    "candlestick_frame = 4*hrs\n",
    "pnl_threshold = 3\n",
    "df = pd.read_csv('../../data/BTCUSDT.csv')\n",
    "\n",
    "ts = list(df['time'])\n",
    "open = list(df['open'])\n",
    "high = list(df['high'])\n",
    "low = list(df['low'])\n",
    "close = list(df['close'])\n",
    "volume = list(df['volume'])\n",
    "tot = len(ts)\n",
    "long_runup_lst = []\n",
    "long_drawdown_lst = []\n",
    "short_runup_lst = []\n",
    "short_drawdown_lst = []\n",
    "\n",
    "for idx in range(tot):\n",
    "    if (idx >= candlestick_frame) and (idx <= tot - candlestick_frame):\n",
    "        max_high = max(open[idx+1:idx+candlestick_frame])\n",
    "        min_low = min(open[idx+1:idx+candlestick_frame])\n",
    "        entry_price = open[idx+1]\n",
    "        long_runup_lst.append(round((max_high*100/entry_price)-100, 6))\n",
    "        long_drawdown_lst.append(round((min_low*100/entry_price)-100, 6))\n",
    "        short_runup_lst.append(round((entry_price*100/min_low)-100, 6))\n",
    "        short_drawdown_lst.append(round((entry_price*100/max_high)-100, 6))\n",
    "    else:\n",
    "        long_runup_lst.append(0)\n",
    "        long_drawdown_lst.append(0)\n",
    "        short_runup_lst.append(0)\n",
    "        short_drawdown_lst.append(0)     \n",
    "\n",
    "\n",
    "long=[]\n",
    "short=[]\n",
    "dont_trade=[]\n",
    "signal = []\n",
    "\n",
    "for idx in range(tot):\n",
    "    if (idx >= candlestick_frame) and (idx <= tot - candlestick_frame):\n",
    "        if long_runup_lst[idx] >= pnl_threshold:\n",
    "            signal.append(1)\n",
    "        elif short_runup_lst[idx] >= pnl_threshold:\n",
    "            signal.append(2)\n",
    "        else:\n",
    "            signal.append(0)\n",
    "    else:\n",
    "        signal.append(0)\n",
    "\n",
    "\n",
    "pc = [0] + [round((open[i]*100/open[(i-1)])-100, 4) for i in range(1,len(open), 1)]\n",
    "df = pd.DataFrame()\n",
    "df['0'] = pc\n",
    "y = pd.Series( (i for i in signal) )"
   ]
  },
  {
   "cell_type": "code",
   "execution_count": 2,
   "metadata": {},
   "outputs": [],
   "source": [
    "df[\"id\"] = df.index\n",
    "df = df.melt(id_vars=\"id\", var_name=\"time\").sort_values([\"id\", \"time\"]).reset_index(drop=True)"
   ]
  },
  {
   "cell_type": "code",
   "execution_count": 3,
   "metadata": {},
   "outputs": [
    {
     "data": {
      "text/html": [
       "<div>\n",
       "<style scoped>\n",
       "    .dataframe tbody tr th:only-of-type {\n",
       "        vertical-align: middle;\n",
       "    }\n",
       "\n",
       "    .dataframe tbody tr th {\n",
       "        vertical-align: top;\n",
       "    }\n",
       "\n",
       "    .dataframe thead th {\n",
       "        text-align: right;\n",
       "    }\n",
       "</style>\n",
       "<table border=\"1\" class=\"dataframe\">\n",
       "  <thead>\n",
       "    <tr style=\"text-align: right;\">\n",
       "      <th></th>\n",
       "      <th>id</th>\n",
       "      <th>time</th>\n",
       "      <th>value</th>\n",
       "    </tr>\n",
       "  </thead>\n",
       "  <tbody>\n",
       "    <tr>\n",
       "      <th>0</th>\n",
       "      <td>0</td>\n",
       "      <td>0</td>\n",
       "      <td>0.0</td>\n",
       "    </tr>\n",
       "    <tr>\n",
       "      <th>1</th>\n",
       "      <td>1</td>\n",
       "      <td>0</td>\n",
       "      <td>0.0</td>\n",
       "    </tr>\n",
       "    <tr>\n",
       "      <th>2</th>\n",
       "      <td>2</td>\n",
       "      <td>0</td>\n",
       "      <td>0.0</td>\n",
       "    </tr>\n",
       "    <tr>\n",
       "      <th>3</th>\n",
       "      <td>3</td>\n",
       "      <td>0</td>\n",
       "      <td>0.0</td>\n",
       "    </tr>\n",
       "    <tr>\n",
       "      <th>4</th>\n",
       "      <td>4</td>\n",
       "      <td>0</td>\n",
       "      <td>0.0</td>\n",
       "    </tr>\n",
       "  </tbody>\n",
       "</table>\n",
       "</div>"
      ],
      "text/plain": [
       "   id time  value\n",
       "0   0    0    0.0\n",
       "1   1    0    0.0\n",
       "2   2    0    0.0\n",
       "3   3    0    0.0\n",
       "4   4    0    0.0"
      ]
     },
     "execution_count": 3,
     "metadata": {},
     "output_type": "execute_result"
    }
   ],
   "source": [
    "df.head()\n"
   ]
  },
  {
   "cell_type": "code",
   "execution_count": 4,
   "metadata": {},
   "outputs": [
    {
     "name": "stderr",
     "output_type": "stream",
     "text": [
      "Feature Extraction:  70%|███████   | 28/40 [09:51<03:40, 18.39s/it]  "
     ]
    },
    {
     "ename": "",
     "evalue": "",
     "output_type": "error",
     "traceback": [
      "\u001b[1;31mThe Kernel crashed while executing code in the the current cell or a previous cell. Please review the code in the cell(s) to identify a possible cause of the failure. Click <a href='https://aka.ms/vscodeJupyterKernelCrash'>here</a> for more info. View Jupyter <a href='command:jupyter.viewOutput'>log</a> for further details."
     ]
    }
   ],
   "source": [
    "X = extract_features(df[df[\"id\"] < len(df)], column_id=\"id\", column_sort=\"time\", impute_function=impute)\n",
    "X.head()\n"
   ]
  },
  {
   "cell_type": "code",
   "execution_count": 36,
   "metadata": {},
   "outputs": [
    {
     "data": {
      "text/plain": [
       "116171"
      ]
     },
     "execution_count": 36,
     "metadata": {},
     "output_type": "execute_result"
    }
   ],
   "source": []
  }
 ],
 "metadata": {
  "kernelspec": {
   "display_name": "Python 3",
   "language": "python",
   "name": "python3"
  },
  "language_info": {
   "codemirror_mode": {
    "name": "ipython",
    "version": 3
   },
   "file_extension": ".py",
   "mimetype": "text/x-python",
   "name": "python",
   "nbconvert_exporter": "python",
   "pygments_lexer": "ipython3",
   "version": "3.10.12"
  },
  "orig_nbformat": 4
 },
 "nbformat": 4,
 "nbformat_minor": 2
}
