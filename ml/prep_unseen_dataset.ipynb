{
 "cells": [
  {
   "cell_type": "code",
   "execution_count": 14,
   "metadata": {},
   "outputs": [
    {
     "name": "stderr",
     "output_type": "stream",
     "text": [
      "0it [00:00, ?it/s]"
     ]
    },
    {
     "name": "stdout",
     "output_type": "stream",
     "text": [
      "[!] VWAP volume series is not datetime ordered. Results may not be as expected.\n",
      "[!] VWAP price series is not datetime ordered. Results may not be as expected.\n"
     ]
    },
    {
     "name": "stderr",
     "output_type": "stream",
     "text": [
      "/usr/lib/python3.10/multiprocessing/pool.py:48: FutureWarning: The series.append method is deprecated and will be removed from pandas in a future version. Use pandas.concat instead.\n",
      "  return list(map(*args))\n",
      "123it [00:19,  6.18it/s]\n"
     ]
    },
    {
     "name": "stdout",
     "output_type": "stream",
     "text": [
      "'RangeIndex' object has no attribute 'to_period'\n",
      "saving unseen_dataset_orig.csv....\n",
      "saving unseen_dataset_droped.csv....\n"
     ]
    }
   ],
   "source": [
    "import pandas as pd\n",
    "import pandas_ta as ta\n",
    "import random\n",
    "\n",
    "\n",
    "\n",
    "candlestick_frame = 12\n",
    "pnl_threshold = 3\n",
    "\n",
    "\n",
    "df = pd.read_csv('../../data/ETHUSDT-15m.csv')\n",
    "\n",
    "try:\n",
    "    df.ta.strategy(\"all\")\n",
    "except Exception as e:\n",
    "    print(e)\n",
    "\n",
    "    ts = list(df['time'])\n",
    "    open = list(df['open'])\n",
    "    high = list(df['high'])\n",
    "    low = list(df['low'])\n",
    "    close = list(df['close'])\n",
    "    volume = list(df['volume'])\n",
    "    tot = len(ts)\n",
    "    long_runup_lst = []\n",
    "    long_drawdown_lst = []\n",
    "    short_runup_lst = []\n",
    "    short_drawdown_lst = []\n",
    "\n",
    "    for idx in range(tot):\n",
    "        if (idx >= candlestick_frame) and (idx <= tot - candlestick_frame):\n",
    "            max_high = max(high[idx:idx+candlestick_frame])\n",
    "            min_low = min(low[idx:idx+candlestick_frame])\n",
    "            entry_price = open[idx]\n",
    "            long_runup_lst.append(round((max_high*100/entry_price)-100, 6))\n",
    "            long_drawdown_lst.append(round((min_low*100/entry_price)-100, 6))\n",
    "            short_runup_lst.append(round((entry_price*100/min_low)-100, 6))\n",
    "            short_drawdown_lst.append(round((entry_price*100/max_high)-100, 6))\n",
    "        else:\n",
    "            long_runup_lst.append(0)\n",
    "            long_drawdown_lst.append(0)\n",
    "            short_runup_lst.append(0)\n",
    "            short_drawdown_lst.append(0)     \n",
    "\n",
    "\n",
    "    long=[]\n",
    "    short=[]\n",
    "    dont_trade=[]\n",
    "    signal = []\n",
    "\n",
    "    for idx in range(tot):\n",
    "        if (idx >= candlestick_frame) and (idx <= tot - candlestick_frame):\n",
    "            if long_runup_lst[idx] >= pnl_threshold:\n",
    "                signal.append('long')\n",
    "            elif short_runup_lst[idx] >= pnl_threshold:\n",
    "                signal.append('short')\n",
    "            else:\n",
    "                signal.append('dont_trade')\n",
    "        else:\n",
    "            signal.append('dont_trade')\n",
    "\n",
    "\n",
    "    df['signal'] = signal\n",
    "    \n",
    "\n",
    "    print('saving unseen_dataset_orig.csv....')\n",
    "    dataset_fn = f'../../data/unseen_dataset_orig.csv'\n",
    "    pd.DataFrame(df).to_csv(dataset_fn, index=False)\n",
    "\n",
    "    # long_indices = df[df['signal'].str.contains('long', case=False)].index\n",
    "    # short_indices = df[df['signal'].str.contains('short', case=False)].index\n",
    "    # dont_trade_indices = list(df[df['signal'].str.contains('dont_trade', case=False)].index)\n",
    "    # num_indices_to_pick  = len(dont_trade_indices) - min([len(long_indices), len(short_indices)])\n",
    "    # random_indices = random.sample(dont_trade_indices, num_indices_to_pick)\n",
    "    # df = df.drop(random_indices)\n",
    "\n",
    "    # df.reset_index(drop=True, inplace=True)\n",
    "\n",
    "    df = df.drop(columns = ['time', 'open', 'high', 'low', 'close', 'volume'], axis=1)\n",
    "    \n",
    "    df = df.drop(columns = ['HILOl_13_21', 'PSARl_0.02_0.2', 'SUPERTl_7_3.0', 'QQEl_14_5_4.236', 'EOM_14_100000000'], axis=1)\n",
    "\n",
    "    print('saving unseen_dataset_droped.csv....')\n",
    "    dataset_fn = f'../../data/unseen_dataset_droped.csv'\n",
    "    pd.DataFrame(df).to_csv(dataset_fn, index=False)"
   ]
  },
  {
   "cell_type": "code",
   "execution_count": 15,
   "metadata": {},
   "outputs": [
    {
     "name": "stdout",
     "output_type": "stream",
     "text": [
      "saving unseen_dataset_orig.csv....\n"
     ]
    }
   ],
   "source": [
    "\n",
    "df = pd.read_csv('../../data/unseen_dataset_orig.csv')\n",
    "df = df[73506:]\n",
    "print('saving unseen_dataset_orig.csv....')\n",
    "dataset_fn = f'../../data/unseen_dataset_orig.csv'\n",
    "pd.DataFrame(df).to_csv(dataset_fn, index=False)"
   ]
  },
  {
   "cell_type": "code",
   "execution_count": 16,
   "metadata": {},
   "outputs": [
    {
     "name": "stdout",
     "output_type": "stream",
     "text": [
      "saving unseen_dataset_droped.csv....\n"
     ]
    }
   ],
   "source": [
    "\n",
    "df = pd.read_csv('../../data/unseen_dataset_droped.csv')\n",
    "df = df[73506:]\n",
    "print('saving unseen_dataset_droped.csv....')\n",
    "dataset_fn = f'../../data/unseen_dataset_droped.csv'\n",
    "pd.DataFrame(df).to_csv(dataset_fn, index=False)"
   ]
  }
 ],
 "metadata": {
  "kernelspec": {
   "display_name": "Python 3",
   "language": "python",
   "name": "python3"
  },
  "language_info": {
   "codemirror_mode": {
    "name": "ipython",
    "version": 3
   },
   "file_extension": ".py",
   "mimetype": "text/x-python",
   "name": "python",
   "nbconvert_exporter": "python",
   "pygments_lexer": "ipython3",
   "version": "3.10.12"
  },
  "orig_nbformat": 4
 },
 "nbformat": 4,
 "nbformat_minor": 2
}
