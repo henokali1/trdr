{
 "cells": [
  {
   "cell_type": "code",
   "execution_count": 1,
   "metadata": {},
   "outputs": [
    {
     "ename": "ModuleNotFoundError",
     "evalue": "No module named 'binance'",
     "output_type": "error",
     "traceback": [
      "\u001b[0;31m---------------------------------------------------------------------------\u001b[0m",
      "\u001b[0;31mModuleNotFoundError\u001b[0m                       Traceback (most recent call last)",
      "Cell \u001b[0;32mIn[1], line 1\u001b[0m\n\u001b[0;32m----> 1\u001b[0m \u001b[39mfrom\u001b[39;00m \u001b[39mbinance\u001b[39;00m\u001b[39m.\u001b[39;00m\u001b[39mclient\u001b[39;00m \u001b[39mimport\u001b[39;00m Client\n\u001b[1;32m      2\u001b[0m \u001b[39mfrom\u001b[39;00m \u001b[39mbinance\u001b[39;00m\u001b[39m.\u001b[39;00m\u001b[39menums\u001b[39;00m \u001b[39mimport\u001b[39;00m \u001b[39m*\u001b[39m\n\u001b[1;32m      3\u001b[0m \u001b[39mfrom\u001b[39;00m \u001b[39mtime\u001b[39;00m \u001b[39mimport\u001b[39;00m time\n",
      "\u001b[0;31mModuleNotFoundError\u001b[0m: No module named 'binance'"
     ]
    }
   ],
   "source": [
    "from binance.client import Client\n",
    "from binance.enums import *\n",
    "from time import time\n",
    "import pickle as pickle\n",
    "from datetime import datetime\n",
    "import pandas as pd\n",
    "\n",
    "def get_client():\n",
    "    fn = '../../key/binance-key.pickle'\n",
    "    with open(fn, 'rb') as handle:\n",
    "        k = pickle.load(handle)\n",
    "    return Client(k['API_KEY'], k['API_SECRET'])\n",
    "\n",
    "\n",
    "client = get_client()\n",
    "\n",
    "\n",
    "def get_unix_timestamp(date_string):\n",
    "    \"\"\"\n",
    "    Converts the input date string to Unix timestamp.\n",
    "\n",
    "    Parameters:\n",
    "        date_string (str): Input date string in the format \"dd/mm/yyyy hh:mm:ss\".\n",
    "\n",
    "    Returns:\n",
    "        int: Unix timestamp of the given date.\n",
    "    \"\"\"\n",
    "    try:\n",
    "        date_obj = datetime.strptime(date_string, \"%d/%m/%Y %H:%M:%S\")\n",
    "        timestamp = int(date_obj.timestamp())\n",
    "        return timestamp\n",
    "    except ValueError:\n",
    "        print(\"Invalid date format. Please use the format 'dd/mm/yyyy hh:mm:ss'.\")\n",
    "        return None\n",
    "\n",
    "def get_historical_data(start_timestamp, end_timestamp): \n",
    "    data = []\n",
    "    tot = (end_timestamp - start_timestamp)/(900*500)\n",
    "    cntr = 0\n",
    "    for current_sts in range(start_timestamp, end_timestamp+1, 900*500):\n",
    "        next_ets = current_sts + 900*500 if (current_sts + 900*500) < end_timestamp else end_timestamp\n",
    "        print(current_sts, next_ets, f'100% completed') if next_ets == end_timestamp else print(current_sts, next_ets, f'{round(cntr*100/tot, 1)}% completed')\n",
    "        cntr += 1\n",
    "        klines = client.futures_historical_klines('BTCUSDT', '1h', current_sts*1000, next_ets*1000, limit=500)\n",
    "        \n",
    "        for kline in klines:\n",
    "            timestamp = kline[0]/1000\n",
    "            open_price = float(kline[1])\n",
    "            high_price = float(kline[2])\n",
    "            low_price = float(kline[3])\n",
    "            close_price = float(kline[4])\n",
    "            volume = float(kline[5])\n",
    "\n",
    "            data.append([timestamp, open_price, high_price, low_price, close_price, volume])\n",
    "\n",
    "    df = pd.DataFrame(data, columns=['time', 'open', 'high', 'low', 'close', 'volume'])\n",
    "    df.to_csv(f'../../data/1h.csv', index=False)\n",
    "    print('Data Exported')\n",
    "\n",
    "\n",
    "\n",
    "start_timestamp = get_unix_timestamp('1/10/2019 00:00:00')\n",
    "end_timestamp = int(time())\n",
    "\n",
    "\n",
    "get_historical_data(start_timestamp, end_timestamp)\n"
   ]
  },
  {
   "cell_type": "code",
   "execution_count": 3,
   "metadata": {},
   "outputs": [
    {
     "name": "stdout",
     "output_type": "stream",
     "text": [
      "saving dataset.csv....\n"
     ]
    }
   ],
   "source": [
    "import pandas as pd\n",
    "import pandas_ta as ta\n",
    "\n",
    "\n",
    "candlestick_frame = 24\n",
    "pnl_threshold = 5\n",
    "\n",
    "\n",
    "df = pd.read_csv('../../data/1h.csv')\n",
    "\n",
    "df['ao'] = df.ta.ao()\n",
    "df['apo'] = df.ta.apo()\n",
    "df['bias'] = df.ta.bias()\n",
    "df['bop'] = df.ta.bop()\n",
    "df['cci'] = df.ta.cci()\n",
    "df['cfo'] = df.ta.cfo()\n",
    "df['cg'] = df.ta.cg()\n",
    "df['cmo'] = df.ta.cmo()\n",
    "df['coppock'] = df.ta.coppock()\n",
    "df['cti'] = df.ta.cti()\n",
    "df['er'] = df.ta.er()\n",
    "df['inertia'] = df.ta.inertia()\n",
    "macd = ta.macd(df['close'])\n",
    "df['MACD_12_26_9'] = macd['MACD_12_26_9']\n",
    "df['MACDh_12_26_9'] = macd['MACDh_12_26_9']\n",
    "df['MACDs_12_26_9'] =macd['MACDs_12_26_9']\n",
    "df['mom'] = df.ta.mom()\n",
    "df['pgo'] = df.ta.pgo()\n",
    "df['psl'] = df.ta.psl()\n",
    "qqe = ta.qqe(df['close'])\n",
    "df['QQE_14_5_4.236'] = qqe['QQE_14_5_4.236']\n",
    "df['QQE_14_5_4.236_RSIMA'] = qqe['QQE_14_5_4.236_RSIMA']\n",
    "df['QQEs_14_5_4.236'] = qqe['QQEs_14_5_4.236']\n",
    "df['roc'] = df.ta.roc()\n",
    "df['rsi'] = df.ta.rsi()\n",
    "rvgi = ta.rvgi(high=df['high'], low=df['low'], close=df['close'], open_=df['open'])\n",
    "df['RVGI_14_4'] = rvgi['RVGI_14_4']\n",
    "df['RVGIs_14_4'] = rvgi['RVGIs_14_4'] \n",
    "df['slope'] = df.ta.slope()\n",
    "smi = ta.smi(close=df['close'])\n",
    "df['SMI_5_20_5'] = smi['SMI_5_20_5']\n",
    "df['SMIs_5_20_5'] = smi['SMIs_5_20_5']\n",
    "df['SMIo_5_20_5'] = smi['SMIo_5_20_5']\n",
    "squeeze = ta.squeeze(high=df['high'], low=df['low'], close=df['close'])\n",
    "df['SQZ_20_2.0_20_1.5'] = squeeze['SQZ_20_2.0_20_1.5']\n",
    "df['SQZ_ON'] = squeeze['SQZ_ON']\n",
    "df['SQZ_OFF'] = squeeze['SQZ_OFF']\n",
    "df['SQZ_NO'] = squeeze['SQZ_NO']\n",
    "squeeze_pro = ta.squeeze_pro(high=df['high'], low=df['low'], close=df['close'])\n",
    "df['SQZPRO_20_2.0_20_2_1.5_1'] = squeeze_pro['SQZPRO_20_2.0_20_2_1.5_1']\n",
    "df['SQZPRO_ON_WIDE'] = squeeze_pro['SQZPRO_ON_WIDE']\n",
    "df['SQZPRO_ON_NORMAL'] = squeeze_pro['SQZPRO_ON_NORMAL']\n",
    "df['SQZPRO_ON_NARROW'] = squeeze_pro['SQZPRO_ON_NARROW']\n",
    "df['SQZPRO_OFF'] = squeeze_pro['SQZPRO_OFF']\n",
    "df['SQZPRO_NO'] = squeeze_pro['SQZPRO_NO']\n",
    "stc = ta.stc(close=df['close'])\n",
    "df['STC_10_12_26_0.5'] = stc['STC_10_12_26_0.5']\n",
    "df['STCmacd_10_12_26_0.5'] = stc['STCmacd_10_12_26_0.5']\n",
    "df['STCstoch_10_12_26_0.5'] = stc['STCstoch_10_12_26_0.5']\n",
    "\n",
    "\n",
    "ts = list(df['time'])\n",
    "open = list(df['open'])\n",
    "high = list(df['high'])\n",
    "low = list(df['low'])\n",
    "close = list(df['close'])\n",
    "volume = list(df['volume'])\n",
    "tot = len(ts)\n",
    "long_runup_lst = []\n",
    "long_drawdown_lst = []\n",
    "short_runup_lst = []\n",
    "short_drawdown_lst = []\n",
    "\n",
    "for idx in range(tot):\n",
    "    if (idx >= candlestick_frame) and (idx <= tot - candlestick_frame):\n",
    "        max_high = max(high[idx:idx+candlestick_frame])\n",
    "        min_low = min(low[idx:idx+candlestick_frame])\n",
    "        entry_price = open[idx]\n",
    "        long_runup_lst.append(round((max_high*100/entry_price)-100, 6))\n",
    "        long_drawdown_lst.append(round((min_low*100/entry_price)-100, 6))\n",
    "        short_runup_lst.append(round((entry_price*100/min_low)-100, 6))\n",
    "        short_drawdown_lst.append(round((entry_price*100/max_high)-100, 6))\n",
    "    else:\n",
    "        long_runup_lst.append(0)\n",
    "        long_drawdown_lst.append(0)\n",
    "        short_runup_lst.append(0)\n",
    "        short_drawdown_lst.append(0)     \n",
    "\n",
    "\n",
    "processed_df = df\n",
    "long=[]\n",
    "short=[]\n",
    "dont_trade=[]\n",
    "signal = []\n",
    "\n",
    "for idx in range(tot):\n",
    "    if (idx >= candlestick_frame) and (idx <= tot - candlestick_frame):\n",
    "        if (long_runup_lst[idx] >= pnl_threshold) and (short_runup_lst[idx] >= pnl_threshold):\n",
    "            signal.append('both')\n",
    "        elif long_runup_lst[idx] >= pnl_threshold:\n",
    "            signal.append('long')\n",
    "        elif short_runup_lst[idx] >= pnl_threshold:\n",
    "            signal.append('short')\n",
    "        else:\n",
    "            signal.append('dont_trade')\n",
    "    else:\n",
    "        signal.append('dont_trade')\n",
    "\n",
    "df['signal'] = signal\n",
    "\n",
    "\n",
    "df = df.drop(columns = ['time', 'open', 'high', 'low', 'close', 'volume'], axis=1)\n",
    "\n",
    "print('saving dataset.csv....')\n",
    "dataset_fn = f'../../data/dataset.csv'\n",
    "pd.DataFrame(df).to_csv(dataset_fn, index=False)\n",
    "\n",
    "\n"
   ]
  },
  {
   "cell_type": "code",
   "execution_count": null,
   "metadata": {},
   "outputs": [
    {
     "data": {
      "text/plain": [
       "True"
      ]
     },
     "execution_count": 171,
     "metadata": {},
     "output_type": "execute_result"
    }
   ],
   "source": [
    "len(ts)==(len(long) + len(short) + len(dont_trade))"
   ]
  },
  {
   "cell_type": "code",
   "execution_count": null,
   "metadata": {},
   "outputs": [
    {
     "data": {
      "text/plain": [
       "34312"
      ]
     },
     "execution_count": 170,
     "metadata": {},
     "output_type": "execute_result"
    }
   ],
   "source": [
    "(len(long) + len(short) + len(dont_trade))"
   ]
  }
 ],
 "metadata": {
  "kernelspec": {
   "display_name": "Python 3",
   "language": "python",
   "name": "python3"
  },
  "language_info": {
   "codemirror_mode": {
    "name": "ipython",
    "version": 3
   },
   "file_extension": ".py",
   "mimetype": "text/x-python",
   "name": "python",
   "nbconvert_exporter": "python",
   "pygments_lexer": "ipython3",
   "version": "3.10.12"
  },
  "orig_nbformat": 4
 },
 "nbformat": 4,
 "nbformat_minor": 2
}
