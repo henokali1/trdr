{
 "cells": [
  {
   "cell_type": "code",
   "execution_count": 12,
   "metadata": {},
   "outputs": [],
   "source": [
    "import pandas as pd\n",
    "import pandas_ta as ta\n",
    "import numpy as np\n",
    "import random\n",
    "\n",
    "\n",
    "ohlc_df = pd.read_csv('../../data/ETHUSDT-ohlcv.csv')\n",
    "ohlc_df['LOGRET_1'] = list(ohlc_df.ta.log_return())\n",
    "ohlc_df['NATR_14'] = ohlc_df.ta.natr()\n",
    "ohlc_df['SLOPE_1'] = ohlc_df.ta.slope()\n",
    "bbands = ohlc_df.ta.bbands()\n",
    "ohlc_df['BBB_5_2.0'] = list(bbands['BBB_5_2.0'])\n",
    "ohlc_df['BBP_5_2.0'] = list(bbands['BBP_5_2.0'])\n",
    "ohlc_df['PGO_14'] = list(ohlc_df.ta.pgo())\n",
    "eri = ohlc_df.ta.eri()\n",
    "ohlc_df['BEARP_13'] = list(eri['BEARP_13'])\n",
    "ohlc_df['BULLP_13'] = list(eri['BULLP_13'])\n",
    "ohlc_df['EFI_13'] = ohlc_df.ta.efi()\n",
    "adx = ohlc_df.ta.adx()\n",
    "ohlc_df['DMP_14'] = list(adx['DMP_14'])\n",
    "ohlc_df['DMN_14'] = list(adx['DMN_14'])\n",
    "ohlc_df['CG_10'] = ohlc_df.ta.cg()\n",
    "trix = ohlc_df.ta.trix()\n",
    "ohlc_df['TRIX_30_9'] = trix['TRIX_30_9']\n",
    "ohlc_df['TRIXs_30_9'] = trix['TRIXs_30_9']\n",
    "smi = ohlc_df.ta.smi()\n",
    "ohlc_df['SMI_5_20_5'] = smi['SMI_5_20_5']\n",
    "ohlc_df['SMIs_5_20_5'] = smi['SMIs_5_20_5']\n",
    "ohlc_df['SMIo_5_20_5'] = smi['SMIo_5_20_5']\n",
    "ohlc_df['AD'] = ohlc_df.ta.ad()\n",
    "ohlc_df['TRUERANGE_1'] = ohlc_df.ta.true_range()\n",
    "ohlc_df['PVT'] = ohlc_df.ta.pvt()\n",
    "ohlc_df['EBSW_40_10'] = ohlc_df.ta.ebsw()\n",
    "ohlc_df['PVOL'] = ohlc_df.ta.pvol()\n",
    "thermo = ohlc_df.ta.thermo()\n",
    "ohlc_df['THERMO_20_2_0.5'] = thermo['THERMO_20_2_0.5']\n",
    "ohlc_df['THERMOma_20_2_0.5'] = thermo['THERMOma_20_2_0.5']\n",
    "ohlc_df['CHOP_14_1_100'] = ohlc_df.ta.chop()\n",
    "ohlc_df['PVI_1'] = ohlc_df.ta.pvi()\n",
    "ohlc_df['VHF_28'] = ohlc_df.ta.vhf()\n",
    "\n",
    "\n",
    "\n",
    "df = ohlc_df\n",
    "\n",
    "ts = list(df['time'])\n",
    "open = list(df['open'])\n",
    "high = list(df['high'])\n",
    "low = list(df['low'])\n",
    "close = list(df['close'])\n",
    "volume = list(df['volume'])\n",
    "tot = len(ts)\n",
    "long_runup_lst = []\n",
    "long_drawdown_lst = []\n",
    "short_runup_lst = []\n",
    "short_drawdown_lst = []\n",
    "candlestick_frame = 12\n",
    "pnl_threshold = 3\n",
    "\n",
    "for idx in range(tot):\n",
    "    if (idx >= candlestick_frame) and (idx <= tot - candlestick_frame):\n",
    "        max_high = max(high[idx+1:idx+candlestick_frame])\n",
    "        min_low = min(low[idx+1:idx+candlestick_frame])\n",
    "        entry_price = open[idx+1]\n",
    "        long_runup_lst.append(round((max_high*100/entry_price)-100, 6))\n",
    "        long_drawdown_lst.append(round((min_low*100/entry_price)-100, 6))\n",
    "        short_runup_lst.append(round((entry_price*100/min_low)-100, 6))\n",
    "        short_drawdown_lst.append(round((entry_price*100/max_high)-100, 6))\n",
    "    else:\n",
    "        long_runup_lst.append(0)\n",
    "        long_drawdown_lst.append(0)\n",
    "        short_runup_lst.append(0)\n",
    "        short_drawdown_lst.append(0)     \n",
    "\n",
    "\n",
    "long=[]\n",
    "short=[]\n",
    "dont_trade=[]\n",
    "signal = []\n",
    "\n",
    "for idx in range(tot):\n",
    "    if (idx >= candlestick_frame) and (idx <= tot - candlestick_frame):\n",
    "        if long_runup_lst[idx] >= pnl_threshold:\n",
    "            signal.append('long')\n",
    "        elif short_runup_lst[idx] >= pnl_threshold:\n",
    "            signal.append('short')\n",
    "        else:\n",
    "            signal.append('dont_trade')\n",
    "    else:\n",
    "        signal.append('dont_trade')\n",
    "\n",
    "df['signal'] = signal\n",
    "\n",
    "# long_indices = df[df['signal'].str.contains('long', case=False)].index\n",
    "# short_indices = df[df['signal'].str.contains('short', case=False)].index\n",
    "# dont_trade_indices = list(df[df['signal'].str.contains('dont_trade', case=False)].index)\n",
    "# num_indices_to_pick  = len(dont_trade_indices) - min([len(long_indices), len(short_indices)])\n",
    "# random_indices = random.sample(dont_trade_indices, num_indices_to_pick)\n",
    "# df = df.drop(random_indices)\n",
    "\n",
    "# df.reset_index(drop=True, inplace=True)\n",
    "\n",
    "# df = df.drop(columns = ['time', 'open', 'high', 'low', 'close', 'volume'], axis=1)\n",
    "df = df.drop(columns = ['open', 'high', 'low', 'close', 'volume'], axis=1)\n",
    "df = df.dropna()\n"
   ]
  },
  {
   "cell_type": "code",
   "execution_count": 1,
   "metadata": {},
   "outputs": [
    {
     "name": "stdout",
     "output_type": "stream",
     "text": [
      "[LightGBM] [Warning] There are no meaningful features which satisfy the provided configuration. Decreasing Dataset parameters min_data_in_bin or min_data_in_leaf and re-constructing Dataset might resolve this warning.\n",
      "[LightGBM] [Info] Number of positive: 1, number of negative: 1\n",
      "[LightGBM] [Info] This is the GPU trainer!!\n",
      "[LightGBM] [Info] Total Bins 0\n",
      "[LightGBM] [Info] Number of data points in the train set: 2, number of used features: 0\n",
      "[LightGBM] [Warning] There are no meaningful features which satisfy the provided configuration. Decreasing Dataset parameters min_data_in_bin or min_data_in_leaf and re-constructing Dataset might resolve this warning.\n",
      "[LightGBM] [Warning] Using sparse features with CUDA is currently not supported.\n",
      "[LightGBM] [Info] Number of positive: 1, number of negative: 1\n",
      "[LightGBM] [Warning] There are no meaningful features which satisfy the provided configuration. Decreasing Dataset parameters min_data_in_bin or min_data_in_leaf and re-constructing Dataset might resolve this warning.\n",
      "[LightGBM] [Info] Number of positive: 1, number of negative: 1\n",
      "[LightGBM] [Info] This is the GPU trainer!!\n",
      "[LightGBM] [Info] Total Bins 0\n",
      "[LightGBM] [Info] Number of data points in the train set: 2, number of used features: 0\n",
      "[LightGBM] [Warning] There are no meaningful features which satisfy the provided configuration. Decreasing Dataset parameters min_data_in_bin or min_data_in_leaf and re-constructing Dataset might resolve this warning.\n",
      "[LightGBM] [Warning] Using sparse features with CUDA is currently not supported.\n",
      "[LightGBM] [Info] Number of positive: 1, number of negative: 1\n",
      "[LightGBM] [Warning] There are no meaningful features which satisfy the provided configuration. Decreasing Dataset parameters min_data_in_bin or min_data_in_leaf and re-constructing Dataset might resolve this warning.\n",
      "[LightGBM] [Info] Number of positive: 1, number of negative: 1\n",
      "[LightGBM] [Info] This is the GPU trainer!!\n",
      "[LightGBM] [Info] Total Bins 0\n",
      "[LightGBM] [Info] Number of data points in the train set: 2, number of used features: 0\n",
      "[LightGBM] [Warning] There are no meaningful features which satisfy the provided configuration. Decreasing Dataset parameters min_data_in_bin or min_data_in_leaf and re-constructing Dataset might resolve this warning.\n",
      "[LightGBM] [Warning] Using sparse features with CUDA is currently not supported.\n",
      "[LightGBM] [Info] Number of positive: 1, number of negative: 1\n"
     ]
    },
    {
     "name": "stderr",
     "output_type": "stream",
     "text": [
      "[LightGBM] [Fatal] CUDA Tree Learner was not enabled in this build.\n",
      "Please recompile with CMake option -DUSE_CUDAP=1\n",
      "[LightGBM] [Fatal] CUDA Tree Learner was not enabled in this build.\n",
      "Please recompile with CMake option -DUSE_CUDAP=1\n",
      "[LightGBM] [Fatal] CUDA Tree Learner was not enabled in this build.\n",
      "Please recompile with CMake option -DUSE_CUDAP=1\n"
     ]
    },
    {
     "name": "stdout",
     "output_type": "stream",
     "text": [
      "[LightGBM] [Warning] There are no meaningful features which satisfy the provided configuration. Decreasing Dataset parameters min_data_in_bin or min_data_in_leaf and re-constructing Dataset might resolve this warning.\n",
      "[LightGBM] [Info] Number of positive: 1, number of negative: 1\n",
      "[LightGBM] [Info] This is the GPU trainer!!\n",
      "[LightGBM] [Info] Total Bins 0\n",
      "[LightGBM] [Info] Number of data points in the train set: 2, number of used features: 0\n",
      "[LightGBM] [Warning] There are no meaningful features which satisfy the provided configuration. Decreasing Dataset parameters min_data_in_bin or min_data_in_leaf and re-constructing Dataset might resolve this warning.\n",
      "[LightGBM] [Warning] Using sparse features with CUDA is currently not supported.\n",
      "[LightGBM] [Info] Number of positive: 1, number of negative: 1\n",
      "[LightGBM] [Warning] There are no meaningful features which satisfy the provided configuration. Decreasing Dataset parameters min_data_in_bin or min_data_in_leaf and re-constructing Dataset might resolve this warning.\n",
      "[LightGBM] [Info] Number of positive: 1, number of negative: 1\n",
      "[LightGBM] [Info] This is the GPU trainer!!\n",
      "[LightGBM] [Info] Total Bins 0\n",
      "[LightGBM] [Info] Number of data points in the train set: 2, number of used features: 0\n",
      "[LightGBM] [Warning] There are no meaningful features which satisfy the provided configuration. Decreasing Dataset parameters min_data_in_bin or min_data_in_leaf and re-constructing Dataset might resolve this warning.\n",
      "[LightGBM] [Warning] Using sparse features with CUDA is currently not supported.\n",
      "[LightGBM] [Info] Number of positive: 1, number of negative: 1\n"
     ]
    },
    {
     "name": "stderr",
     "output_type": "stream",
     "text": [
      "[LightGBM] [Fatal] CUDA Tree Learner was not enabled in this build.\n",
      "Please recompile with CMake option -DUSE_CUDAP=1\n",
      "[LightGBM] [Fatal] CUDA Tree Learner was not enabled in this build.\n",
      "Please recompile with CMake option -DUSE_CUDAP=1\n"
     ]
    },
    {
     "name": "stdout",
     "output_type": "stream",
     "text": [
      "[LightGBM] [Warning] There are no meaningful features which satisfy the provided configuration. Decreasing Dataset parameters min_data_in_bin or min_data_in_leaf and re-constructing Dataset might resolve this warning.\n",
      "[LightGBM] [Info] Number of positive: 1, number of negative: 1\n",
      "[LightGBM] [Info] This is the GPU trainer!!\n",
      "[LightGBM] [Info] Total Bins 0\n",
      "[LightGBM] [Info] Number of data points in the train set: 2, number of used features: 0\n",
      "[LightGBM] [Warning] There are no meaningful features which satisfy the provided configuration. Decreasing Dataset parameters min_data_in_bin or min_data_in_leaf and re-constructing Dataset might resolve this warning.\n",
      "[LightGBM] [Warning] Using sparse features with CUDA is currently not supported.\n",
      "[LightGBM] [Info] Number of positive: 1, number of negative: 1\n"
     ]
    },
    {
     "name": "stderr",
     "output_type": "stream",
     "text": [
      "[LightGBM] [Fatal] CUDA Tree Learner was not enabled in this build.\n",
      "Please recompile with CMake option -DUSE_CUDAP=1\n"
     ]
    },
    {
     "data": {
      "text/html": [
       "<style type=\"text/css\">\n",
       "#T_2db37_row9_col1, #T_2db37_row16_col1 {\n",
       "  background-color: lightgreen;\n",
       "}\n",
       "</style>\n",
       "<table id=\"T_2db37\">\n",
       "  <thead>\n",
       "    <tr>\n",
       "      <th class=\"blank level0\" >&nbsp;</th>\n",
       "      <th id=\"T_2db37_level0_col0\" class=\"col_heading level0 col0\" >Description</th>\n",
       "      <th id=\"T_2db37_level0_col1\" class=\"col_heading level0 col1\" >Value</th>\n",
       "    </tr>\n",
       "  </thead>\n",
       "  <tbody>\n",
       "    <tr>\n",
       "      <th id=\"T_2db37_level0_row0\" class=\"row_heading level0 row0\" >0</th>\n",
       "      <td id=\"T_2db37_row0_col0\" class=\"data row0 col0\" >Session id</td>\n",
       "      <td id=\"T_2db37_row0_col1\" class=\"data row0 col1\" >123</td>\n",
       "    </tr>\n",
       "    <tr>\n",
       "      <th id=\"T_2db37_level0_row1\" class=\"row_heading level0 row1\" >1</th>\n",
       "      <td id=\"T_2db37_row1_col0\" class=\"data row1 col0\" >Target</td>\n",
       "      <td id=\"T_2db37_row1_col1\" class=\"data row1 col1\" >signal</td>\n",
       "    </tr>\n",
       "    <tr>\n",
       "      <th id=\"T_2db37_level0_row2\" class=\"row_heading level0 row2\" >2</th>\n",
       "      <td id=\"T_2db37_row2_col0\" class=\"data row2 col0\" >Target type</td>\n",
       "      <td id=\"T_2db37_row2_col1\" class=\"data row2 col1\" >Multiclass</td>\n",
       "    </tr>\n",
       "    <tr>\n",
       "      <th id=\"T_2db37_level0_row3\" class=\"row_heading level0 row3\" >3</th>\n",
       "      <td id=\"T_2db37_row3_col0\" class=\"data row3 col0\" >Target mapping</td>\n",
       "      <td id=\"T_2db37_row3_col1\" class=\"data row3 col1\" >dont_trade: 0, long: 1, short: 2</td>\n",
       "    </tr>\n",
       "    <tr>\n",
       "      <th id=\"T_2db37_level0_row4\" class=\"row_heading level0 row4\" >4</th>\n",
       "      <td id=\"T_2db37_row4_col0\" class=\"data row4 col0\" >Original data shape</td>\n",
       "      <td id=\"T_2db37_row4_col1\" class=\"data row4 col1\" >(20405, 21142)</td>\n",
       "    </tr>\n",
       "    <tr>\n",
       "      <th id=\"T_2db37_level0_row5\" class=\"row_heading level0 row5\" >5</th>\n",
       "      <td id=\"T_2db37_row5_col0\" class=\"data row5 col0\" >Transformed data shape</td>\n",
       "      <td id=\"T_2db37_row5_col1\" class=\"data row5 col1\" >(20405, 21142)</td>\n",
       "    </tr>\n",
       "    <tr>\n",
       "      <th id=\"T_2db37_level0_row6\" class=\"row_heading level0 row6\" >6</th>\n",
       "      <td id=\"T_2db37_row6_col0\" class=\"data row6 col0\" >Transformed train set shape</td>\n",
       "      <td id=\"T_2db37_row6_col1\" class=\"data row6 col1\" >(14283, 21142)</td>\n",
       "    </tr>\n",
       "    <tr>\n",
       "      <th id=\"T_2db37_level0_row7\" class=\"row_heading level0 row7\" >7</th>\n",
       "      <td id=\"T_2db37_row7_col0\" class=\"data row7 col0\" >Transformed test set shape</td>\n",
       "      <td id=\"T_2db37_row7_col1\" class=\"data row7 col1\" >(6122, 21142)</td>\n",
       "    </tr>\n",
       "    <tr>\n",
       "      <th id=\"T_2db37_level0_row8\" class=\"row_heading level0 row8\" >8</th>\n",
       "      <td id=\"T_2db37_row8_col0\" class=\"data row8 col0\" >Numeric features</td>\n",
       "      <td id=\"T_2db37_row8_col1\" class=\"data row8 col1\" >21141</td>\n",
       "    </tr>\n",
       "    <tr>\n",
       "      <th id=\"T_2db37_level0_row9\" class=\"row_heading level0 row9\" >9</th>\n",
       "      <td id=\"T_2db37_row9_col0\" class=\"data row9 col0\" >Preprocess</td>\n",
       "      <td id=\"T_2db37_row9_col1\" class=\"data row9 col1\" >True</td>\n",
       "    </tr>\n",
       "    <tr>\n",
       "      <th id=\"T_2db37_level0_row10\" class=\"row_heading level0 row10\" >10</th>\n",
       "      <td id=\"T_2db37_row10_col0\" class=\"data row10 col0\" >Imputation type</td>\n",
       "      <td id=\"T_2db37_row10_col1\" class=\"data row10 col1\" >simple</td>\n",
       "    </tr>\n",
       "    <tr>\n",
       "      <th id=\"T_2db37_level0_row11\" class=\"row_heading level0 row11\" >11</th>\n",
       "      <td id=\"T_2db37_row11_col0\" class=\"data row11 col0\" >Numeric imputation</td>\n",
       "      <td id=\"T_2db37_row11_col1\" class=\"data row11 col1\" >mean</td>\n",
       "    </tr>\n",
       "    <tr>\n",
       "      <th id=\"T_2db37_level0_row12\" class=\"row_heading level0 row12\" >12</th>\n",
       "      <td id=\"T_2db37_row12_col0\" class=\"data row12 col0\" >Categorical imputation</td>\n",
       "      <td id=\"T_2db37_row12_col1\" class=\"data row12 col1\" >mode</td>\n",
       "    </tr>\n",
       "    <tr>\n",
       "      <th id=\"T_2db37_level0_row13\" class=\"row_heading level0 row13\" >13</th>\n",
       "      <td id=\"T_2db37_row13_col0\" class=\"data row13 col0\" >Fold Generator</td>\n",
       "      <td id=\"T_2db37_row13_col1\" class=\"data row13 col1\" >StratifiedKFold</td>\n",
       "    </tr>\n",
       "    <tr>\n",
       "      <th id=\"T_2db37_level0_row14\" class=\"row_heading level0 row14\" >14</th>\n",
       "      <td id=\"T_2db37_row14_col0\" class=\"data row14 col0\" >Fold Number</td>\n",
       "      <td id=\"T_2db37_row14_col1\" class=\"data row14 col1\" >10</td>\n",
       "    </tr>\n",
       "    <tr>\n",
       "      <th id=\"T_2db37_level0_row15\" class=\"row_heading level0 row15\" >15</th>\n",
       "      <td id=\"T_2db37_row15_col0\" class=\"data row15 col0\" >CPU Jobs</td>\n",
       "      <td id=\"T_2db37_row15_col1\" class=\"data row15 col1\" >-1</td>\n",
       "    </tr>\n",
       "    <tr>\n",
       "      <th id=\"T_2db37_level0_row16\" class=\"row_heading level0 row16\" >16</th>\n",
       "      <td id=\"T_2db37_row16_col0\" class=\"data row16 col0\" >Use GPU</td>\n",
       "      <td id=\"T_2db37_row16_col1\" class=\"data row16 col1\" >True</td>\n",
       "    </tr>\n",
       "    <tr>\n",
       "      <th id=\"T_2db37_level0_row17\" class=\"row_heading level0 row17\" >17</th>\n",
       "      <td id=\"T_2db37_row17_col0\" class=\"data row17 col0\" >Log Experiment</td>\n",
       "      <td id=\"T_2db37_row17_col1\" class=\"data row17 col1\" >False</td>\n",
       "    </tr>\n",
       "    <tr>\n",
       "      <th id=\"T_2db37_level0_row18\" class=\"row_heading level0 row18\" >18</th>\n",
       "      <td id=\"T_2db37_row18_col0\" class=\"data row18 col0\" >Experiment Name</td>\n",
       "      <td id=\"T_2db37_row18_col1\" class=\"data row18 col1\" >clf-default-name</td>\n",
       "    </tr>\n",
       "    <tr>\n",
       "      <th id=\"T_2db37_level0_row19\" class=\"row_heading level0 row19\" >19</th>\n",
       "      <td id=\"T_2db37_row19_col0\" class=\"data row19 col0\" >USI</td>\n",
       "      <td id=\"T_2db37_row19_col1\" class=\"data row19 col1\" >020e</td>\n",
       "    </tr>\n",
       "  </tbody>\n",
       "</table>\n"
      ],
      "text/plain": [
       "<pandas.io.formats.style.Styler at 0x7f93ac2ff3d0>"
      ]
     },
     "metadata": {},
     "output_type": "display_data"
    },
    {
     "name": "stdout",
     "output_type": "stream",
     "text": [
      "[LightGBM] [Warning] There are no meaningful features which satisfy the provided configuration. Decreasing Dataset parameters min_data_in_bin or min_data_in_leaf and re-constructing Dataset might resolve this warning.\n",
      "[LightGBM] [Info] Number of positive: 1, number of negative: 1\n",
      "[LightGBM] [Info] This is the GPU trainer!!\n",
      "[LightGBM] [Info] Total Bins 0\n",
      "[LightGBM] [Info] Number of data points in the train set: 2, number of used features: 0\n",
      "[LightGBM] [Warning] There are no meaningful features which satisfy the provided configuration. Decreasing Dataset parameters min_data_in_bin or min_data_in_leaf and re-constructing Dataset might resolve this warning.\n",
      "[LightGBM] [Warning] Using sparse features with CUDA is currently not supported.\n",
      "[LightGBM] [Info] Number of positive: 1, number of negative: 1\n",
      "[LightGBM] [Warning] There are no meaningful features which satisfy the provided configuration. Decreasing Dataset parameters min_data_in_bin or min_data_in_leaf and re-constructing Dataset might resolve this warning.\n",
      "[LightGBM] [Info] Number of positive: 1, number of negative: 1\n",
      "[LightGBM] [Info] This is the GPU trainer!!\n",
      "[LightGBM] [Info] Total Bins 0\n",
      "[LightGBM] [Info] Number of data points in the train set: 2, number of used features: 0\n",
      "[LightGBM] [Warning] There are no meaningful features which satisfy the provided configuration. Decreasing Dataset parameters min_data_in_bin or min_data_in_leaf and re-constructing Dataset might resolve this warning.\n",
      "[LightGBM] [Warning] Using sparse features with CUDA is currently not supported.\n",
      "[LightGBM] [Info] Number of positive: 1, number of negative: 1\n"
     ]
    },
    {
     "name": "stderr",
     "output_type": "stream",
     "text": [
      "[LightGBM] [Fatal] CUDA Tree Learner was not enabled in this build.\n",
      "Please recompile with CMake option -DUSE_CUDAP=1\n",
      "[LightGBM] [Fatal] CUDA Tree Learner was not enabled in this build.\n",
      "Please recompile with CMake option -DUSE_CUDAP=1\n"
     ]
    },
    {
     "data": {
      "text/html": [],
      "text/plain": [
       "<IPython.core.display.HTML object>"
      ]
     },
     "metadata": {},
     "output_type": "display_data"
    },
    {
     "data": {
      "text/html": [
       "<style type=\"text/css\">\n",
       "#T_97b54_row10_col0, #T_97b54_row10_col1, #T_97b54_row10_col2, #T_97b54_row10_col3, #T_97b54_row10_col4, #T_97b54_row10_col5, #T_97b54_row10_col6 {\n",
       "  background: yellow;\n",
       "}\n",
       "</style>\n",
       "<table id=\"T_97b54\">\n",
       "  <thead>\n",
       "    <tr>\n",
       "      <th class=\"blank level0\" >&nbsp;</th>\n",
       "      <th id=\"T_97b54_level0_col0\" class=\"col_heading level0 col0\" >Accuracy</th>\n",
       "      <th id=\"T_97b54_level0_col1\" class=\"col_heading level0 col1\" >AUC</th>\n",
       "      <th id=\"T_97b54_level0_col2\" class=\"col_heading level0 col2\" >Recall</th>\n",
       "      <th id=\"T_97b54_level0_col3\" class=\"col_heading level0 col3\" >Prec.</th>\n",
       "      <th id=\"T_97b54_level0_col4\" class=\"col_heading level0 col4\" >F1</th>\n",
       "      <th id=\"T_97b54_level0_col5\" class=\"col_heading level0 col5\" >Kappa</th>\n",
       "      <th id=\"T_97b54_level0_col6\" class=\"col_heading level0 col6\" >MCC</th>\n",
       "    </tr>\n",
       "    <tr>\n",
       "      <th class=\"index_name level0\" >Fold</th>\n",
       "      <th class=\"blank col0\" >&nbsp;</th>\n",
       "      <th class=\"blank col1\" >&nbsp;</th>\n",
       "      <th class=\"blank col2\" >&nbsp;</th>\n",
       "      <th class=\"blank col3\" >&nbsp;</th>\n",
       "      <th class=\"blank col4\" >&nbsp;</th>\n",
       "      <th class=\"blank col5\" >&nbsp;</th>\n",
       "      <th class=\"blank col6\" >&nbsp;</th>\n",
       "    </tr>\n",
       "  </thead>\n",
       "  <tbody>\n",
       "    <tr>\n",
       "      <th id=\"T_97b54_level0_row0\" class=\"row_heading level0 row0\" >0</th>\n",
       "      <td id=\"T_97b54_row0_col0\" class=\"data row0 col0\" >0.9153</td>\n",
       "      <td id=\"T_97b54_row0_col1\" class=\"data row0 col1\" >0.9552</td>\n",
       "      <td id=\"T_97b54_row0_col2\" class=\"data row0 col2\" >0.9153</td>\n",
       "      <td id=\"T_97b54_row0_col3\" class=\"data row0 col3\" >0.9142</td>\n",
       "      <td id=\"T_97b54_row0_col4\" class=\"data row0 col4\" >0.9013</td>\n",
       "      <td id=\"T_97b54_row0_col5\" class=\"data row0 col5\" >0.5559</td>\n",
       "      <td id=\"T_97b54_row0_col6\" class=\"data row0 col6\" >0.6016</td>\n",
       "    </tr>\n",
       "    <tr>\n",
       "      <th id=\"T_97b54_level0_row1\" class=\"row_heading level0 row1\" >1</th>\n",
       "      <td id=\"T_97b54_row1_col0\" class=\"data row1 col0\" >0.9104</td>\n",
       "      <td id=\"T_97b54_row1_col1\" class=\"data row1 col1\" >0.9465</td>\n",
       "      <td id=\"T_97b54_row1_col2\" class=\"data row1 col2\" >0.9104</td>\n",
       "      <td id=\"T_97b54_row1_col3\" class=\"data row1 col3\" >0.9076</td>\n",
       "      <td id=\"T_97b54_row1_col4\" class=\"data row1 col4\" >0.8949</td>\n",
       "      <td id=\"T_97b54_row1_col5\" class=\"data row1 col5\" >0.5233</td>\n",
       "      <td id=\"T_97b54_row1_col6\" class=\"data row1 col6\" >0.5726</td>\n",
       "    </tr>\n",
       "    <tr>\n",
       "      <th id=\"T_97b54_level0_row2\" class=\"row_heading level0 row2\" >2</th>\n",
       "      <td id=\"T_97b54_row2_col0\" class=\"data row2 col0\" >0.9055</td>\n",
       "      <td id=\"T_97b54_row2_col1\" class=\"data row2 col1\" >0.9626</td>\n",
       "      <td id=\"T_97b54_row2_col2\" class=\"data row2 col2\" >0.9055</td>\n",
       "      <td id=\"T_97b54_row2_col3\" class=\"data row2 col3\" >0.9006</td>\n",
       "      <td id=\"T_97b54_row2_col4\" class=\"data row2 col4\" >0.8874</td>\n",
       "      <td id=\"T_97b54_row2_col5\" class=\"data row2 col5\" >0.4882</td>\n",
       "      <td id=\"T_97b54_row2_col6\" class=\"data row2 col6\" >0.5425</td>\n",
       "    </tr>\n",
       "    <tr>\n",
       "      <th id=\"T_97b54_level0_row3\" class=\"row_heading level0 row3\" >3</th>\n",
       "      <td id=\"T_97b54_row3_col0\" class=\"data row3 col0\" >0.9111</td>\n",
       "      <td id=\"T_97b54_row3_col1\" class=\"data row3 col1\" >0.9589</td>\n",
       "      <td id=\"T_97b54_row3_col2\" class=\"data row3 col2\" >0.9111</td>\n",
       "      <td id=\"T_97b54_row3_col3\" class=\"data row3 col3\" >0.9060</td>\n",
       "      <td id=\"T_97b54_row3_col4\" class=\"data row3 col4\" >0.8959</td>\n",
       "      <td id=\"T_97b54_row3_col5\" class=\"data row3 col5\" >0.5310</td>\n",
       "      <td id=\"T_97b54_row3_col6\" class=\"data row3 col6\" >0.5752</td>\n",
       "    </tr>\n",
       "    <tr>\n",
       "      <th id=\"T_97b54_level0_row4\" class=\"row_heading level0 row4\" >4</th>\n",
       "      <td id=\"T_97b54_row4_col0\" class=\"data row4 col0\" >0.9083</td>\n",
       "      <td id=\"T_97b54_row4_col1\" class=\"data row4 col1\" >0.9580</td>\n",
       "      <td id=\"T_97b54_row4_col2\" class=\"data row4 col2\" >0.9083</td>\n",
       "      <td id=\"T_97b54_row4_col3\" class=\"data row4 col3\" >0.9048</td>\n",
       "      <td id=\"T_97b54_row4_col4\" class=\"data row4 col4\" >0.8920</td>\n",
       "      <td id=\"T_97b54_row4_col5\" class=\"data row4 col5\" >0.5089</td>\n",
       "      <td id=\"T_97b54_row4_col6\" class=\"data row4 col6\" >0.5577</td>\n",
       "    </tr>\n",
       "    <tr>\n",
       "      <th id=\"T_97b54_level0_row5\" class=\"row_heading level0 row5\" >5</th>\n",
       "      <td id=\"T_97b54_row5_col0\" class=\"data row5 col0\" >0.9132</td>\n",
       "      <td id=\"T_97b54_row5_col1\" class=\"data row5 col1\" >0.9607</td>\n",
       "      <td id=\"T_97b54_row5_col2\" class=\"data row5 col2\" >0.9132</td>\n",
       "      <td id=\"T_97b54_row5_col3\" class=\"data row5 col3\" >0.9116</td>\n",
       "      <td id=\"T_97b54_row5_col4\" class=\"data row5 col4\" >0.8972</td>\n",
       "      <td id=\"T_97b54_row5_col5\" class=\"data row5 col5\" >0.5324</td>\n",
       "      <td id=\"T_97b54_row5_col6\" class=\"data row5 col6\" >0.5863</td>\n",
       "    </tr>\n",
       "    <tr>\n",
       "      <th id=\"T_97b54_level0_row6\" class=\"row_heading level0 row6\" >6</th>\n",
       "      <td id=\"T_97b54_row6_col0\" class=\"data row6 col0\" >0.9146</td>\n",
       "      <td id=\"T_97b54_row6_col1\" class=\"data row6 col1\" >0.9594</td>\n",
       "      <td id=\"T_97b54_row6_col2\" class=\"data row6 col2\" >0.9146</td>\n",
       "      <td id=\"T_97b54_row6_col3\" class=\"data row6 col3\" >0.9116</td>\n",
       "      <td id=\"T_97b54_row6_col4\" class=\"data row6 col4\" >0.8994</td>\n",
       "      <td id=\"T_97b54_row6_col5\" class=\"data row6 col5\" >0.5454</td>\n",
       "      <td id=\"T_97b54_row6_col6\" class=\"data row6 col6\" >0.5947</td>\n",
       "    </tr>\n",
       "    <tr>\n",
       "      <th id=\"T_97b54_level0_row7\" class=\"row_heading level0 row7\" >7</th>\n",
       "      <td id=\"T_97b54_row7_col0\" class=\"data row7 col0\" >0.9188</td>\n",
       "      <td id=\"T_97b54_row7_col1\" class=\"data row7 col1\" >0.9525</td>\n",
       "      <td id=\"T_97b54_row7_col2\" class=\"data row7 col2\" >0.9188</td>\n",
       "      <td id=\"T_97b54_row7_col3\" class=\"data row7 col3\" >0.9173</td>\n",
       "      <td id=\"T_97b54_row7_col4\" class=\"data row7 col4\" >0.9058</td>\n",
       "      <td id=\"T_97b54_row7_col5\" class=\"data row7 col5\" >0.5779</td>\n",
       "      <td id=\"T_97b54_row7_col6\" class=\"data row7 col6\" >0.6214</td>\n",
       "    </tr>\n",
       "    <tr>\n",
       "      <th id=\"T_97b54_level0_row8\" class=\"row_heading level0 row8\" >8</th>\n",
       "      <td id=\"T_97b54_row8_col0\" class=\"data row8 col0\" >0.9153</td>\n",
       "      <td id=\"T_97b54_row8_col1\" class=\"data row8 col1\" >0.9629</td>\n",
       "      <td id=\"T_97b54_row8_col2\" class=\"data row8 col2\" >0.9153</td>\n",
       "      <td id=\"T_97b54_row8_col3\" class=\"data row8 col3\" >0.9149</td>\n",
       "      <td id=\"T_97b54_row8_col4\" class=\"data row8 col4\" >0.9010</td>\n",
       "      <td id=\"T_97b54_row8_col5\" class=\"data row8 col5\" >0.5520</td>\n",
       "      <td id=\"T_97b54_row8_col6\" class=\"data row8 col6\" >0.6012</td>\n",
       "    </tr>\n",
       "    <tr>\n",
       "      <th id=\"T_97b54_level0_row9\" class=\"row_heading level0 row9\" >9</th>\n",
       "      <td id=\"T_97b54_row9_col0\" class=\"data row9 col0\" >0.9104</td>\n",
       "      <td id=\"T_97b54_row9_col1\" class=\"data row9 col1\" >0.9446</td>\n",
       "      <td id=\"T_97b54_row9_col2\" class=\"data row9 col2\" >0.9104</td>\n",
       "      <td id=\"T_97b54_row9_col3\" class=\"data row9 col3\" >0.9096</td>\n",
       "      <td id=\"T_97b54_row9_col4\" class=\"data row9 col4\" >0.8940</td>\n",
       "      <td id=\"T_97b54_row9_col5\" class=\"data row9 col5\" >0.5176</td>\n",
       "      <td id=\"T_97b54_row9_col6\" class=\"data row9 col6\" >0.5721</td>\n",
       "    </tr>\n",
       "    <tr>\n",
       "      <th id=\"T_97b54_level0_row10\" class=\"row_heading level0 row10\" >Mean</th>\n",
       "      <td id=\"T_97b54_row10_col0\" class=\"data row10 col0\" >0.9123</td>\n",
       "      <td id=\"T_97b54_row10_col1\" class=\"data row10 col1\" >0.9562</td>\n",
       "      <td id=\"T_97b54_row10_col2\" class=\"data row10 col2\" >0.9123</td>\n",
       "      <td id=\"T_97b54_row10_col3\" class=\"data row10 col3\" >0.9098</td>\n",
       "      <td id=\"T_97b54_row10_col4\" class=\"data row10 col4\" >0.8969</td>\n",
       "      <td id=\"T_97b54_row10_col5\" class=\"data row10 col5\" >0.5333</td>\n",
       "      <td id=\"T_97b54_row10_col6\" class=\"data row10 col6\" >0.5825</td>\n",
       "    </tr>\n",
       "    <tr>\n",
       "      <th id=\"T_97b54_level0_row11\" class=\"row_heading level0 row11\" >Std</th>\n",
       "      <td id=\"T_97b54_row11_col0\" class=\"data row11 col0\" >0.0037</td>\n",
       "      <td id=\"T_97b54_row11_col1\" class=\"data row11 col1\" >0.0061</td>\n",
       "      <td id=\"T_97b54_row11_col2\" class=\"data row11 col2\" >0.0037</td>\n",
       "      <td id=\"T_97b54_row11_col3\" class=\"data row11 col3\" >0.0049</td>\n",
       "      <td id=\"T_97b54_row11_col4\" class=\"data row11 col4\" >0.0050</td>\n",
       "      <td id=\"T_97b54_row11_col5\" class=\"data row11 col5\" >0.0245</td>\n",
       "      <td id=\"T_97b54_row11_col6\" class=\"data row11 col6\" >0.0221</td>\n",
       "    </tr>\n",
       "  </tbody>\n",
       "</table>\n"
      ],
      "text/plain": [
       "<pandas.io.formats.style.Styler at 0x7f93ac2fc850>"
      ]
     },
     "metadata": {},
     "output_type": "display_data"
    },
    {
     "data": {
      "text/html": [],
      "text/plain": [
       "<IPython.core.display.HTML object>"
      ]
     },
     "metadata": {},
     "output_type": "display_data"
    },
    {
     "name": "stdout",
     "output_type": "stream",
     "text": [
      "Transformation Pipeline and Model Successfully Saved\n"
     ]
    },
    {
     "data": {
      "text/html": [],
      "text/plain": [
       "<IPython.core.display.HTML object>"
      ]
     },
     "metadata": {},
     "output_type": "display_data"
    },
    {
     "data": {
      "image/png": "[encoded data removed]",
      "text/plain": [
       "<Figure size 800x550 with 1 Axes>"
      ]
     },
     "metadata": {},
     "output_type": "display_data"
    },
    {
     "data": {
      "text/html": [],
      "text/plain": [
       "<IPython.core.display.HTML object>"
      ]
     },
     "metadata": {},
     "output_type": "display_data"
    },
    {
     "ename": "ValueError",
     "evalue": "Image size of 800x1057000 pixels is too large. It must be less than 2^16 in each direction.",
     "output_type": "error",
     "traceback": [
      "\u001b[0;31m---------------------------------------------------------------------------\u001b[0m",
      "\u001b[0;31mValueError\u001b[0m                                Traceback (most recent call last)",
      "File \u001b[0;32m~/.local/lib/python3.10/site-packages/IPython/core/formatters.py:340\u001b[0m, in \u001b[0;36mBaseFormatter.__call__\u001b[0;34m(self, obj)\u001b[0m\n\u001b[1;32m    338\u001b[0m     \u001b[39mpass\u001b[39;00m\n\u001b[1;32m    339\u001b[0m \u001b[39melse\u001b[39;00m:\n\u001b[0;32m--> 340\u001b[0m     \u001b[39mreturn\u001b[39;00m printer(obj)\n\u001b[1;32m    341\u001b[0m \u001b[39m# Finally look for special method names\u001b[39;00m\n\u001b[1;32m    342\u001b[0m method \u001b[39m=\u001b[39m get_real_method(obj, \u001b[39mself\u001b[39m\u001b[39m.\u001b[39mprint_method)\n",
      "File \u001b[0;32m~/.local/lib/python3.10/site-packages/IPython/core/pylabtools.py:152\u001b[0m, in \u001b[0;36mprint_figure\u001b[0;34m(fig, fmt, bbox_inches, base64, **kwargs)\u001b[0m\n\u001b[1;32m    149\u001b[0m     \u001b[39mfrom\u001b[39;00m \u001b[39mmatplotlib\u001b[39;00m\u001b[39m.\u001b[39;00m\u001b[39mbackend_bases\u001b[39;00m \u001b[39mimport\u001b[39;00m FigureCanvasBase\n\u001b[1;32m    150\u001b[0m     FigureCanvasBase(fig)\n\u001b[0;32m--> 152\u001b[0m fig\u001b[39m.\u001b[39;49mcanvas\u001b[39m.\u001b[39;49mprint_figure(bytes_io, \u001b[39m*\u001b[39;49m\u001b[39m*\u001b[39;49mkw)\n\u001b[1;32m    153\u001b[0m data \u001b[39m=\u001b[39m bytes_io\u001b[39m.\u001b[39mgetvalue()\n\u001b[1;32m    154\u001b[0m \u001b[39mif\u001b[39;00m fmt \u001b[39m==\u001b[39m \u001b[39m'\u001b[39m\u001b[39msvg\u001b[39m\u001b[39m'\u001b[39m:\n",
      "File \u001b[0;32m~/.local/lib/python3.10/site-packages/matplotlib/backend_bases.py:2336\u001b[0m, in \u001b[0;36mFigureCanvasBase.print_figure\u001b[0;34m(self, filename, dpi, facecolor, edgecolor, orientation, format, bbox_inches, pad_inches, bbox_extra_artists, backend, **kwargs)\u001b[0m\n\u001b[1;32m   2329\u001b[0m     bbox_inches \u001b[39m=\u001b[39m rcParams[\u001b[39m'\u001b[39m\u001b[39msavefig.bbox\u001b[39m\u001b[39m'\u001b[39m]\n\u001b[1;32m   2331\u001b[0m \u001b[39mif\u001b[39;00m (\u001b[39mself\u001b[39m\u001b[39m.\u001b[39mfigure\u001b[39m.\u001b[39mget_layout_engine() \u001b[39mis\u001b[39;00m \u001b[39mnot\u001b[39;00m \u001b[39mNone\u001b[39;00m \u001b[39mor\u001b[39;00m\n\u001b[1;32m   2332\u001b[0m         bbox_inches \u001b[39m==\u001b[39m \u001b[39m\"\u001b[39m\u001b[39mtight\u001b[39m\u001b[39m\"\u001b[39m):\n\u001b[1;32m   2333\u001b[0m     \u001b[39m# we need to trigger a draw before printing to make sure\u001b[39;00m\n\u001b[1;32m   2334\u001b[0m     \u001b[39m# CL works.  \"tight\" also needs a draw to get the right\u001b[39;00m\n\u001b[1;32m   2335\u001b[0m     \u001b[39m# locations:\u001b[39;00m\n\u001b[0;32m-> 2336\u001b[0m     renderer \u001b[39m=\u001b[39m _get_renderer(\n\u001b[1;32m   2337\u001b[0m         \u001b[39mself\u001b[39;49m\u001b[39m.\u001b[39;49mfigure,\n\u001b[1;32m   2338\u001b[0m         functools\u001b[39m.\u001b[39;49mpartial(\n\u001b[1;32m   2339\u001b[0m             print_method, orientation\u001b[39m=\u001b[39;49morientation)\n\u001b[1;32m   2340\u001b[0m     )\n\u001b[1;32m   2341\u001b[0m     \u001b[39mwith\u001b[39;00m \u001b[39mgetattr\u001b[39m(renderer, \u001b[39m\"\u001b[39m\u001b[39m_draw_disabled\u001b[39m\u001b[39m\"\u001b[39m, nullcontext)():\n\u001b[1;32m   2342\u001b[0m         \u001b[39mself\u001b[39m\u001b[39m.\u001b[39mfigure\u001b[39m.\u001b[39mdraw(renderer)\n",
      "File \u001b[0;32m~/.local/lib/python3.10/site-packages/matplotlib/backend_bases.py:1598\u001b[0m, in \u001b[0;36m_get_renderer\u001b[0;34m(figure, print_method)\u001b[0m\n\u001b[1;32m   1595\u001b[0m     print_method \u001b[39m=\u001b[39m stack\u001b[39m.\u001b[39menter_context(\n\u001b[1;32m   1596\u001b[0m         figure\u001b[39m.\u001b[39mcanvas\u001b[39m.\u001b[39m_switch_canvas_and_return_print_method(fmt))\n\u001b[1;32m   1597\u001b[0m \u001b[39mtry\u001b[39;00m:\n\u001b[0;32m-> 1598\u001b[0m     print_method(io\u001b[39m.\u001b[39;49mBytesIO())\n\u001b[1;32m   1599\u001b[0m \u001b[39mexcept\u001b[39;00m Done \u001b[39mas\u001b[39;00m exc:\n\u001b[1;32m   1600\u001b[0m     renderer, \u001b[39m=\u001b[39m exc\u001b[39m.\u001b[39margs\n",
      "File \u001b[0;32m~/.local/lib/python3.10/site-packages/matplotlib/backend_bases.py:2232\u001b[0m, in \u001b[0;36mFigureCanvasBase._switch_canvas_and_return_print_method.<locals>.<lambda>\u001b[0;34m(*args, **kwargs)\u001b[0m\n\u001b[1;32m   2228\u001b[0m     optional_kws \u001b[39m=\u001b[39m {  \u001b[39m# Passed by print_figure for other renderers.\u001b[39;00m\n\u001b[1;32m   2229\u001b[0m         \u001b[39m\"\u001b[39m\u001b[39mdpi\u001b[39m\u001b[39m\"\u001b[39m, \u001b[39m\"\u001b[39m\u001b[39mfacecolor\u001b[39m\u001b[39m\"\u001b[39m, \u001b[39m\"\u001b[39m\u001b[39medgecolor\u001b[39m\u001b[39m\"\u001b[39m, \u001b[39m\"\u001b[39m\u001b[39morientation\u001b[39m\u001b[39m\"\u001b[39m,\n\u001b[1;32m   2230\u001b[0m         \u001b[39m\"\u001b[39m\u001b[39mbbox_inches_restore\u001b[39m\u001b[39m\"\u001b[39m}\n\u001b[1;32m   2231\u001b[0m     skip \u001b[39m=\u001b[39m optional_kws \u001b[39m-\u001b[39m {\u001b[39m*\u001b[39minspect\u001b[39m.\u001b[39msignature(meth)\u001b[39m.\u001b[39mparameters}\n\u001b[0;32m-> 2232\u001b[0m     print_method \u001b[39m=\u001b[39m functools\u001b[39m.\u001b[39mwraps(meth)(\u001b[39mlambda\u001b[39;00m \u001b[39m*\u001b[39margs, \u001b[39m*\u001b[39m\u001b[39m*\u001b[39mkwargs: meth(\n\u001b[1;32m   2233\u001b[0m         \u001b[39m*\u001b[39;49margs, \u001b[39m*\u001b[39;49m\u001b[39m*\u001b[39;49m{k: v \u001b[39mfor\u001b[39;49;00m k, v \u001b[39min\u001b[39;49;00m kwargs\u001b[39m.\u001b[39;49mitems() \u001b[39mif\u001b[39;49;00m k \u001b[39mnot\u001b[39;49;00m \u001b[39min\u001b[39;49;00m skip}))\n\u001b[1;32m   2234\u001b[0m \u001b[39melse\u001b[39;00m:  \u001b[39m# Let third-parties do as they see fit.\u001b[39;00m\n\u001b[1;32m   2235\u001b[0m     print_method \u001b[39m=\u001b[39m meth\n",
      "File \u001b[0;32m~/.local/lib/python3.10/site-packages/matplotlib/backends/backend_agg.py:509\u001b[0m, in \u001b[0;36mFigureCanvasAgg.print_png\u001b[0;34m(self, filename_or_obj, metadata, pil_kwargs)\u001b[0m\n\u001b[1;32m    462\u001b[0m \u001b[39mdef\u001b[39;00m \u001b[39mprint_png\u001b[39m(\u001b[39mself\u001b[39m, filename_or_obj, \u001b[39m*\u001b[39m, metadata\u001b[39m=\u001b[39m\u001b[39mNone\u001b[39;00m, pil_kwargs\u001b[39m=\u001b[39m\u001b[39mNone\u001b[39;00m):\n\u001b[1;32m    463\u001b[0m \u001b[39m    \u001b[39m\u001b[39m\"\"\"\u001b[39;00m\n\u001b[1;32m    464\u001b[0m \u001b[39m    Write the figure to a PNG file.\u001b[39;00m\n\u001b[1;32m    465\u001b[0m \n\u001b[0;32m   (...)\u001b[0m\n\u001b[1;32m    507\u001b[0m \u001b[39m        *metadata*, including the default 'Software' key.\u001b[39;00m\n\u001b[1;32m    508\u001b[0m \u001b[39m    \"\"\"\u001b[39;00m\n\u001b[0;32m--> 509\u001b[0m     \u001b[39mself\u001b[39;49m\u001b[39m.\u001b[39;49m_print_pil(filename_or_obj, \u001b[39m\"\u001b[39;49m\u001b[39mpng\u001b[39;49m\u001b[39m\"\u001b[39;49m, pil_kwargs, metadata)\n",
      "File \u001b[0;32m~/.local/lib/python3.10/site-packages/matplotlib/backends/backend_agg.py:457\u001b[0m, in \u001b[0;36mFigureCanvasAgg._print_pil\u001b[0;34m(self, filename_or_obj, fmt, pil_kwargs, metadata)\u001b[0m\n\u001b[1;32m    452\u001b[0m \u001b[39mdef\u001b[39;00m \u001b[39m_print_pil\u001b[39m(\u001b[39mself\u001b[39m, filename_or_obj, fmt, pil_kwargs, metadata\u001b[39m=\u001b[39m\u001b[39mNone\u001b[39;00m):\n\u001b[1;32m    453\u001b[0m \u001b[39m    \u001b[39m\u001b[39m\"\"\"\u001b[39;00m\n\u001b[1;32m    454\u001b[0m \u001b[39m    Draw the canvas, then save it using `.image.imsave` (to which\u001b[39;00m\n\u001b[1;32m    455\u001b[0m \u001b[39m    *pil_kwargs* and *metadata* are forwarded).\u001b[39;00m\n\u001b[1;32m    456\u001b[0m \u001b[39m    \"\"\"\u001b[39;00m\n\u001b[0;32m--> 457\u001b[0m     FigureCanvasAgg\u001b[39m.\u001b[39;49mdraw(\u001b[39mself\u001b[39;49m)\n\u001b[1;32m    458\u001b[0m     mpl\u001b[39m.\u001b[39mimage\u001b[39m.\u001b[39mimsave(\n\u001b[1;32m    459\u001b[0m         filename_or_obj, \u001b[39mself\u001b[39m\u001b[39m.\u001b[39mbuffer_rgba(), \u001b[39mformat\u001b[39m\u001b[39m=\u001b[39mfmt, origin\u001b[39m=\u001b[39m\u001b[39m\"\u001b[39m\u001b[39mupper\u001b[39m\u001b[39m\"\u001b[39m,\n\u001b[1;32m    460\u001b[0m         dpi\u001b[39m=\u001b[39m\u001b[39mself\u001b[39m\u001b[39m.\u001b[39mfigure\u001b[39m.\u001b[39mdpi, metadata\u001b[39m=\u001b[39mmetadata, pil_kwargs\u001b[39m=\u001b[39mpil_kwargs)\n",
      "File \u001b[0;32m~/.local/lib/python3.10/site-packages/matplotlib/backends/backend_agg.py:394\u001b[0m, in \u001b[0;36mFigureCanvasAgg.draw\u001b[0;34m(self)\u001b[0m\n\u001b[1;32m    392\u001b[0m \u001b[39mdef\u001b[39;00m \u001b[39mdraw\u001b[39m(\u001b[39mself\u001b[39m):\n\u001b[1;32m    393\u001b[0m     \u001b[39m# docstring inherited\u001b[39;00m\n\u001b[0;32m--> 394\u001b[0m     \u001b[39mself\u001b[39m\u001b[39m.\u001b[39mrenderer \u001b[39m=\u001b[39m \u001b[39mself\u001b[39;49m\u001b[39m.\u001b[39;49mget_renderer()\n\u001b[1;32m    395\u001b[0m     \u001b[39mself\u001b[39m\u001b[39m.\u001b[39mrenderer\u001b[39m.\u001b[39mclear()\n\u001b[1;32m    396\u001b[0m     \u001b[39m# Acquire a lock on the shared font cache.\u001b[39;00m\n",
      "File \u001b[0;32m~/.local/lib/python3.10/site-packages/matplotlib/_api/deprecation.py:384\u001b[0m, in \u001b[0;36mdelete_parameter.<locals>.wrapper\u001b[0;34m(*inner_args, **inner_kwargs)\u001b[0m\n\u001b[1;32m    379\u001b[0m \u001b[39m@functools\u001b[39m\u001b[39m.\u001b[39mwraps(func)\n\u001b[1;32m    380\u001b[0m \u001b[39mdef\u001b[39;00m \u001b[39mwrapper\u001b[39m(\u001b[39m*\u001b[39minner_args, \u001b[39m*\u001b[39m\u001b[39m*\u001b[39minner_kwargs):\n\u001b[1;32m    381\u001b[0m     \u001b[39mif\u001b[39;00m \u001b[39mlen\u001b[39m(inner_args) \u001b[39m<\u001b[39m\u001b[39m=\u001b[39m name_idx \u001b[39mand\u001b[39;00m name \u001b[39mnot\u001b[39;00m \u001b[39min\u001b[39;00m inner_kwargs:\n\u001b[1;32m    382\u001b[0m         \u001b[39m# Early return in the simple, non-deprecated case (much faster than\u001b[39;00m\n\u001b[1;32m    383\u001b[0m         \u001b[39m# calling bind()).\u001b[39;00m\n\u001b[0;32m--> 384\u001b[0m         \u001b[39mreturn\u001b[39;00m func(\u001b[39m*\u001b[39;49minner_args, \u001b[39m*\u001b[39;49m\u001b[39m*\u001b[39;49minner_kwargs)\n\u001b[1;32m    385\u001b[0m     arguments \u001b[39m=\u001b[39m signature\u001b[39m.\u001b[39mbind(\u001b[39m*\u001b[39minner_args, \u001b[39m*\u001b[39m\u001b[39m*\u001b[39minner_kwargs)\u001b[39m.\u001b[39marguments\n\u001b[1;32m    386\u001b[0m     \u001b[39mif\u001b[39;00m is_varargs \u001b[39mand\u001b[39;00m arguments\u001b[39m.\u001b[39mget(name):\n",
      "File \u001b[0;32m~/.local/lib/python3.10/site-packages/matplotlib/backends/backend_agg.py:411\u001b[0m, in \u001b[0;36mFigureCanvasAgg.get_renderer\u001b[0;34m(self, cleared)\u001b[0m\n\u001b[1;32m    409\u001b[0m reuse_renderer \u001b[39m=\u001b[39m (\u001b[39mself\u001b[39m\u001b[39m.\u001b[39m_lastKey \u001b[39m==\u001b[39m key)\n\u001b[1;32m    410\u001b[0m \u001b[39mif\u001b[39;00m \u001b[39mnot\u001b[39;00m reuse_renderer:\n\u001b[0;32m--> 411\u001b[0m     \u001b[39mself\u001b[39m\u001b[39m.\u001b[39mrenderer \u001b[39m=\u001b[39m RendererAgg(w, h, \u001b[39mself\u001b[39;49m\u001b[39m.\u001b[39;49mfigure\u001b[39m.\u001b[39;49mdpi)\n\u001b[1;32m    412\u001b[0m     \u001b[39mself\u001b[39m\u001b[39m.\u001b[39m_lastKey \u001b[39m=\u001b[39m key\n\u001b[1;32m    413\u001b[0m \u001b[39melif\u001b[39;00m cleared:\n",
      "File \u001b[0;32m~/.local/lib/python3.10/site-packages/matplotlib/backends/backend_agg.py:84\u001b[0m, in \u001b[0;36mRendererAgg.__init__\u001b[0;34m(self, width, height, dpi)\u001b[0m\n\u001b[1;32m     82\u001b[0m \u001b[39mself\u001b[39m\u001b[39m.\u001b[39mwidth \u001b[39m=\u001b[39m width\n\u001b[1;32m     83\u001b[0m \u001b[39mself\u001b[39m\u001b[39m.\u001b[39mheight \u001b[39m=\u001b[39m height\n\u001b[0;32m---> 84\u001b[0m \u001b[39mself\u001b[39m\u001b[39m.\u001b[39m_renderer \u001b[39m=\u001b[39m _RendererAgg(\u001b[39mint\u001b[39;49m(width), \u001b[39mint\u001b[39;49m(height), dpi)\n\u001b[1;32m     85\u001b[0m \u001b[39mself\u001b[39m\u001b[39m.\u001b[39m_filter_renderers \u001b[39m=\u001b[39m []\n\u001b[1;32m     87\u001b[0m \u001b[39mself\u001b[39m\u001b[39m.\u001b[39m_update_methods()\n",
      "\u001b[0;31mValueError\u001b[0m: Image size of 800x1057000 pixels is too large. It must be less than 2^16 in each direction."
     ]
    },
    {
     "data": {
      "text/plain": [
       "<Figure size 800x1.057e+06 with 1 Axes>"
      ]
     },
     "metadata": {},
     "output_type": "display_data"
    }
   ],
   "source": [
    "\n",
    "from pycaret.classification import load_model, predict_model\n",
    "from pycaret.classification import *\n",
    "from pycaret.classification import ClassificationExperiment\n",
    "from lightgbm import LGBMClassifier\n",
    "import numpy as np\n",
    "import pandas as pd\n",
    "\n",
    "\n",
    "exp = ClassificationExperiment()\n",
    "dataset_path = '../../data/'\n",
    "data = pd.read_csv('../../data/full_features.csv')\n",
    "\n",
    "y = pd.read_csv('../../data/y.csv')\n",
    "data['signal'] = list(y['signal'])\n",
    "# data.replace([np.inf, -np.inf], np.nan, inplace=True)\n",
    "s = setup(data, target = 'signal', session_id = 123, use_gpu=True)\n",
    "model = create_model(LGBMClassifier())\n",
    "# model = compare_models(exclude='gbc')\n",
    "# validation_scores = pull()\n",
    "# accuracy_mean = validation_scores['Accuracy']['Mean']\n",
    "\n",
    "# save pipeline\n",
    "model_name = 'tsfresh'\n",
    "save_model(model, f'../../models/{model_name}')\n",
    "# print(f'{model_name} model saved. accuracy_mean={accuracy_mean}')\n",
    "plot_model(model, plot = 'confusion_matrix', plot_kwargs = {'percent': True})\n",
    "plot_model(model, plot = 'feature_all')"
   ]
  },
  {
   "cell_type": "code",
   "execution_count": 2,
   "metadata": {},
   "outputs": [
    {
     "data": {
      "text/html": [],
      "text/plain": [
       "<IPython.core.display.HTML object>"
      ]
     },
     "metadata": {},
     "output_type": "display_data"
    },
    {
     "data": {
      "image/png": "[encoded data removed]",
      "text/plain": [
       "<Figure size 800x500 with 1 Axes>"
      ]
     },
     "metadata": {},
     "output_type": "display_data"
    }
   ],
   "source": [
    "\n",
    "plot_model(model, plot = 'feature')"
   ]
  },
  {
   "cell_type": "code",
   "execution_count": 15,
   "metadata": {},
   "outputs": [],
   "source": [
    "\n",
    "# Get the feature names from the model\n",
    "feature_names = get_config('X_train').columns\n",
    "\n",
    "# Sort the feature importances in descending order\n",
    "sorted_feature_importances = sorted(model.feature_importances_, reverse=True)\n",
    "\n",
    "# Create a DataFrame with the feature names and importances\n",
    "feature_importance_df = pd.DataFrame({'Feature': feature_names, 'Importance': sorted_feature_importances})\n"
   ]
  },
  {
   "cell_type": "code",
   "execution_count": 18,
   "metadata": {},
   "outputs": [],
   "source": [
    "feature_importance_df.to_csv('../../data/feature_importance.csv', index=False)"
   ]
  },
  {
   "cell_type": "code",
   "execution_count": 19,
   "metadata": {},
   "outputs": [],
   "source": [
    "selected_feats = feature_importance_df[:54]"
   ]
  },
  {
   "cell_type": "code",
   "execution_count": 20,
   "metadata": {},
   "outputs": [
    {
     "data": {
      "text/html": [
       "<div>\n",
       "<style scoped>\n",
       "    .dataframe tbody tr th:only-of-type {\n",
       "        vertical-align: middle;\n",
       "    }\n",
       "\n",
       "    .dataframe tbody tr th {\n",
       "        vertical-align: top;\n",
       "    }\n",
       "\n",
       "    .dataframe thead th {\n",
       "        text-align: right;\n",
       "    }\n",
       "</style>\n",
       "<table border=\"1\" class=\"dataframe\">\n",
       "  <thead>\n",
       "    <tr style=\"text-align: right;\">\n",
       "      <th></th>\n",
       "      <th>Feature</th>\n",
       "      <th>Importance</th>\n",
       "    </tr>\n",
       "  </thead>\n",
       "  <tbody>\n",
       "    <tr>\n",
       "      <th>0</th>\n",
       "      <td>LOGRET_1__variance_larger_than_standard_deviation</td>\n",
       "      <td>33</td>\n",
       "    </tr>\n",
       "    <tr>\n",
       "      <th>1</th>\n",
       "      <td>LOGRET_1__has_duplicate_max</td>\n",
       "      <td>26</td>\n",
       "    </tr>\n",
       "    <tr>\n",
       "      <th>2</th>\n",
       "      <td>LOGRET_1__has_duplicate_min</td>\n",
       "      <td>21</td>\n",
       "    </tr>\n",
       "    <tr>\n",
       "      <th>3</th>\n",
       "      <td>LOGRET_1__has_duplicate</td>\n",
       "      <td>20</td>\n",
       "    </tr>\n",
       "    <tr>\n",
       "      <th>4</th>\n",
       "      <td>LOGRET_1__sum_values</td>\n",
       "      <td>20</td>\n",
       "    </tr>\n",
       "    <tr>\n",
       "      <th>5</th>\n",
       "      <td>LOGRET_1__abs_energy</td>\n",
       "      <td>18</td>\n",
       "    </tr>\n",
       "    <tr>\n",
       "      <th>6</th>\n",
       "      <td>LOGRET_1__mean_abs_change</td>\n",
       "      <td>17</td>\n",
       "    </tr>\n",
       "    <tr>\n",
       "      <th>7</th>\n",
       "      <td>LOGRET_1__mean_change</td>\n",
       "      <td>17</td>\n",
       "    </tr>\n",
       "    <tr>\n",
       "      <th>8</th>\n",
       "      <td>LOGRET_1__mean_second_derivative_central</td>\n",
       "      <td>17</td>\n",
       "    </tr>\n",
       "    <tr>\n",
       "      <th>9</th>\n",
       "      <td>LOGRET_1__median</td>\n",
       "      <td>16</td>\n",
       "    </tr>\n",
       "    <tr>\n",
       "      <th>10</th>\n",
       "      <td>LOGRET_1__mean</td>\n",
       "      <td>16</td>\n",
       "    </tr>\n",
       "    <tr>\n",
       "      <th>11</th>\n",
       "      <td>LOGRET_1__length</td>\n",
       "      <td>16</td>\n",
       "    </tr>\n",
       "    <tr>\n",
       "      <th>12</th>\n",
       "      <td>LOGRET_1__standard_deviation</td>\n",
       "      <td>16</td>\n",
       "    </tr>\n",
       "    <tr>\n",
       "      <th>13</th>\n",
       "      <td>LOGRET_1__variation_coefficient</td>\n",
       "      <td>16</td>\n",
       "    </tr>\n",
       "    <tr>\n",
       "      <th>14</th>\n",
       "      <td>LOGRET_1__variance</td>\n",
       "      <td>15</td>\n",
       "    </tr>\n",
       "    <tr>\n",
       "      <th>15</th>\n",
       "      <td>LOGRET_1__skewness</td>\n",
       "      <td>15</td>\n",
       "    </tr>\n",
       "    <tr>\n",
       "      <th>16</th>\n",
       "      <td>LOGRET_1__kurtosis</td>\n",
       "      <td>15</td>\n",
       "    </tr>\n",
       "    <tr>\n",
       "      <th>17</th>\n",
       "      <td>LOGRET_1__root_mean_square</td>\n",
       "      <td>15</td>\n",
       "    </tr>\n",
       "    <tr>\n",
       "      <th>18</th>\n",
       "      <td>LOGRET_1__absolute_sum_of_changes</td>\n",
       "      <td>14</td>\n",
       "    </tr>\n",
       "    <tr>\n",
       "      <th>19</th>\n",
       "      <td>LOGRET_1__longest_strike_below_mean</td>\n",
       "      <td>14</td>\n",
       "    </tr>\n",
       "    <tr>\n",
       "      <th>20</th>\n",
       "      <td>LOGRET_1__longest_strike_above_mean</td>\n",
       "      <td>14</td>\n",
       "    </tr>\n",
       "    <tr>\n",
       "      <th>21</th>\n",
       "      <td>LOGRET_1__count_above_mean</td>\n",
       "      <td>14</td>\n",
       "    </tr>\n",
       "    <tr>\n",
       "      <th>22</th>\n",
       "      <td>LOGRET_1__count_below_mean</td>\n",
       "      <td>14</td>\n",
       "    </tr>\n",
       "    <tr>\n",
       "      <th>23</th>\n",
       "      <td>LOGRET_1__last_location_of_maximum</td>\n",
       "      <td>14</td>\n",
       "    </tr>\n",
       "    <tr>\n",
       "      <th>24</th>\n",
       "      <td>LOGRET_1__first_location_of_maximum</td>\n",
       "      <td>14</td>\n",
       "    </tr>\n",
       "    <tr>\n",
       "      <th>25</th>\n",
       "      <td>LOGRET_1__last_location_of_minimum</td>\n",
       "      <td>14</td>\n",
       "    </tr>\n",
       "    <tr>\n",
       "      <th>26</th>\n",
       "      <td>LOGRET_1__first_location_of_minimum</td>\n",
       "      <td>13</td>\n",
       "    </tr>\n",
       "    <tr>\n",
       "      <th>27</th>\n",
       "      <td>LOGRET_1__percentage_of_reoccurring_values_to_...</td>\n",
       "      <td>13</td>\n",
       "    </tr>\n",
       "    <tr>\n",
       "      <th>28</th>\n",
       "      <td>LOGRET_1__percentage_of_reoccurring_datapoints...</td>\n",
       "      <td>13</td>\n",
       "    </tr>\n",
       "    <tr>\n",
       "      <th>29</th>\n",
       "      <td>LOGRET_1__sum_of_reoccurring_values</td>\n",
       "      <td>13</td>\n",
       "    </tr>\n",
       "    <tr>\n",
       "      <th>30</th>\n",
       "      <td>LOGRET_1__sum_of_reoccurring_data_points</td>\n",
       "      <td>13</td>\n",
       "    </tr>\n",
       "    <tr>\n",
       "      <th>31</th>\n",
       "      <td>LOGRET_1__ratio_value_number_to_time_series_le...</td>\n",
       "      <td>13</td>\n",
       "    </tr>\n",
       "    <tr>\n",
       "      <th>32</th>\n",
       "      <td>LOGRET_1__sample_entropy</td>\n",
       "      <td>13</td>\n",
       "    </tr>\n",
       "    <tr>\n",
       "      <th>33</th>\n",
       "      <td>LOGRET_1__maximum</td>\n",
       "      <td>12</td>\n",
       "    </tr>\n",
       "    <tr>\n",
       "      <th>34</th>\n",
       "      <td>LOGRET_1__absolute_maximum</td>\n",
       "      <td>12</td>\n",
       "    </tr>\n",
       "    <tr>\n",
       "      <th>35</th>\n",
       "      <td>LOGRET_1__minimum</td>\n",
       "      <td>12</td>\n",
       "    </tr>\n",
       "    <tr>\n",
       "      <th>36</th>\n",
       "      <td>LOGRET_1__benford_correlation</td>\n",
       "      <td>12</td>\n",
       "    </tr>\n",
       "    <tr>\n",
       "      <th>37</th>\n",
       "      <td>LOGRET_1__time_reversal_asymmetry_statistic__l...</td>\n",
       "      <td>12</td>\n",
       "    </tr>\n",
       "    <tr>\n",
       "      <th>38</th>\n",
       "      <td>LOGRET_1__time_reversal_asymmetry_statistic__l...</td>\n",
       "      <td>12</td>\n",
       "    </tr>\n",
       "    <tr>\n",
       "      <th>39</th>\n",
       "      <td>LOGRET_1__time_reversal_asymmetry_statistic__l...</td>\n",
       "      <td>12</td>\n",
       "    </tr>\n",
       "    <tr>\n",
       "      <th>40</th>\n",
       "      <td>LOGRET_1__c3__lag_1</td>\n",
       "      <td>12</td>\n",
       "    </tr>\n",
       "    <tr>\n",
       "      <th>41</th>\n",
       "      <td>LOGRET_1__c3__lag_2</td>\n",
       "      <td>11</td>\n",
       "    </tr>\n",
       "    <tr>\n",
       "      <th>42</th>\n",
       "      <td>LOGRET_1__c3__lag_3</td>\n",
       "      <td>11</td>\n",
       "    </tr>\n",
       "    <tr>\n",
       "      <th>43</th>\n",
       "      <td>LOGRET_1__cid_ce__normalize_True</td>\n",
       "      <td>11</td>\n",
       "    </tr>\n",
       "    <tr>\n",
       "      <th>44</th>\n",
       "      <td>LOGRET_1__cid_ce__normalize_False</td>\n",
       "      <td>11</td>\n",
       "    </tr>\n",
       "    <tr>\n",
       "      <th>45</th>\n",
       "      <td>LOGRET_1__symmetry_looking__r_0.0</td>\n",
       "      <td>11</td>\n",
       "    </tr>\n",
       "    <tr>\n",
       "      <th>46</th>\n",
       "      <td>LOGRET_1__symmetry_looking__r_0.05</td>\n",
       "      <td>11</td>\n",
       "    </tr>\n",
       "    <tr>\n",
       "      <th>47</th>\n",
       "      <td>LOGRET_1__symmetry_looking__r_0.1</td>\n",
       "      <td>11</td>\n",
       "    </tr>\n",
       "    <tr>\n",
       "      <th>48</th>\n",
       "      <td>LOGRET_1__symmetry_looking__r_0.15000000000000002</td>\n",
       "      <td>11</td>\n",
       "    </tr>\n",
       "    <tr>\n",
       "      <th>49</th>\n",
       "      <td>LOGRET_1__symmetry_looking__r_0.2</td>\n",
       "      <td>11</td>\n",
       "    </tr>\n",
       "    <tr>\n",
       "      <th>50</th>\n",
       "      <td>LOGRET_1__symmetry_looking__r_0.25</td>\n",
       "      <td>11</td>\n",
       "    </tr>\n",
       "    <tr>\n",
       "      <th>51</th>\n",
       "      <td>LOGRET_1__symmetry_looking__r_0.30000000000000004</td>\n",
       "      <td>11</td>\n",
       "    </tr>\n",
       "    <tr>\n",
       "      <th>52</th>\n",
       "      <td>LOGRET_1__symmetry_looking__r_0.35000000000000003</td>\n",
       "      <td>11</td>\n",
       "    </tr>\n",
       "    <tr>\n",
       "      <th>53</th>\n",
       "      <td>LOGRET_1__symmetry_looking__r_0.4</td>\n",
       "      <td>10</td>\n",
       "    </tr>\n",
       "  </tbody>\n",
       "</table>\n",
       "</div>"
      ],
      "text/plain": [
       "                                              Feature  Importance\n",
       "0   LOGRET_1__variance_larger_than_standard_deviation          33\n",
       "1                         LOGRET_1__has_duplicate_max          26\n",
       "2                         LOGRET_1__has_duplicate_min          21\n",
       "3                             LOGRET_1__has_duplicate          20\n",
       "4                                LOGRET_1__sum_values          20\n",
       "5                                LOGRET_1__abs_energy          18\n",
       "6                           LOGRET_1__mean_abs_change          17\n",
       "7                               LOGRET_1__mean_change          17\n",
       "8            LOGRET_1__mean_second_derivative_central          17\n",
       "9                                    LOGRET_1__median          16\n",
       "10                                     LOGRET_1__mean          16\n",
       "11                                   LOGRET_1__length          16\n",
       "12                       LOGRET_1__standard_deviation          16\n",
       "13                    LOGRET_1__variation_coefficient          16\n",
       "14                                 LOGRET_1__variance          15\n",
       "15                                 LOGRET_1__skewness          15\n",
       "16                                 LOGRET_1__kurtosis          15\n",
       "17                         LOGRET_1__root_mean_square          15\n",
       "18                  LOGRET_1__absolute_sum_of_changes          14\n",
       "19                LOGRET_1__longest_strike_below_mean          14\n",
       "20                LOGRET_1__longest_strike_above_mean          14\n",
       "21                         LOGRET_1__count_above_mean          14\n",
       "22                         LOGRET_1__count_below_mean          14\n",
       "23                 LOGRET_1__last_location_of_maximum          14\n",
       "24                LOGRET_1__first_location_of_maximum          14\n",
       "25                 LOGRET_1__last_location_of_minimum          14\n",
       "26                LOGRET_1__first_location_of_minimum          13\n",
       "27  LOGRET_1__percentage_of_reoccurring_values_to_...          13\n",
       "28  LOGRET_1__percentage_of_reoccurring_datapoints...          13\n",
       "29                LOGRET_1__sum_of_reoccurring_values          13\n",
       "30           LOGRET_1__sum_of_reoccurring_data_points          13\n",
       "31  LOGRET_1__ratio_value_number_to_time_series_le...          13\n",
       "32                           LOGRET_1__sample_entropy          13\n",
       "33                                  LOGRET_1__maximum          12\n",
       "34                         LOGRET_1__absolute_maximum          12\n",
       "35                                  LOGRET_1__minimum          12\n",
       "36                      LOGRET_1__benford_correlation          12\n",
       "37  LOGRET_1__time_reversal_asymmetry_statistic__l...          12\n",
       "38  LOGRET_1__time_reversal_asymmetry_statistic__l...          12\n",
       "39  LOGRET_1__time_reversal_asymmetry_statistic__l...          12\n",
       "40                                LOGRET_1__c3__lag_1          12\n",
       "41                                LOGRET_1__c3__lag_2          11\n",
       "42                                LOGRET_1__c3__lag_3          11\n",
       "43                   LOGRET_1__cid_ce__normalize_True          11\n",
       "44                  LOGRET_1__cid_ce__normalize_False          11\n",
       "45                  LOGRET_1__symmetry_looking__r_0.0          11\n",
       "46                 LOGRET_1__symmetry_looking__r_0.05          11\n",
       "47                  LOGRET_1__symmetry_looking__r_0.1          11\n",
       "48  LOGRET_1__symmetry_looking__r_0.15000000000000002          11\n",
       "49                  LOGRET_1__symmetry_looking__r_0.2          11\n",
       "50                 LOGRET_1__symmetry_looking__r_0.25          11\n",
       "51  LOGRET_1__symmetry_looking__r_0.30000000000000004          11\n",
       "52  LOGRET_1__symmetry_looking__r_0.35000000000000003          11\n",
       "53                  LOGRET_1__symmetry_looking__r_0.4          10"
      ]
     },
     "execution_count": 20,
     "metadata": {},
     "output_type": "execute_result"
    }
   ],
   "source": [
    "selected_feats"
   ]
  },
  {
   "cell_type": "code",
   "execution_count": 22,
   "metadata": {},
   "outputs": [
    {
     "data": {
      "text/plain": [
       "20405"
      ]
     },
     "execution_count": 22,
     "metadata": {},
     "output_type": "execute_result"
    }
   ],
   "source": [
    "len(y)"
   ]
  },
  {
   "cell_type": "code",
   "execution_count": 37,
   "metadata": {},
   "outputs": [
    {
     "data": {
      "text/html": [
       "<div>\n",
       "<style scoped>\n",
       "    .dataframe tbody tr th:only-of-type {\n",
       "        vertical-align: middle;\n",
       "    }\n",
       "\n",
       "    .dataframe tbody tr th {\n",
       "        vertical-align: top;\n",
       "    }\n",
       "\n",
       "    .dataframe thead th {\n",
       "        text-align: right;\n",
       "    }\n",
       "</style>\n",
       "<table border=\"1\" class=\"dataframe\">\n",
       "  <thead>\n",
       "    <tr style=\"text-align: right;\">\n",
       "      <th></th>\n",
       "      <th>id</th>\n",
       "      <th>time</th>\n",
       "      <th>LOGRET_1</th>\n",
       "      <th>NATR_14</th>\n",
       "      <th>SLOPE_1</th>\n",
       "      <th>BBB_5_2.0</th>\n",
       "      <th>BBP_5_2.0</th>\n",
       "      <th>PGO_14</th>\n",
       "      <th>BEARP_13</th>\n",
       "      <th>BULLP_13</th>\n",
       "      <th>...</th>\n",
       "      <th>AD</th>\n",
       "      <th>TRUERANGE_1</th>\n",
       "      <th>PVT</th>\n",
       "      <th>EBSW_40_10</th>\n",
       "      <th>PVOL</th>\n",
       "      <th>THERMO_20_2_0.5</th>\n",
       "      <th>THERMOma_20_2_0.5</th>\n",
       "      <th>CHOP_14_1_100</th>\n",
       "      <th>PVI_1</th>\n",
       "      <th>VHF_28</th>\n",
       "    </tr>\n",
       "  </thead>\n",
       "  <tbody>\n",
       "    <tr>\n",
       "      <th>0</th>\n",
       "      <td>1</td>\n",
       "      <td>0</td>\n",
       "      <td>0.010806</td>\n",
       "      <td>0.875049</td>\n",
       "      <td>19.75</td>\n",
       "      <td>2.894679</td>\n",
       "      <td>0.909110</td>\n",
       "      <td>1.947055</td>\n",
       "      <td>-0.588383</td>\n",
       "      <td>29.041617</td>\n",
       "      <td>...</td>\n",
       "      <td>-1.135733e+05</td>\n",
       "      <td>29.63</td>\n",
       "      <td>-7.364006e+05</td>\n",
       "      <td>0.966555</td>\n",
       "      <td>1.482101e+08</td>\n",
       "      <td>23.61</td>\n",
       "      <td>11.813130</td>\n",
       "      <td>37.314784</td>\n",
       "      <td>995.134603</td>\n",
       "      <td>0.349426</td>\n",
       "    </tr>\n",
       "    <tr>\n",
       "      <th>1</th>\n",
       "      <td>1</td>\n",
       "      <td>1</td>\n",
       "      <td>0.001266</td>\n",
       "      <td>0.827213</td>\n",
       "      <td>2.30</td>\n",
       "      <td>1.999747</td>\n",
       "      <td>0.765885</td>\n",
       "      <td>0.799088</td>\n",
       "      <td>4.456887</td>\n",
       "      <td>9.256887</td>\n",
       "      <td>...</td>\n",
       "      <td>-1.610750e+05</td>\n",
       "      <td>4.80</td>\n",
       "      <td>-8.240349e+05</td>\n",
       "      <td>0.973481</td>\n",
       "      <td>4.128125e+07</td>\n",
       "      <td>6.30</td>\n",
       "      <td>10.571354</td>\n",
       "      <td>42.102993</td>\n",
       "      <td>994.048107</td>\n",
       "      <td>0.386687</td>\n",
       "    </tr>\n",
       "    <tr>\n",
       "      <th>2</th>\n",
       "      <td>1</td>\n",
       "      <td>2</td>\n",
       "      <td>0.001356</td>\n",
       "      <td>0.871636</td>\n",
       "      <td>2.46</td>\n",
       "      <td>1.697058</td>\n",
       "      <td>0.821647</td>\n",
       "      <td>0.666517</td>\n",
       "      <td>-0.671965</td>\n",
       "      <td>9.038035</td>\n",
       "      <td>...</td>\n",
       "      <td>-1.626836e+05</td>\n",
       "      <td>9.71</td>\n",
       "      <td>-8.269119e+05</td>\n",
       "      <td>0.770668</td>\n",
       "      <td>5.597310e+07</td>\n",
       "      <td>15.19</td>\n",
       "      <td>11.020970</td>\n",
       "      <td>43.704205</td>\n",
       "      <td>994.048107</td>\n",
       "      <td>0.436743</td>\n",
       "    </tr>\n",
       "    <tr>\n",
       "      <th>3</th>\n",
       "      <td>1</td>\n",
       "      <td>3</td>\n",
       "      <td>0.009259</td>\n",
       "      <td>0.898760</td>\n",
       "      <td>16.71</td>\n",
       "      <td>1.302934</td>\n",
       "      <td>0.926190</td>\n",
       "      <td>0.498467</td>\n",
       "      <td>-14.878959</td>\n",
       "      <td>4.991041</td>\n",
       "      <td>...</td>\n",
       "      <td>-1.735746e+05</td>\n",
       "      <td>19.87</td>\n",
       "      <td>-8.310953e+05</td>\n",
       "      <td>0.763012</td>\n",
       "      <td>5.045162e+07</td>\n",
       "      <td>11.77</td>\n",
       "      <td>10.582125</td>\n",
       "      <td>44.530639</td>\n",
       "      <td>993.912421</td>\n",
       "      <td>0.437784</td>\n",
       "    </tr>\n",
       "    <tr>\n",
       "      <th>4</th>\n",
       "      <td>1</td>\n",
       "      <td>4</td>\n",
       "      <td>-0.001074</td>\n",
       "      <td>0.891810</td>\n",
       "      <td>-1.93</td>\n",
       "      <td>0.709200</td>\n",
       "      <td>0.137337</td>\n",
       "      <td>-0.504174</td>\n",
       "      <td>-15.282119</td>\n",
       "      <td>-6.042119</td>\n",
       "      <td>...</td>\n",
       "      <td>-1.998055e+05</td>\n",
       "      <td>9.24</td>\n",
       "      <td>-8.569817e+05</td>\n",
       "      <td>0.767368</td>\n",
       "      <td>3.860284e+07</td>\n",
       "      <td>4.37</td>\n",
       "      <td>10.457085</td>\n",
       "      <td>37.689944</td>\n",
       "      <td>992.982176</td>\n",
       "      <td>0.523602</td>\n",
       "    </tr>\n",
       "    <tr>\n",
       "      <th>...</th>\n",
       "      <td>...</td>\n",
       "      <td>...</td>\n",
       "      <td>...</td>\n",
       "      <td>...</td>\n",
       "      <td>...</td>\n",
       "      <td>...</td>\n",
       "      <td>...</td>\n",
       "      <td>...</td>\n",
       "      <td>...</td>\n",
       "      <td>...</td>\n",
       "      <td>...</td>\n",
       "      <td>...</td>\n",
       "      <td>...</td>\n",
       "      <td>...</td>\n",
       "      <td>...</td>\n",
       "      <td>...</td>\n",
       "      <td>...</td>\n",
       "      <td>...</td>\n",
       "      <td>...</td>\n",
       "      <td>...</td>\n",
       "      <td>...</td>\n",
       "    </tr>\n",
       "    <tr>\n",
       "      <th>244855</th>\n",
       "      <td>20405</td>\n",
       "      <td>7</td>\n",
       "      <td>0.001686</td>\n",
       "      <td>0.124251</td>\n",
       "      <td>2.02</td>\n",
       "      <td>0.358466</td>\n",
       "      <td>0.976381</td>\n",
       "      <td>1.721239</td>\n",
       "      <td>-0.079815</td>\n",
       "      <td>3.400185</td>\n",
       "      <td>...</td>\n",
       "      <td>-1.119099e+07</td>\n",
       "      <td>3.48</td>\n",
       "      <td>-9.863551e+06</td>\n",
       "      <td>0.734477</td>\n",
       "      <td>5.322720e+07</td>\n",
       "      <td>2.64</td>\n",
       "      <td>0.911362</td>\n",
       "      <td>50.656197</td>\n",
       "      <td>969.030348</td>\n",
       "      <td>0.297589</td>\n",
       "    </tr>\n",
       "    <tr>\n",
       "      <th>244856</th>\n",
       "      <td>20405</td>\n",
       "      <td>8</td>\n",
       "      <td>0.000334</td>\n",
       "      <td>0.111671</td>\n",
       "      <td>0.40</td>\n",
       "      <td>0.112655</td>\n",
       "      <td>0.928846</td>\n",
       "      <td>0.547024</td>\n",
       "      <td>0.360216</td>\n",
       "      <td>1.160216</td>\n",
       "      <td>...</td>\n",
       "      <td>-1.120987e+07</td>\n",
       "      <td>0.80</td>\n",
       "      <td>-9.871042e+06</td>\n",
       "      <td>0.199615</td>\n",
       "      <td>1.086072e+07</td>\n",
       "      <td>0.78</td>\n",
       "      <td>0.729400</td>\n",
       "      <td>64.001354</td>\n",
       "      <td>968.861590</td>\n",
       "      <td>0.235763</td>\n",
       "    </tr>\n",
       "    <tr>\n",
       "      <th>244857</th>\n",
       "      <td>20405</td>\n",
       "      <td>9</td>\n",
       "      <td>0.000368</td>\n",
       "      <td>0.115158</td>\n",
       "      <td>0.44</td>\n",
       "      <td>0.081402</td>\n",
       "      <td>0.919019</td>\n",
       "      <td>0.360236</td>\n",
       "      <td>0.060252</td>\n",
       "      <td>0.510252</td>\n",
       "      <td>...</td>\n",
       "      <td>-1.121032e+07</td>\n",
       "      <td>0.45</td>\n",
       "      <td>-9.871346e+06</td>\n",
       "      <td>-0.615150</td>\n",
       "      <td>5.186235e+06</td>\n",
       "      <td>0.45</td>\n",
       "      <td>0.724074</td>\n",
       "      <td>60.335287</td>\n",
       "      <td>968.828161</td>\n",
       "      <td>0.236436</td>\n",
       "    </tr>\n",
       "    <tr>\n",
       "      <th>244858</th>\n",
       "      <td>20405</td>\n",
       "      <td>10</td>\n",
       "      <td>0.000050</td>\n",
       "      <td>0.121168</td>\n",
       "      <td>0.06</td>\n",
       "      <td>0.175563</td>\n",
       "      <td>0.412394</td>\n",
       "      <td>0.165833</td>\n",
       "      <td>-0.304706</td>\n",
       "      <td>0.795294</td>\n",
       "      <td>...</td>\n",
       "      <td>-1.121465e+07</td>\n",
       "      <td>1.10</td>\n",
       "      <td>-9.871505e+06</td>\n",
       "      <td>-0.969104</td>\n",
       "      <td>1.042879e+07</td>\n",
       "      <td>0.38</td>\n",
       "      <td>0.752924</td>\n",
       "      <td>54.703380</td>\n",
       "      <td>968.828161</td>\n",
       "      <td>0.237794</td>\n",
       "    </tr>\n",
       "    <tr>\n",
       "      <th>244859</th>\n",
       "      <td>20405</td>\n",
       "      <td>11</td>\n",
       "      <td>-0.000125</td>\n",
       "      <td>0.123421</td>\n",
       "      <td>-0.15</td>\n",
       "      <td>0.178396</td>\n",
       "      <td>0.395041</td>\n",
       "      <td>0.183976</td>\n",
       "      <td>-0.318823</td>\n",
       "      <td>0.441177</td>\n",
       "      <td>...</td>\n",
       "      <td>-1.121323e+07</td>\n",
       "      <td>0.76</td>\n",
       "      <td>-9.871549e+06</td>\n",
       "      <td>-0.386300</td>\n",
       "      <td>6.871580e+06</td>\n",
       "      <td>0.31</td>\n",
       "      <td>0.792179</td>\n",
       "      <td>49.010601</td>\n",
       "      <td>968.823145</td>\n",
       "      <td>0.234561</td>\n",
       "    </tr>\n",
       "  </tbody>\n",
       "</table>\n",
       "<p>244860 rows × 29 columns</p>\n",
       "</div>"
      ],
      "text/plain": [
       "           id  time  LOGRET_1   NATR_14  SLOPE_1  BBB_5_2.0  BBP_5_2.0  \\\n",
       "0           1     0  0.010806  0.875049    19.75   2.894679   0.909110   \n",
       "1           1     1  0.001266  0.827213     2.30   1.999747   0.765885   \n",
       "2           1     2  0.001356  0.871636     2.46   1.697058   0.821647   \n",
       "3           1     3  0.009259  0.898760    16.71   1.302934   0.926190   \n",
       "4           1     4 -0.001074  0.891810    -1.93   0.709200   0.137337   \n",
       "...       ...   ...       ...       ...      ...        ...        ...   \n",
       "244855  20405     7  0.001686  0.124251     2.02   0.358466   0.976381   \n",
       "244856  20405     8  0.000334  0.111671     0.40   0.112655   0.928846   \n",
       "244857  20405     9  0.000368  0.115158     0.44   0.081402   0.919019   \n",
       "244858  20405    10  0.000050  0.121168     0.06   0.175563   0.412394   \n",
       "244859  20405    11 -0.000125  0.123421    -0.15   0.178396   0.395041   \n",
       "\n",
       "          PGO_14   BEARP_13   BULLP_13  ...            AD  TRUERANGE_1  \\\n",
       "0       1.947055  -0.588383  29.041617  ... -1.135733e+05        29.63   \n",
       "1       0.799088   4.456887   9.256887  ... -1.610750e+05         4.80   \n",
       "2       0.666517  -0.671965   9.038035  ... -1.626836e+05         9.71   \n",
       "3       0.498467 -14.878959   4.991041  ... -1.735746e+05        19.87   \n",
       "4      -0.504174 -15.282119  -6.042119  ... -1.998055e+05         9.24   \n",
       "...          ...        ...        ...  ...           ...          ...   \n",
       "244855  1.721239  -0.079815   3.400185  ... -1.119099e+07         3.48   \n",
       "244856  0.547024   0.360216   1.160216  ... -1.120987e+07         0.80   \n",
       "244857  0.360236   0.060252   0.510252  ... -1.121032e+07         0.45   \n",
       "244858  0.165833  -0.304706   0.795294  ... -1.121465e+07         1.10   \n",
       "244859  0.183976  -0.318823   0.441177  ... -1.121323e+07         0.76   \n",
       "\n",
       "                 PVT  EBSW_40_10          PVOL  THERMO_20_2_0.5  \\\n",
       "0      -7.364006e+05    0.966555  1.482101e+08            23.61   \n",
       "1      -8.240349e+05    0.973481  4.128125e+07             6.30   \n",
       "2      -8.269119e+05    0.770668  5.597310e+07            15.19   \n",
       "3      -8.310953e+05    0.763012  5.045162e+07            11.77   \n",
       "4      -8.569817e+05    0.767368  3.860284e+07             4.37   \n",
       "...              ...         ...           ...              ...   \n",
       "244855 -9.863551e+06    0.734477  5.322720e+07             2.64   \n",
       "244856 -9.871042e+06    0.199615  1.086072e+07             0.78   \n",
       "244857 -9.871346e+06   -0.615150  5.186235e+06             0.45   \n",
       "244858 -9.871505e+06   -0.969104  1.042879e+07             0.38   \n",
       "244859 -9.871549e+06   -0.386300  6.871580e+06             0.31   \n",
       "\n",
       "        THERMOma_20_2_0.5  CHOP_14_1_100       PVI_1    VHF_28  \n",
       "0               11.813130      37.314784  995.134603  0.349426  \n",
       "1               10.571354      42.102993  994.048107  0.386687  \n",
       "2               11.020970      43.704205  994.048107  0.436743  \n",
       "3               10.582125      44.530639  993.912421  0.437784  \n",
       "4               10.457085      37.689944  992.982176  0.523602  \n",
       "...                   ...            ...         ...       ...  \n",
       "244855           0.911362      50.656197  969.030348  0.297589  \n",
       "244856           0.729400      64.001354  968.861590  0.235763  \n",
       "244857           0.724074      60.335287  968.828161  0.236436  \n",
       "244858           0.752924      54.703380  968.828161  0.237794  \n",
       "244859           0.792179      49.010601  968.823145  0.234561  \n",
       "\n",
       "[244860 rows x 29 columns]"
      ]
     },
     "execution_count": 37,
     "metadata": {},
     "output_type": "execute_result"
    }
   ],
   "source": [
    "candlestick_frame = 12\n",
    "\n",
    "tot = len(df)\n",
    "dta_lst = []\n",
    "\n",
    "columns = list(df.columns)[:-1]\n",
    "columns.pop(0)\n",
    "f_str = 'id,time,LOGRET_1,NATR_14,SLOPE_1,BBB_5_2.0,BBP_5_2.0,PGO_14,BEARP_13,BULLP_13,EFI_13,DMP_14,DMN_14,CG_10,TRIX_30_9,TRIXs_30_9,SMI_5_20_5,SMIs_5_20_5,SMIo_5_20_5,AD,TRUERANGE_1,PVT,EBSW_40_10,PVOL,THERMO_20_2_0.5,THERMOma_20_2_0.5,CHOP_14_1_100,PVI_1,VHF_28\\n'\n",
    "time = list(df['time'])\n",
    "lst_columns = {}\n",
    "y_tsfresh = []\n",
    "for c in columns:\n",
    "    lst_columns[c] = list(df[c])\n",
    "for id in range(candlestick_frame, tot, 1):\n",
    "    y_tsfresh.append(y[id])\n",
    "    app_id = id - candlestick_frame + 1\n",
    "    for i in range(candlestick_frame):\n",
    "        app = {}\n",
    "        app['signal']=y[id]\n",
    "        app['id'] = app_id\n",
    "        app['time'] = i\n",
    "        for c in columns:\n",
    "            app[c] = lst_columns[c][id-i]\n",
    "        dta_lst.append(app)\n",
    "\n",
    "app_df = pd.DataFrame(dta_lst)\n",
    "training_y = list(app_df['signal'])\n",
    "app_df = app_df.drop(columns = ['signal'], axis=1)\n",
    "app_df.to_csv('../../data/df.csv', index=False)\n",
    "pd.DataFrame({'': y_tsfresh}).to_csv('../../data/y.csv', index=False)\n",
    "app_df"
   ]
  },
  {
   "cell_type": "code",
   "execution_count": 1,
   "metadata": {},
   "outputs": [
    {
     "name": "stdout",
     "output_type": "stream",
     "text": [
      "41 remaining \t\t 0.0% done\n"
     ]
    },
    {
     "name": "stderr",
     "output_type": "stream",
     "text": [
      "Feature Extraction: 100%|██████████| 50/50 [00:52<00:00,  1.04s/it]\n"
     ]
    },
    {
     "name": "stdout",
     "output_type": "stream",
     "text": [
      "40 remaining \t\t 2.4% done\n"
     ]
    },
    {
     "name": "stderr",
     "output_type": "stream",
     "text": [
      "Feature Extraction: 100%|██████████| 50/50 [00:58<00:00,  1.16s/it]\n"
     ]
    },
    {
     "name": "stdout",
     "output_type": "stream",
     "text": [
      "39 remaining \t\t 4.9% done\n"
     ]
    },
    {
     "name": "stderr",
     "output_type": "stream",
     "text": [
      "Feature Extraction: 100%|██████████| 50/50 [00:58<00:00,  1.17s/it]\n"
     ]
    },
    {
     "name": "stdout",
     "output_type": "stream",
     "text": [
      "38 remaining \t\t 7.3% done\n"
     ]
    },
    {
     "name": "stderr",
     "output_type": "stream",
     "text": [
      "Feature Extraction: 100%|██████████| 50/50 [00:57<00:00,  1.15s/it]\n"
     ]
    },
    {
     "name": "stdout",
     "output_type": "stream",
     "text": [
      "37 remaining \t\t 9.8% done\n"
     ]
    },
    {
     "name": "stderr",
     "output_type": "stream",
     "text": [
      "Feature Extraction: 100%|██████████| 50/50 [00:57<00:00,  1.14s/it]\n"
     ]
    },
    {
     "name": "stdout",
     "output_type": "stream",
     "text": [
      "36 remaining \t\t 12.2% done\n"
     ]
    },
    {
     "name": "stderr",
     "output_type": "stream",
     "text": [
      "Feature Extraction: 100%|██████████| 50/50 [00:59<00:00,  1.20s/it]\n"
     ]
    },
    {
     "name": "stdout",
     "output_type": "stream",
     "text": [
      "35 remaining \t\t 14.6% done\n"
     ]
    },
    {
     "name": "stderr",
     "output_type": "stream",
     "text": [
      "Feature Extraction: 100%|██████████| 50/50 [00:58<00:00,  1.17s/it]\n"
     ]
    },
    {
     "name": "stdout",
     "output_type": "stream",
     "text": [
      "34 remaining \t\t 17.1% done\n"
     ]
    },
    {
     "name": "stderr",
     "output_type": "stream",
     "text": [
      "Feature Extraction: 100%|██████████| 50/50 [01:03<00:00,  1.27s/it]\n"
     ]
    },
    {
     "name": "stdout",
     "output_type": "stream",
     "text": [
      "33 remaining \t\t 19.5% done\n"
     ]
    },
    {
     "name": "stderr",
     "output_type": "stream",
     "text": [
      "Feature Extraction: 100%|██████████| 50/50 [01:01<00:00,  1.23s/it]\n"
     ]
    },
    {
     "name": "stdout",
     "output_type": "stream",
     "text": [
      "32 remaining \t\t 22.0% done\n"
     ]
    },
    {
     "name": "stderr",
     "output_type": "stream",
     "text": [
      "Feature Extraction: 100%|██████████| 50/50 [01:05<00:00,  1.31s/it]\n"
     ]
    },
    {
     "name": "stdout",
     "output_type": "stream",
     "text": [
      "31 remaining \t\t 24.4% done\n"
     ]
    },
    {
     "name": "stderr",
     "output_type": "stream",
     "text": [
      "Feature Extraction: 100%|██████████| 50/50 [01:06<00:00,  1.33s/it]\n"
     ]
    },
    {
     "name": "stdout",
     "output_type": "stream",
     "text": [
      "30 remaining \t\t 26.8% done\n"
     ]
    },
    {
     "name": "stderr",
     "output_type": "stream",
     "text": [
      "Feature Extraction: 100%|██████████| 50/50 [01:07<00:00,  1.36s/it]\n"
     ]
    },
    {
     "name": "stdout",
     "output_type": "stream",
     "text": [
      "29 remaining \t\t 29.3% done\n"
     ]
    },
    {
     "name": "stderr",
     "output_type": "stream",
     "text": [
      "Feature Extraction: 100%|██████████| 50/50 [01:06<00:00,  1.33s/it]\n"
     ]
    },
    {
     "name": "stdout",
     "output_type": "stream",
     "text": [
      "28 remaining \t\t 31.7% done\n"
     ]
    },
    {
     "name": "stderr",
     "output_type": "stream",
     "text": [
      "Feature Extraction: 100%|██████████| 50/50 [01:06<00:00,  1.33s/it]\n"
     ]
    },
    {
     "name": "stdout",
     "output_type": "stream",
     "text": [
      "27 remaining \t\t 34.1% done\n"
     ]
    },
    {
     "name": "stderr",
     "output_type": "stream",
     "text": [
      "Feature Extraction: 100%|██████████| 50/50 [01:02<00:00,  1.25s/it]\n"
     ]
    },
    {
     "name": "stdout",
     "output_type": "stream",
     "text": [
      "26 remaining \t\t 36.6% done\n"
     ]
    },
    {
     "name": "stderr",
     "output_type": "stream",
     "text": [
      "Feature Extraction: 100%|██████████| 50/50 [00:57<00:00,  1.16s/it]\n"
     ]
    },
    {
     "name": "stdout",
     "output_type": "stream",
     "text": [
      "25 remaining \t\t 39.0% done\n"
     ]
    },
    {
     "name": "stderr",
     "output_type": "stream",
     "text": [
      "Feature Extraction: 100%|██████████| 50/50 [00:57<00:00,  1.16s/it]\n"
     ]
    },
    {
     "name": "stdout",
     "output_type": "stream",
     "text": [
      "24 remaining \t\t 41.5% done\n"
     ]
    },
    {
     "name": "stderr",
     "output_type": "stream",
     "text": [
      "Feature Extraction: 100%|██████████| 50/50 [00:57<00:00,  1.16s/it]\n"
     ]
    },
    {
     "name": "stdout",
     "output_type": "stream",
     "text": [
      "23 remaining \t\t 43.9% done\n"
     ]
    },
    {
     "name": "stderr",
     "output_type": "stream",
     "text": [
      "Feature Extraction: 100%|██████████| 50/50 [00:58<00:00,  1.18s/it]\n"
     ]
    },
    {
     "name": "stdout",
     "output_type": "stream",
     "text": [
      "22 remaining \t\t 46.3% done\n"
     ]
    },
    {
     "name": "stderr",
     "output_type": "stream",
     "text": [
      "Feature Extraction: 100%|██████████| 50/50 [00:57<00:00,  1.16s/it]\n"
     ]
    },
    {
     "name": "stdout",
     "output_type": "stream",
     "text": [
      "21 remaining \t\t 48.8% done\n"
     ]
    },
    {
     "name": "stderr",
     "output_type": "stream",
     "text": [
      "Feature Extraction: 100%|██████████| 50/50 [00:57<00:00,  1.15s/it]\n"
     ]
    },
    {
     "name": "stdout",
     "output_type": "stream",
     "text": [
      "20 remaining \t\t 51.2% done\n"
     ]
    },
    {
     "name": "stderr",
     "output_type": "stream",
     "text": [
      "Feature Extraction: 100%|██████████| 50/50 [00:58<00:00,  1.17s/it]\n"
     ]
    },
    {
     "name": "stdout",
     "output_type": "stream",
     "text": [
      "19 remaining \t\t 53.7% done\n"
     ]
    },
    {
     "name": "stderr",
     "output_type": "stream",
     "text": [
      "Feature Extraction: 100%|██████████| 50/50 [01:07<00:00,  1.36s/it]\n"
     ]
    },
    {
     "name": "stdout",
     "output_type": "stream",
     "text": [
      "18 remaining \t\t 56.1% done\n"
     ]
    },
    {
     "name": "stderr",
     "output_type": "stream",
     "text": [
      "Feature Extraction: 100%|██████████| 50/50 [01:11<00:00,  1.43s/it]\n"
     ]
    },
    {
     "name": "stdout",
     "output_type": "stream",
     "text": [
      "17 remaining \t\t 58.5% done\n"
     ]
    },
    {
     "name": "stderr",
     "output_type": "stream",
     "text": [
      "Feature Extraction: 100%|██████████| 50/50 [01:08<00:00,  1.37s/it]\n"
     ]
    },
    {
     "name": "stdout",
     "output_type": "stream",
     "text": [
      "16 remaining \t\t 61.0% done\n"
     ]
    },
    {
     "name": "stderr",
     "output_type": "stream",
     "text": [
      "Feature Extraction: 100%|██████████| 50/50 [01:06<00:00,  1.32s/it]\n"
     ]
    },
    {
     "name": "stdout",
     "output_type": "stream",
     "text": [
      "15 remaining \t\t 63.4% done\n"
     ]
    },
    {
     "name": "stderr",
     "output_type": "stream",
     "text": [
      "Feature Extraction: 100%|██████████| 50/50 [01:01<00:00,  1.23s/it]\n"
     ]
    },
    {
     "name": "stdout",
     "output_type": "stream",
     "text": [
      "14 remaining \t\t 65.9% done\n"
     ]
    },
    {
     "name": "stderr",
     "output_type": "stream",
     "text": [
      "Feature Extraction: 100%|██████████| 50/50 [01:00<00:00,  1.21s/it]\n"
     ]
    },
    {
     "name": "stdout",
     "output_type": "stream",
     "text": [
      "13 remaining \t\t 68.3% done\n"
     ]
    },
    {
     "name": "stderr",
     "output_type": "stream",
     "text": [
      "Feature Extraction: 100%|██████████| 50/50 [00:58<00:00,  1.17s/it]\n"
     ]
    },
    {
     "name": "stdout",
     "output_type": "stream",
     "text": [
      "12 remaining \t\t 70.7% done\n"
     ]
    },
    {
     "name": "stderr",
     "output_type": "stream",
     "text": [
      "Feature Extraction: 100%|██████████| 50/50 [00:58<00:00,  1.17s/it]\n"
     ]
    },
    {
     "name": "stdout",
     "output_type": "stream",
     "text": [
      "11 remaining \t\t 73.2% done\n"
     ]
    },
    {
     "name": "stderr",
     "output_type": "stream",
     "text": [
      "Feature Extraction: 100%|██████████| 50/50 [00:58<00:00,  1.17s/it]\n"
     ]
    },
    {
     "name": "stdout",
     "output_type": "stream",
     "text": [
      "10 remaining \t\t 75.6% done\n"
     ]
    },
    {
     "name": "stderr",
     "output_type": "stream",
     "text": [
      "Feature Extraction: 100%|██████████| 50/50 [00:57<00:00,  1.16s/it]\n"
     ]
    },
    {
     "name": "stdout",
     "output_type": "stream",
     "text": [
      "9 remaining \t\t 78.0% done\n"
     ]
    },
    {
     "name": "stderr",
     "output_type": "stream",
     "text": [
      "Feature Extraction: 100%|██████████| 50/50 [00:59<00:00,  1.19s/it]\n"
     ]
    },
    {
     "name": "stdout",
     "output_type": "stream",
     "text": [
      "8 remaining \t\t 80.5% done\n"
     ]
    },
    {
     "name": "stderr",
     "output_type": "stream",
     "text": [
      "Feature Extraction: 100%|██████████| 50/50 [00:58<00:00,  1.18s/it]\n"
     ]
    },
    {
     "name": "stdout",
     "output_type": "stream",
     "text": [
      "7 remaining \t\t 82.9% done\n"
     ]
    },
    {
     "name": "stderr",
     "output_type": "stream",
     "text": [
      "Feature Extraction: 100%|██████████| 50/50 [00:59<00:00,  1.19s/it]\n"
     ]
    },
    {
     "name": "stdout",
     "output_type": "stream",
     "text": [
      "6 remaining \t\t 85.4% done\n"
     ]
    },
    {
     "name": "stderr",
     "output_type": "stream",
     "text": [
      "Feature Extraction: 100%|██████████| 50/50 [00:58<00:00,  1.16s/it]\n"
     ]
    },
    {
     "name": "stdout",
     "output_type": "stream",
     "text": [
      "5 remaining \t\t 87.8% done\n"
     ]
    },
    {
     "name": "stderr",
     "output_type": "stream",
     "text": [
      "Feature Extraction: 100%|██████████| 50/50 [00:57<00:00,  1.15s/it]\n"
     ]
    },
    {
     "name": "stdout",
     "output_type": "stream",
     "text": [
      "4 remaining \t\t 90.2% done\n"
     ]
    },
    {
     "name": "stderr",
     "output_type": "stream",
     "text": [
      "Feature Extraction: 100%|██████████| 50/50 [00:59<00:00,  1.18s/it]\n"
     ]
    },
    {
     "name": "stdout",
     "output_type": "stream",
     "text": [
      "3 remaining \t\t 92.7% done\n"
     ]
    },
    {
     "name": "stderr",
     "output_type": "stream",
     "text": [
      "Feature Extraction: 100%|██████████| 50/50 [00:58<00:00,  1.17s/it]\n"
     ]
    },
    {
     "name": "stdout",
     "output_type": "stream",
     "text": [
      "2 remaining \t\t 95.1% done\n"
     ]
    },
    {
     "name": "stderr",
     "output_type": "stream",
     "text": [
      "Feature Extraction: 100%|██████████| 50/50 [00:58<00:00,  1.18s/it]\n"
     ]
    },
    {
     "name": "stdout",
     "output_type": "stream",
     "text": [
      "1 remaining \t\t 97.6% done\n"
     ]
    },
    {
     "name": "stderr",
     "output_type": "stream",
     "text": [
      "Feature Extraction: 100%|██████████| 50/50 [00:46<00:00,  1.07it/s]\n"
     ]
    }
   ],
   "source": [
    "from tsfresh import extract_features, extract_relevant_features, select_features\n",
    "from tsfresh.utilities.dataframe_functions import impute\n",
    "from tsfresh.feature_extraction import ComprehensiveFCParameters\n",
    "import pandas as pd\n",
    "\n",
    "df = pd.read_csv('../../data/df.csv')\n",
    "y = pd.read_csv('../../data/y.csv')\n",
    "\n",
    "extraction_settings = ComprehensiveFCParameters()\n",
    "chunk_size = 6000\n",
    "chunks = [df[i:i + chunk_size] for i in range(0, len(df), chunk_size)]\n",
    "tot = len(chunks)\n",
    "for idx, chunk_df in enumerate(chunks):\n",
    "    print(f'{tot - idx} remaining \\t\\t {round((idx*100/tot),1)}% done')\n",
    "    X = extract_features(chunk_df, column_id='id', column_sort='time',\n",
    "                        default_fc_parameters=extraction_settings,\n",
    "                        # we impute = remove all NaN features automatically\n",
    "                        impute_function=impute)\n",
    "    X.to_csv(f'../../data/chunks/{idx}.csv', index=False)\n"
   ]
  },
  {
   "cell_type": "markdown",
   "metadata": {},
   "source": [
    "Back Test"
   ]
  },
  {
   "cell_type": "code",
   "execution_count": null,
   "metadata": {},
   "outputs": [],
   "source": []
  }
 ],
 "metadata": {
  "kernelspec": {
   "display_name": "Python 3",
   "language": "python",
   "name": "python3"
  },
  "language_info": {
   "codemirror_mode": {
    "name": "ipython",
    "version": 3
   },
   "file_extension": ".py",
   "mimetype": "text/x-python",
   "name": "python",
   "nbconvert_exporter": "python",
   "pygments_lexer": "ipython3",
   "version": "3.10.12"
  },
  "orig_nbformat": 4
 },
 "nbformat": 4,
 "nbformat_minor": 2
}
