{
 "cells": [
  {
   "cell_type": "code",
   "execution_count": 1,
   "metadata": {},
   "outputs": [
    {
     "name": "stdout",
     "output_type": "stream",
     "text": [
      "[LightGBM] [Warning] There are no meaningful features which satisfy the provided configuration. Decreasing Dataset parameters min_data_in_bin or min_data_in_leaf and re-constructing Dataset might resolve this warning.\n",
      "[LightGBM] [Info] Number of positive: 1, number of negative: 1\n",
      "[LightGBM] [Warning] There are no meaningful features which satisfy the provided configuration. Decreasing Dataset parameters min_data_in_bin or min_data_in_leaf and re-constructing Dataset might resolve this warning.\n",
      "[LightGBM] [Warning] Using sparse features with CUDA is currently not supported.\n",
      "[LightGBM] [Info] Number of positive: 1, number of negative: 1\n",
      "[LightGBM] [Warning] There are no meaningful features which satisfy the provided configuration. Decreasing Dataset parameters min_data_in_bin or min_data_in_leaf and re-constructing Dataset might resolve this warning.\n",
      "[LightGBM] [Info] Number of positive: 1, number of negative: 1\n",
      "[LightGBM] [Warning] There are no meaningful features which satisfy the provided configuration. Decreasing Dataset parameters min_data_in_bin or min_data_in_leaf and re-constructing Dataset might resolve this warning.\n",
      "[LightGBM] [Warning] Using sparse features with CUDA is currently not supported.\n",
      "[LightGBM] [Info] Number of positive: 1, number of negative: 1\n",
      "[LightGBM] [Warning] There are no meaningful features which satisfy the provided configuration. Decreasing Dataset parameters min_data_in_bin or min_data_in_leaf and re-constructing Dataset might resolve this warning.\n",
      "[LightGBM] [Info] Number of positive: 1, number of negative: 1\n",
      "[LightGBM] [Warning] There are no meaningful features which satisfy the provided configuration. Decreasing Dataset parameters min_data_in_bin or min_data_in_leaf and re-constructing Dataset might resolve this warning.\n",
      "[LightGBM] [Warning] Using sparse features with CUDA is currently not supported.\n",
      "[LightGBM] [Info] Number of positive: 1, number of negative: 1\n",
      "[LightGBM] [Warning] There are no meaningful features which satisfy the provided configuration. Decreasing Dataset parameters min_data_in_bin or min_data_in_leaf and re-constructing Dataset might resolve this warning.\n",
      "[LightGBM] [Info] Number of positive: 1, number of negative: 1\n",
      "[LightGBM] [Warning] There are no meaningful features which satisfy the provided configuration. Decreasing Dataset parameters min_data_in_bin or min_data_in_leaf and re-constructing Dataset might resolve this warning.\n",
      "[LightGBM] [Warning] Using sparse features with CUDA is currently not supported.\n",
      "[LightGBM] [Info] Number of positive: 1, number of negative: 1\n"
     ]
    },
    {
     "name": "stderr",
     "output_type": "stream",
     "text": [
      "[LightGBM] [Fatal] GPU Tree Learner was not enabled in this build.\n",
      "Please recompile with CMake option -DUSE_GPU=1\n",
      "[LightGBM] [Fatal] CUDA Tree Learner was not enabled in this build.\n",
      "Please recompile with CMake option -DUSE_CUDAP=1\n",
      "[LightGBM] [Fatal] GPU Tree Learner was not enabled in this build.\n",
      "Please recompile with CMake option -DUSE_GPU=1\n",
      "[LightGBM] [Fatal] CUDA Tree Learner was not enabled in this build.\n",
      "Please recompile with CMake option -DUSE_CUDAP=1\n",
      "[LightGBM] [Fatal] GPU Tree Learner was not enabled in this build.\n",
      "Please recompile with CMake option -DUSE_GPU=1\n",
      "[LightGBM] [Fatal] CUDA Tree Learner was not enabled in this build.\n",
      "Please recompile with CMake option -DUSE_CUDAP=1\n",
      "[LightGBM] [Fatal] GPU Tree Learner was not enabled in this build.\n",
      "Please recompile with CMake option -DUSE_GPU=1\n",
      "[LightGBM] [Fatal] CUDA Tree Learner was not enabled in this build.\n",
      "Please recompile with CMake option -DUSE_CUDAP=1\n"
     ]
    },
    {
     "name": "stdout",
     "output_type": "stream",
     "text": [
      "[LightGBM] [Warning] There are no meaningful features which satisfy the provided configuration. Decreasing Dataset parameters min_data_in_bin or min_data_in_leaf and re-constructing Dataset might resolve this warning.\n",
      "[LightGBM] [Info] Number of positive: 1, number of negative: 1\n",
      "[LightGBM] [Warning] There are no meaningful features which satisfy the provided configuration. Decreasing Dataset parameters min_data_in_bin or min_data_in_leaf and re-constructing Dataset might resolve this warning.\n",
      "[LightGBM] [Warning] Using sparse features with CUDA is currently not supported.\n",
      "[LightGBM] [Info] Number of positive: 1, number of negative: 1\n",
      "[LightGBM] [Warning] There are no meaningful features which satisfy the provided configuration. Decreasing Dataset parameters min_data_in_bin or min_data_in_leaf and re-constructing Dataset might resolve this warning.\n",
      "[LightGBM] [Info] Number of positive: 1, number of negative: 1\n",
      "[LightGBM] [Warning] There are no meaningful features which satisfy the provided configuration. Decreasing Dataset parameters min_data_in_bin or min_data_in_leaf and re-constructing Dataset might resolve this warning.\n",
      "[LightGBM] [Warning] Using sparse features with CUDA is currently not supported.\n",
      "[LightGBM] [Info] Number of positive: 1, number of negative: 1\n"
     ]
    },
    {
     "name": "stderr",
     "output_type": "stream",
     "text": [
      "[LightGBM] [Fatal] GPU Tree Learner was not enabled in this build.\n",
      "Please recompile with CMake option -DUSE_GPU=1\n",
      "[LightGBM] [Fatal] CUDA Tree Learner was not enabled in this build.\n",
      "Please recompile with CMake option -DUSE_CUDAP=1\n",
      "[LightGBM] [Fatal] GPU Tree Learner was not enabled in this build.\n",
      "Please recompile with CMake option -DUSE_GPU=1\n",
      "[LightGBM] [Fatal] CUDA Tree Learner was not enabled in this build.\n",
      "Please recompile with CMake option -DUSE_CUDAP=1\n"
     ]
    },
    {
     "data": {
      "text/html": [
       "<style type=\"text/css\">\n",
       "#T_9ac2b_row10_col1, #T_9ac2b_row17_col1 {\n",
       "  background-color: lightgreen;\n",
       "}\n",
       "</style>\n",
       "<table id=\"T_9ac2b\">\n",
       "  <thead>\n",
       "    <tr>\n",
       "      <th class=\"blank level0\" >&nbsp;</th>\n",
       "      <th id=\"T_9ac2b_level0_col0\" class=\"col_heading level0 col0\" >Description</th>\n",
       "      <th id=\"T_9ac2b_level0_col1\" class=\"col_heading level0 col1\" >Value</th>\n",
       "    </tr>\n",
       "  </thead>\n",
       "  <tbody>\n",
       "    <tr>\n",
       "      <th id=\"T_9ac2b_level0_row0\" class=\"row_heading level0 row0\" >0</th>\n",
       "      <td id=\"T_9ac2b_row0_col0\" class=\"data row0 col0\" >Session id</td>\n",
       "      <td id=\"T_9ac2b_row0_col1\" class=\"data row0 col1\" >123</td>\n",
       "    </tr>\n",
       "    <tr>\n",
       "      <th id=\"T_9ac2b_level0_row1\" class=\"row_heading level0 row1\" >1</th>\n",
       "      <td id=\"T_9ac2b_row1_col0\" class=\"data row1 col0\" >Target</td>\n",
       "      <td id=\"T_9ac2b_row1_col1\" class=\"data row1 col1\" >signal</td>\n",
       "    </tr>\n",
       "    <tr>\n",
       "      <th id=\"T_9ac2b_level0_row2\" class=\"row_heading level0 row2\" >2</th>\n",
       "      <td id=\"T_9ac2b_row2_col0\" class=\"data row2 col0\" >Target type</td>\n",
       "      <td id=\"T_9ac2b_row2_col1\" class=\"data row2 col1\" >Multiclass</td>\n",
       "    </tr>\n",
       "    <tr>\n",
       "      <th id=\"T_9ac2b_level0_row3\" class=\"row_heading level0 row3\" >3</th>\n",
       "      <td id=\"T_9ac2b_row3_col0\" class=\"data row3 col0\" >Target mapping</td>\n",
       "      <td id=\"T_9ac2b_row3_col1\" class=\"data row3 col1\" >dont_trade: 0, long: 1, short: 2</td>\n",
       "    </tr>\n",
       "    <tr>\n",
       "      <th id=\"T_9ac2b_level0_row4\" class=\"row_heading level0 row4\" >4</th>\n",
       "      <td id=\"T_9ac2b_row4_col0\" class=\"data row4 col0\" >Original data shape</td>\n",
       "      <td id=\"T_9ac2b_row4_col1\" class=\"data row4 col1\" >(26249, 210)</td>\n",
       "    </tr>\n",
       "    <tr>\n",
       "      <th id=\"T_9ac2b_level0_row5\" class=\"row_heading level0 row5\" >5</th>\n",
       "      <td id=\"T_9ac2b_row5_col0\" class=\"data row5 col0\" >Transformed data shape</td>\n",
       "      <td id=\"T_9ac2b_row5_col1\" class=\"data row5 col1\" >(26249, 210)</td>\n",
       "    </tr>\n",
       "    <tr>\n",
       "      <th id=\"T_9ac2b_level0_row6\" class=\"row_heading level0 row6\" >6</th>\n",
       "      <td id=\"T_9ac2b_row6_col0\" class=\"data row6 col0\" >Transformed train set shape</td>\n",
       "      <td id=\"T_9ac2b_row6_col1\" class=\"data row6 col1\" >(18374, 210)</td>\n",
       "    </tr>\n",
       "    <tr>\n",
       "      <th id=\"T_9ac2b_level0_row7\" class=\"row_heading level0 row7\" >7</th>\n",
       "      <td id=\"T_9ac2b_row7_col0\" class=\"data row7 col0\" >Transformed test set shape</td>\n",
       "      <td id=\"T_9ac2b_row7_col1\" class=\"data row7 col1\" >(7875, 210)</td>\n",
       "    </tr>\n",
       "    <tr>\n",
       "      <th id=\"T_9ac2b_level0_row8\" class=\"row_heading level0 row8\" >8</th>\n",
       "      <td id=\"T_9ac2b_row8_col0\" class=\"data row8 col0\" >Numeric features</td>\n",
       "      <td id=\"T_9ac2b_row8_col1\" class=\"data row8 col1\" >209</td>\n",
       "    </tr>\n",
       "    <tr>\n",
       "      <th id=\"T_9ac2b_level0_row9\" class=\"row_heading level0 row9\" >9</th>\n",
       "      <td id=\"T_9ac2b_row9_col0\" class=\"data row9 col0\" >Rows with missing values</td>\n",
       "      <td id=\"T_9ac2b_row9_col1\" class=\"data row9 col1\" >100.0%</td>\n",
       "    </tr>\n",
       "    <tr>\n",
       "      <th id=\"T_9ac2b_level0_row10\" class=\"row_heading level0 row10\" >10</th>\n",
       "      <td id=\"T_9ac2b_row10_col0\" class=\"data row10 col0\" >Preprocess</td>\n",
       "      <td id=\"T_9ac2b_row10_col1\" class=\"data row10 col1\" >True</td>\n",
       "    </tr>\n",
       "    <tr>\n",
       "      <th id=\"T_9ac2b_level0_row11\" class=\"row_heading level0 row11\" >11</th>\n",
       "      <td id=\"T_9ac2b_row11_col0\" class=\"data row11 col0\" >Imputation type</td>\n",
       "      <td id=\"T_9ac2b_row11_col1\" class=\"data row11 col1\" >simple</td>\n",
       "    </tr>\n",
       "    <tr>\n",
       "      <th id=\"T_9ac2b_level0_row12\" class=\"row_heading level0 row12\" >12</th>\n",
       "      <td id=\"T_9ac2b_row12_col0\" class=\"data row12 col0\" >Numeric imputation</td>\n",
       "      <td id=\"T_9ac2b_row12_col1\" class=\"data row12 col1\" >mean</td>\n",
       "    </tr>\n",
       "    <tr>\n",
       "      <th id=\"T_9ac2b_level0_row13\" class=\"row_heading level0 row13\" >13</th>\n",
       "      <td id=\"T_9ac2b_row13_col0\" class=\"data row13 col0\" >Categorical imputation</td>\n",
       "      <td id=\"T_9ac2b_row13_col1\" class=\"data row13 col1\" >mode</td>\n",
       "    </tr>\n",
       "    <tr>\n",
       "      <th id=\"T_9ac2b_level0_row14\" class=\"row_heading level0 row14\" >14</th>\n",
       "      <td id=\"T_9ac2b_row14_col0\" class=\"data row14 col0\" >Fold Generator</td>\n",
       "      <td id=\"T_9ac2b_row14_col1\" class=\"data row14 col1\" >StratifiedKFold</td>\n",
       "    </tr>\n",
       "    <tr>\n",
       "      <th id=\"T_9ac2b_level0_row15\" class=\"row_heading level0 row15\" >15</th>\n",
       "      <td id=\"T_9ac2b_row15_col0\" class=\"data row15 col0\" >Fold Number</td>\n",
       "      <td id=\"T_9ac2b_row15_col1\" class=\"data row15 col1\" >10</td>\n",
       "    </tr>\n",
       "    <tr>\n",
       "      <th id=\"T_9ac2b_level0_row16\" class=\"row_heading level0 row16\" >16</th>\n",
       "      <td id=\"T_9ac2b_row16_col0\" class=\"data row16 col0\" >CPU Jobs</td>\n",
       "      <td id=\"T_9ac2b_row16_col1\" class=\"data row16 col1\" >-1</td>\n",
       "    </tr>\n",
       "    <tr>\n",
       "      <th id=\"T_9ac2b_level0_row17\" class=\"row_heading level0 row17\" >17</th>\n",
       "      <td id=\"T_9ac2b_row17_col0\" class=\"data row17 col0\" >Use GPU</td>\n",
       "      <td id=\"T_9ac2b_row17_col1\" class=\"data row17 col1\" >True</td>\n",
       "    </tr>\n",
       "    <tr>\n",
       "      <th id=\"T_9ac2b_level0_row18\" class=\"row_heading level0 row18\" >18</th>\n",
       "      <td id=\"T_9ac2b_row18_col0\" class=\"data row18 col0\" >Log Experiment</td>\n",
       "      <td id=\"T_9ac2b_row18_col1\" class=\"data row18 col1\" >False</td>\n",
       "    </tr>\n",
       "    <tr>\n",
       "      <th id=\"T_9ac2b_level0_row19\" class=\"row_heading level0 row19\" >19</th>\n",
       "      <td id=\"T_9ac2b_row19_col0\" class=\"data row19 col0\" >Experiment Name</td>\n",
       "      <td id=\"T_9ac2b_row19_col1\" class=\"data row19 col1\" >clf-default-name</td>\n",
       "    </tr>\n",
       "    <tr>\n",
       "      <th id=\"T_9ac2b_level0_row20\" class=\"row_heading level0 row20\" >20</th>\n",
       "      <td id=\"T_9ac2b_row20_col0\" class=\"data row20 col0\" >USI</td>\n",
       "      <td id=\"T_9ac2b_row20_col1\" class=\"data row20 col1\" >2477</td>\n",
       "    </tr>\n",
       "  </tbody>\n",
       "</table>\n"
      ],
      "text/plain": [
       "<pandas.io.formats.style.Styler at 0x7f6514556be0>"
      ]
     },
     "metadata": {},
     "output_type": "display_data"
    },
    {
     "name": "stdout",
     "output_type": "stream",
     "text": [
      "[LightGBM] [Warning] There are no meaningful features which satisfy the provided configuration. Decreasing Dataset parameters min_data_in_bin or min_data_in_leaf and re-constructing Dataset might resolve this warning.\n",
      "[LightGBM] [Info] Number of positive: 1, number of negative: 1\n",
      "[LightGBM] [Warning] There are no meaningful features which satisfy the provided configuration. Decreasing Dataset parameters min_data_in_bin or min_data_in_leaf and re-constructing Dataset might resolve this warning.\n",
      "[LightGBM] [Warning] Using sparse features with CUDA is currently not supported.\n",
      "[LightGBM] [Info] Number of positive: 1, number of negative: 1\n",
      "[LightGBM] [Warning] There are no meaningful features which satisfy the provided configuration. Decreasing Dataset parameters min_data_in_bin or min_data_in_leaf and re-constructing Dataset might resolve this warning.\n",
      "[LightGBM] [Info] Number of positive: 1, number of negative: 1\n",
      "[LightGBM] [Warning] There are no meaningful features which satisfy the provided configuration. Decreasing Dataset parameters min_data_in_bin or min_data_in_leaf and re-constructing Dataset might resolve this warning.\n",
      "[LightGBM] [Warning] Using sparse features with CUDA is currently not supported.\n",
      "[LightGBM] [Info] Number of positive: 1, number of negative: 1\n"
     ]
    },
    {
     "name": "stderr",
     "output_type": "stream",
     "text": [
      "[LightGBM] [Fatal] GPU Tree Learner was not enabled in this build.\n",
      "Please recompile with CMake option -DUSE_GPU=1\n",
      "[LightGBM] [Fatal] CUDA Tree Learner was not enabled in this build.\n",
      "Please recompile with CMake option -DUSE_CUDAP=1\n",
      "[LightGBM] [Fatal] GPU Tree Learner was not enabled in this build.\n",
      "Please recompile with CMake option -DUSE_GPU=1\n",
      "[LightGBM] [Fatal] CUDA Tree Learner was not enabled in this build.\n",
      "Please recompile with CMake option -DUSE_CUDAP=1\n"
     ]
    },
    {
     "data": {
      "text/html": [],
      "text/plain": [
       "<IPython.core.display.HTML object>"
      ]
     },
     "metadata": {},
     "output_type": "display_data"
    },
    {
     "data": {
      "text/html": [
       "<style type=\"text/css\">\n",
       "#T_fcb59_row10_col0, #T_fcb59_row10_col1, #T_fcb59_row10_col2, #T_fcb59_row10_col3, #T_fcb59_row10_col4, #T_fcb59_row10_col5, #T_fcb59_row10_col6 {\n",
       "  background: yellow;\n",
       "}\n",
       "</style>\n",
       "<table id=\"T_fcb59\">\n",
       "  <thead>\n",
       "    <tr>\n",
       "      <th class=\"blank level0\" >&nbsp;</th>\n",
       "      <th id=\"T_fcb59_level0_col0\" class=\"col_heading level0 col0\" >Accuracy</th>\n",
       "      <th id=\"T_fcb59_level0_col1\" class=\"col_heading level0 col1\" >AUC</th>\n",
       "      <th id=\"T_fcb59_level0_col2\" class=\"col_heading level0 col2\" >Recall</th>\n",
       "      <th id=\"T_fcb59_level0_col3\" class=\"col_heading level0 col3\" >Prec.</th>\n",
       "      <th id=\"T_fcb59_level0_col4\" class=\"col_heading level0 col4\" >F1</th>\n",
       "      <th id=\"T_fcb59_level0_col5\" class=\"col_heading level0 col5\" >Kappa</th>\n",
       "      <th id=\"T_fcb59_level0_col6\" class=\"col_heading level0 col6\" >MCC</th>\n",
       "    </tr>\n",
       "    <tr>\n",
       "      <th class=\"index_name level0\" >Fold</th>\n",
       "      <th class=\"blank col0\" >&nbsp;</th>\n",
       "      <th class=\"blank col1\" >&nbsp;</th>\n",
       "      <th class=\"blank col2\" >&nbsp;</th>\n",
       "      <th class=\"blank col3\" >&nbsp;</th>\n",
       "      <th class=\"blank col4\" >&nbsp;</th>\n",
       "      <th class=\"blank col5\" >&nbsp;</th>\n",
       "      <th class=\"blank col6\" >&nbsp;</th>\n",
       "    </tr>\n",
       "  </thead>\n",
       "  <tbody>\n",
       "    <tr>\n",
       "      <th id=\"T_fcb59_level0_row0\" class=\"row_heading level0 row0\" >0</th>\n",
       "      <td id=\"T_fcb59_row0_col0\" class=\"data row0 col0\" >0.8912</td>\n",
       "      <td id=\"T_fcb59_row0_col1\" class=\"data row0 col1\" >0.9733</td>\n",
       "      <td id=\"T_fcb59_row0_col2\" class=\"data row0 col2\" >0.8912</td>\n",
       "      <td id=\"T_fcb59_row0_col3\" class=\"data row0 col3\" >0.8907</td>\n",
       "      <td id=\"T_fcb59_row0_col4\" class=\"data row0 col4\" >0.8905</td>\n",
       "      <td id=\"T_fcb59_row0_col5\" class=\"data row0 col5\" >0.8363</td>\n",
       "      <td id=\"T_fcb59_row0_col6\" class=\"data row0 col6\" >0.8367</td>\n",
       "    </tr>\n",
       "    <tr>\n",
       "      <th id=\"T_fcb59_level0_row1\" class=\"row_heading level0 row1\" >1</th>\n",
       "      <td id=\"T_fcb59_row1_col0\" class=\"data row1 col0\" >0.9037</td>\n",
       "      <td id=\"T_fcb59_row1_col1\" class=\"data row1 col1\" >0.9802</td>\n",
       "      <td id=\"T_fcb59_row1_col2\" class=\"data row1 col2\" >0.9037</td>\n",
       "      <td id=\"T_fcb59_row1_col3\" class=\"data row1 col3\" >0.9033</td>\n",
       "      <td id=\"T_fcb59_row1_col4\" class=\"data row1 col4\" >0.9034</td>\n",
       "      <td id=\"T_fcb59_row1_col5\" class=\"data row1 col5\" >0.8552</td>\n",
       "      <td id=\"T_fcb59_row1_col6\" class=\"data row1 col6\" >0.8554</td>\n",
       "    </tr>\n",
       "    <tr>\n",
       "      <th id=\"T_fcb59_level0_row2\" class=\"row_heading level0 row2\" >2</th>\n",
       "      <td id=\"T_fcb59_row2_col0\" class=\"data row2 col0\" >0.9032</td>\n",
       "      <td id=\"T_fcb59_row2_col1\" class=\"data row2 col1\" >0.9791</td>\n",
       "      <td id=\"T_fcb59_row2_col2\" class=\"data row2 col2\" >0.9032</td>\n",
       "      <td id=\"T_fcb59_row2_col3\" class=\"data row2 col3\" >0.9034</td>\n",
       "      <td id=\"T_fcb59_row2_col4\" class=\"data row2 col4\" >0.9024</td>\n",
       "      <td id=\"T_fcb59_row2_col5\" class=\"data row2 col5\" >0.8542</td>\n",
       "      <td id=\"T_fcb59_row2_col6\" class=\"data row2 col6\" >0.8550</td>\n",
       "    </tr>\n",
       "    <tr>\n",
       "      <th id=\"T_fcb59_level0_row3\" class=\"row_heading level0 row3\" >3</th>\n",
       "      <td id=\"T_fcb59_row3_col0\" class=\"data row3 col0\" >0.8879</td>\n",
       "      <td id=\"T_fcb59_row3_col1\" class=\"data row3 col1\" >0.9726</td>\n",
       "      <td id=\"T_fcb59_row3_col2\" class=\"data row3 col2\" >0.8879</td>\n",
       "      <td id=\"T_fcb59_row3_col3\" class=\"data row3 col3\" >0.8875</td>\n",
       "      <td id=\"T_fcb59_row3_col4\" class=\"data row3 col4\" >0.8875</td>\n",
       "      <td id=\"T_fcb59_row3_col5\" class=\"data row3 col5\" >0.8315</td>\n",
       "      <td id=\"T_fcb59_row3_col6\" class=\"data row3 col6\" >0.8317</td>\n",
       "    </tr>\n",
       "    <tr>\n",
       "      <th id=\"T_fcb59_level0_row4\" class=\"row_heading level0 row4\" >4</th>\n",
       "      <td id=\"T_fcb59_row4_col0\" class=\"data row4 col0\" >0.8917</td>\n",
       "      <td id=\"T_fcb59_row4_col1\" class=\"data row4 col1\" >0.9767</td>\n",
       "      <td id=\"T_fcb59_row4_col2\" class=\"data row4 col2\" >0.8917</td>\n",
       "      <td id=\"T_fcb59_row4_col3\" class=\"data row4 col3\" >0.8912</td>\n",
       "      <td id=\"T_fcb59_row4_col4\" class=\"data row4 col4\" >0.8914</td>\n",
       "      <td id=\"T_fcb59_row4_col5\" class=\"data row4 col5\" >0.8371</td>\n",
       "      <td id=\"T_fcb59_row4_col6\" class=\"data row4 col6\" >0.8372</td>\n",
       "    </tr>\n",
       "    <tr>\n",
       "      <th id=\"T_fcb59_level0_row5\" class=\"row_heading level0 row5\" >5</th>\n",
       "      <td id=\"T_fcb59_row5_col0\" class=\"data row5 col0\" >0.8944</td>\n",
       "      <td id=\"T_fcb59_row5_col1\" class=\"data row5 col1\" >0.9762</td>\n",
       "      <td id=\"T_fcb59_row5_col2\" class=\"data row5 col2\" >0.8944</td>\n",
       "      <td id=\"T_fcb59_row5_col3\" class=\"data row5 col3\" >0.8939</td>\n",
       "      <td id=\"T_fcb59_row5_col4\" class=\"data row5 col4\" >0.8941</td>\n",
       "      <td id=\"T_fcb59_row5_col5\" class=\"data row5 col5\" >0.8412</td>\n",
       "      <td id=\"T_fcb59_row5_col6\" class=\"data row5 col6\" >0.8413</td>\n",
       "    </tr>\n",
       "    <tr>\n",
       "      <th id=\"T_fcb59_level0_row6\" class=\"row_heading level0 row6\" >6</th>\n",
       "      <td id=\"T_fcb59_row6_col0\" class=\"data row6 col0\" >0.8895</td>\n",
       "      <td id=\"T_fcb59_row6_col1\" class=\"data row6 col1\" >0.9778</td>\n",
       "      <td id=\"T_fcb59_row6_col2\" class=\"data row6 col2\" >0.8895</td>\n",
       "      <td id=\"T_fcb59_row6_col3\" class=\"data row6 col3\" >0.8890</td>\n",
       "      <td id=\"T_fcb59_row6_col4\" class=\"data row6 col4\" >0.8885</td>\n",
       "      <td id=\"T_fcb59_row6_col5\" class=\"data row6 col5\" >0.8338</td>\n",
       "      <td id=\"T_fcb59_row6_col6\" class=\"data row6 col6\" >0.8345</td>\n",
       "    </tr>\n",
       "    <tr>\n",
       "      <th id=\"T_fcb59_level0_row7\" class=\"row_heading level0 row7\" >7</th>\n",
       "      <td id=\"T_fcb59_row7_col0\" class=\"data row7 col0\" >0.9118</td>\n",
       "      <td id=\"T_fcb59_row7_col1\" class=\"data row7 col1\" >0.9812</td>\n",
       "      <td id=\"T_fcb59_row7_col2\" class=\"data row7 col2\" >0.9118</td>\n",
       "      <td id=\"T_fcb59_row7_col3\" class=\"data row7 col3\" >0.9115</td>\n",
       "      <td id=\"T_fcb59_row7_col4\" class=\"data row7 col4\" >0.9112</td>\n",
       "      <td id=\"T_fcb59_row7_col5\" class=\"data row7 col5\" >0.8674</td>\n",
       "      <td id=\"T_fcb59_row7_col6\" class=\"data row7 col6\" >0.8678</td>\n",
       "    </tr>\n",
       "    <tr>\n",
       "      <th id=\"T_fcb59_level0_row8\" class=\"row_heading level0 row8\" >8</th>\n",
       "      <td id=\"T_fcb59_row8_col0\" class=\"data row8 col0\" >0.9064</td>\n",
       "      <td id=\"T_fcb59_row8_col1\" class=\"data row8 col1\" >0.9794</td>\n",
       "      <td id=\"T_fcb59_row8_col2\" class=\"data row8 col2\" >0.9064</td>\n",
       "      <td id=\"T_fcb59_row8_col3\" class=\"data row8 col3\" >0.9060</td>\n",
       "      <td id=\"T_fcb59_row8_col4\" class=\"data row8 col4\" >0.9059</td>\n",
       "      <td id=\"T_fcb59_row8_col5\" class=\"data row8 col5\" >0.8593</td>\n",
       "      <td id=\"T_fcb59_row8_col6\" class=\"data row8 col6\" >0.8595</td>\n",
       "    </tr>\n",
       "    <tr>\n",
       "      <th id=\"T_fcb59_level0_row9\" class=\"row_heading level0 row9\" >9</th>\n",
       "      <td id=\"T_fcb59_row9_col0\" class=\"data row9 col0\" >0.8781</td>\n",
       "      <td id=\"T_fcb59_row9_col1\" class=\"data row9 col1\" >0.9747</td>\n",
       "      <td id=\"T_fcb59_row9_col2\" class=\"data row9 col2\" >0.8781</td>\n",
       "      <td id=\"T_fcb59_row9_col3\" class=\"data row9 col3\" >0.8778</td>\n",
       "      <td id=\"T_fcb59_row9_col4\" class=\"data row9 col4\" >0.8772</td>\n",
       "      <td id=\"T_fcb59_row9_col5\" class=\"data row9 col5\" >0.8166</td>\n",
       "      <td id=\"T_fcb59_row9_col6\" class=\"data row9 col6\" >0.8172</td>\n",
       "    </tr>\n",
       "    <tr>\n",
       "      <th id=\"T_fcb59_level0_row10\" class=\"row_heading level0 row10\" >Mean</th>\n",
       "      <td id=\"T_fcb59_row10_col0\" class=\"data row10 col0\" >0.8958</td>\n",
       "      <td id=\"T_fcb59_row10_col1\" class=\"data row10 col1\" >0.9771</td>\n",
       "      <td id=\"T_fcb59_row10_col2\" class=\"data row10 col2\" >0.8958</td>\n",
       "      <td id=\"T_fcb59_row10_col3\" class=\"data row10 col3\" >0.8954</td>\n",
       "      <td id=\"T_fcb59_row10_col4\" class=\"data row10 col4\" >0.8952</td>\n",
       "      <td id=\"T_fcb59_row10_col5\" class=\"data row10 col5\" >0.8433</td>\n",
       "      <td id=\"T_fcb59_row10_col6\" class=\"data row10 col6\" >0.8436</td>\n",
       "    </tr>\n",
       "    <tr>\n",
       "      <th id=\"T_fcb59_level0_row11\" class=\"row_heading level0 row11\" >Std</th>\n",
       "      <td id=\"T_fcb59_row11_col0\" class=\"data row11 col0\" >0.0097</td>\n",
       "      <td id=\"T_fcb59_row11_col1\" class=\"data row11 col1\" >0.0028</td>\n",
       "      <td id=\"T_fcb59_row11_col2\" class=\"data row11 col2\" >0.0097</td>\n",
       "      <td id=\"T_fcb59_row11_col3\" class=\"data row11 col3\" >0.0098</td>\n",
       "      <td id=\"T_fcb59_row11_col4\" class=\"data row11 col4\" >0.0098</td>\n",
       "      <td id=\"T_fcb59_row11_col5\" class=\"data row11 col5\" >0.0146</td>\n",
       "      <td id=\"T_fcb59_row11_col6\" class=\"data row11 col6\" >0.0146</td>\n",
       "    </tr>\n",
       "  </tbody>\n",
       "</table>\n"
      ],
      "text/plain": [
       "<pandas.io.formats.style.Styler at 0x7f6514607460>"
      ]
     },
     "metadata": {},
     "output_type": "display_data"
    },
    {
     "data": {
      "text/html": [],
      "text/plain": [
       "<IPython.core.display.HTML object>"
      ]
     },
     "metadata": {},
     "output_type": "display_data"
    }
   ],
   "source": [
    "import pandas as pd\n",
    "from pycaret.classification import *\n",
    "from pycaret.classification import ClassificationExperiment\n",
    "from lightgbm import LGBMClassifier\n",
    "exp = ClassificationExperiment()\n",
    "\n",
    "\n",
    "data = pd.read_csv('../../data/dataset.csv')\n",
    "\n",
    "data.head()\n",
    "\n",
    "s = setup(data, target = 'signal', session_id = 123, use_gpu=True)\n",
    "# best = compare_models(exclude=['gbc'])\n",
    "best = create_model(LGBMClassifier())\n"
   ]
  },
  {
   "cell_type": "code",
   "execution_count": 2,
   "metadata": {},
   "outputs": [
    {
     "data": {
      "text/html": [],
      "text/plain": [
       "<IPython.core.display.HTML object>"
      ]
     },
     "metadata": {},
     "output_type": "display_data"
    },
    {
     "data": {
      "image/png": "[encoded data removed]",
      "text/plain": [
       "<Figure size 800x550 with 1 Axes>"
      ]
     },
     "metadata": {},
     "output_type": "display_data"
    }
   ],
   "source": [
    "# plot confusion matrix\n",
    "plot_model(best, plot = 'confusion_matrix', plot_kwargs = {'percent': True})"
   ]
  },
  {
   "cell_type": "code",
   "execution_count": 3,
   "metadata": {},
   "outputs": [
    {
     "name": "stdout",
     "output_type": "stream",
     "text": [
      "Transformation Pipeline and Model Successfully Saved\n"
     ]
    },
    {
     "data": {
      "text/plain": [
       "(Pipeline(memory=FastMemory(location=/tmp/joblib),\n",
       "          steps=[('label_encoding',\n",
       "                  TransformerWrapperWithInverse(exclude=None, include=None,\n",
       "                                                transformer=LabelEncoder())),\n",
       "                 ('numerical_imputer',\n",
       "                  TransformerWrapper(exclude=None,\n",
       "                                     include=['ABER_ZG_5_15', 'ABER_SG_5_15',\n",
       "                                              'ABER_XG_5_15', 'ABER_ATR_5_15',\n",
       "                                              'ACCBL_20', 'ACCBM_20', 'ACCBU_20',\n",
       "                                              'AD', 'ADOSC_3_10', 'ADX_14',\n",
       "                                              'DMP_14'...\n",
       "                  LGBMClassifier(boosting_type='gbdt', class_weight=None,\n",
       "                                 colsample_bytree=1.0, importance_type='split',\n",
       "                                 learning_rate=0.1, max_depth=-1,\n",
       "                                 min_child_samples=20, min_child_weight=0.001,\n",
       "                                 min_split_gain=0.0, n_estimators=100,\n",
       "                                 n_jobs=None, num_leaves=31, objective=None,\n",
       "                                 random_state=None, reg_alpha=0.0,\n",
       "                                 reg_lambda=0.0, subsample=1.0,\n",
       "                                 subsample_for_bin=200000, subsample_freq=0))],\n",
       "          verbose=False),\n",
       " '../../models/ETHUSDT-15m-12-3.pkl')"
      ]
     },
     "execution_count": 3,
     "metadata": {},
     "output_type": "execute_result"
    }
   ],
   "source": [
    "# save pipeline\n",
    "model_name = 'ETHUSDT-15m-12-3'\n",
    "save_model(best, f'../../models/{model_name}')"
   ]
  },
  {
   "cell_type": "code",
   "execution_count": 28,
   "metadata": {},
   "outputs": [
    {
     "name": "stdout",
     "output_type": "stream",
     "text": [
      "Transformation Pipeline and Model Successfully Loaded\n"
     ]
    },
    {
     "data": {
      "text/html": [
       "<style type=\"text/css\">\n",
       "</style>\n",
       "<table id=\"T_c5951\">\n",
       "  <thead>\n",
       "    <tr>\n",
       "      <th class=\"blank level0\" >&nbsp;</th>\n",
       "      <th id=\"T_c5951_level0_col0\" class=\"col_heading level0 col0\" >Model</th>\n",
       "      <th id=\"T_c5951_level0_col1\" class=\"col_heading level0 col1\" >Accuracy</th>\n",
       "      <th id=\"T_c5951_level0_col2\" class=\"col_heading level0 col2\" >AUC</th>\n",
       "      <th id=\"T_c5951_level0_col3\" class=\"col_heading level0 col3\" >Recall</th>\n",
       "      <th id=\"T_c5951_level0_col4\" class=\"col_heading level0 col4\" >Prec.</th>\n",
       "      <th id=\"T_c5951_level0_col5\" class=\"col_heading level0 col5\" >F1</th>\n",
       "      <th id=\"T_c5951_level0_col6\" class=\"col_heading level0 col6\" >Kappa</th>\n",
       "      <th id=\"T_c5951_level0_col7\" class=\"col_heading level0 col7\" >MCC</th>\n",
       "    </tr>\n",
       "  </thead>\n",
       "  <tbody>\n",
       "    <tr>\n",
       "      <th id=\"T_c5951_level0_row0\" class=\"row_heading level0 row0\" >0</th>\n",
       "      <td id=\"T_c5951_row0_col0\" class=\"data row0 col0\" >Light Gradient Boosting Machine</td>\n",
       "      <td id=\"T_c5951_row0_col1\" class=\"data row0 col1\" >1.0000</td>\n",
       "      <td id=\"T_c5951_row0_col2\" class=\"data row0 col2\" >0</td>\n",
       "      <td id=\"T_c5951_row0_col3\" class=\"data row0 col3\" >1.0000</td>\n",
       "      <td id=\"T_c5951_row0_col4\" class=\"data row0 col4\" >1.0000</td>\n",
       "      <td id=\"T_c5951_row0_col5\" class=\"data row0 col5\" >1.0000</td>\n",
       "      <td id=\"T_c5951_row0_col6\" class=\"data row0 col6\" >nan</td>\n",
       "      <td id=\"T_c5951_row0_col7\" class=\"data row0 col7\" >0.0000</td>\n",
       "    </tr>\n",
       "  </tbody>\n",
       "</table>\n"
      ],
      "text/plain": [
       "<pandas.io.formats.style.Styler at 0x7f7323b88520>"
      ]
     },
     "metadata": {},
     "output_type": "display_data"
    },
    {
     "name": "stdout",
     "output_type": "stream",
     "text": [
      "{'prediction': 'long', 'prediction_score': 0.9942}\n"
     ]
    }
   ],
   "source": [
    "import pandas as pd\n",
    "from pycaret.classification import load_model, predict_model\n",
    "\n",
    "\n",
    "\n",
    "model_name = 'ETHUSDT-15m-12-3'\n",
    "model = load_model(f'../../models/{model_name}')\n",
    "# Load trained Pipeline\n",
    "# model = load_model(\"loaded_best_pipeline_api\")\n",
    "\n",
    "df = pd.read_csv('../../data/dataset.csv')\n",
    "predictions = predict_model(model, data=df[-6888:-6887])\n",
    "result = {\"prediction\": predictions[\"prediction_label\"].iloc[0], \"prediction_score\": predictions[\"prediction_score\"].iloc[0]}\n",
    "print(result)\n"
   ]
  },
  {
   "cell_type": "code",
   "execution_count": null,
   "metadata": {},
   "outputs": [],
   "source": [
    "import pandas as pd\n",
    "from pycaret.classification import load_model, predict_model\n",
    "\n",
    "\n",
    "\n",
    "# Load trained Pipeline\n",
    "model_name = 'ETHUSDT-15m-12-3'\n",
    "model = load_model(f'../../models/{model_name}')\n",
    "\n",
    "df = pd.read_csv('../../data/dataset.csv')\n",
    "for i in range(1,10,1):\n",
    "    data=df[i:i+1]\n",
    "    correct_predition = list(data['signal'])[0]\n",
    "    predictions = predict_model(model, data)\n",
    "    result = {\"prediction\": predictions[\"prediction_label\"].iloc[0], \"prediction_score\": predictions[\"prediction_score\"].iloc[0]}\n",
    "    print('correct_predition', correct_predition, 'bot predictions', result['prediction'], 'prediction_score', result['prediction_score'])"
   ]
  },
  {
   "cell_type": "code",
   "execution_count": 37,
   "metadata": {},
   "outputs": [
    {
     "data": {
      "text/plain": [
       "'long'"
      ]
     },
     "execution_count": 37,
     "metadata": {},
     "output_type": "execute_result"
    }
   ],
   "source": [
    "list(data['signal'])[0]"
   ]
  },
  {
   "cell_type": "code",
   "execution_count": null,
   "metadata": {},
   "outputs": [],
   "source": [
    "# plot AUC\n",
    "plot_model(best, plot = 'feature_all')"
   ]
  }
 ],
 "metadata": {
  "kernelspec": {
   "display_name": "Python 3",
   "language": "python",
   "name": "python3"
  },
  "language_info": {
   "codemirror_mode": {
    "name": "ipython",
    "version": 3
   },
   "file_extension": ".py",
   "mimetype": "text/x-python",
   "name": "python",
   "nbconvert_exporter": "python",
   "pygments_lexer": "ipython3",
   "version": "3.8.10"
  },
  "orig_nbformat": 4
 },
 "nbformat": 4,
 "nbformat_minor": 2
}
