{
 "cells": [
  {
   "cell_type": "code",
   "execution_count": 17,
   "metadata": {},
   "outputs": [
    {
     "name": "stdout",
     "output_type": "stream",
     "text": [
      "[LightGBM] [Warning] There are no meaningful features which satisfy the provided configuration. Decreasing Dataset parameters min_data_in_bin or min_data_in_leaf and re-constructing Dataset might resolve this warning.\n",
      "[LightGBM] [Info] Number of positive: 1, number of negative: 1\n",
      "[LightGBM] [Info] This is the GPU trainer!!\n",
      "[LightGBM] [Info] Total Bins 0\n",
      "[LightGBM] [Info] Number of data points in the train set: 2, number of used features: 0\n",
      "[LightGBM] [Warning] There are no meaningful features which satisfy the provided configuration. Decreasing Dataset parameters min_data_in_bin or min_data_in_leaf and re-constructing Dataset might resolve this warning.\n",
      "[LightGBM] [Warning] Using sparse features with CUDA is currently not supported.\n",
      "[LightGBM] [Info] Number of positive: 1, number of negative: 1\n",
      "[LightGBM] [Warning] There are no meaningful features which satisfy the provided configuration. Decreasing Dataset parameters min_data_in_bin or min_data_in_leaf and re-constructing Dataset might resolve this warning.\n",
      "[LightGBM] [Info] Number of positive: 1, number of negative: 1\n",
      "[LightGBM] [Info] This is the GPU trainer!!\n",
      "[LightGBM] [Info] Total Bins 0\n",
      "[LightGBM] [Info] Number of data points in the train set: 2, number of used features: 0\n",
      "[LightGBM] [Warning] There are no meaningful features which satisfy the provided configuration. Decreasing Dataset parameters min_data_in_bin or min_data_in_leaf and re-constructing Dataset might resolve this warning.\n",
      "[LightGBM] [Warning] Using sparse features with CUDA is currently not supported.\n",
      "[LightGBM] [Info] Number of positive: 1, number of negative: 1\n",
      "[LightGBM] [Warning] There are no meaningful features which satisfy the provided configuration. Decreasing Dataset parameters min_data_in_bin or min_data_in_leaf and re-constructing Dataset might resolve this warning.\n",
      "[LightGBM] [Info] Number of positive: 1, number of negative: 1\n",
      "[LightGBM] [Info] This is the GPU trainer!!\n",
      "[LightGBM] [Info] Total Bins 0\n",
      "[LightGBM] [Info] Number of data points in the train set: 2, number of used features: 0\n",
      "[LightGBM] [Warning] There are no meaningful features which satisfy the provided configuration. Decreasing Dataset parameters min_data_in_bin or min_data_in_leaf and re-constructing Dataset might resolve this warning.\n",
      "[LightGBM] [Warning] Using sparse features with CUDA is currently not supported.\n",
      "[LightGBM] [Info] Number of positive: 1, number of negative: 1\n",
      "[LightGBM] [Warning] There are no meaningful features which satisfy the provided configuration. Decreasing Dataset parameters min_data_in_bin or min_data_in_leaf and re-constructing Dataset might resolve this warning.\n",
      "[LightGBM] [Info] Number of positive: 1, number of negative: 1\n",
      "[LightGBM] [Info] This is the GPU trainer!!\n",
      "[LightGBM] [Info] Total Bins 0\n",
      "[LightGBM] [Info] Number of data points in the train set: 2, number of used features: 0\n",
      "[LightGBM] [Warning] There are no meaningful features which satisfy the provided configuration. Decreasing Dataset parameters min_data_in_bin or min_data_in_leaf and re-constructing Dataset might resolve this warning.\n",
      "[LightGBM] [Warning] Using sparse features with CUDA is currently not supported.\n",
      "[LightGBM] [Info] Number of positive: 1, number of negative: 1\n"
     ]
    },
    {
     "name": "stderr",
     "output_type": "stream",
     "text": [
      "[LightGBM] [Fatal] CUDA Tree Learner was not enabled in this build.\n",
      "Please recompile with CMake option -DUSE_CUDAP=1\n",
      "[LightGBM] [Fatal] CUDA Tree Learner was not enabled in this build.\n",
      "Please recompile with CMake option -DUSE_CUDAP=1\n",
      "[LightGBM] [Fatal] CUDA Tree Learner was not enabled in this build.\n",
      "Please recompile with CMake option -DUSE_CUDAP=1\n",
      "[LightGBM] [Fatal] CUDA Tree Learner was not enabled in this build.\n",
      "Please recompile with CMake option -DUSE_CUDAP=1\n"
     ]
    },
    {
     "name": "stdout",
     "output_type": "stream",
     "text": [
      "[LightGBM] [Warning] There are no meaningful features which satisfy the provided configuration. Decreasing Dataset parameters min_data_in_bin or min_data_in_leaf and re-constructing Dataset might resolve this warning.\n",
      "[LightGBM] [Info] Number of positive: 1, number of negative: 1\n",
      "[LightGBM] [Info] This is the GPU trainer!!\n",
      "[LightGBM] [Info] Total Bins 0\n",
      "[LightGBM] [Info] Number of data points in the train set: 2, number of used features: 0\n",
      "[LightGBM] [Warning] There are no meaningful features which satisfy the provided configuration. Decreasing Dataset parameters min_data_in_bin or min_data_in_leaf and re-constructing Dataset might resolve this warning.\n",
      "[LightGBM] [Warning] Using sparse features with CUDA is currently not supported.\n",
      "[LightGBM] [Info] Number of positive: 1, number of negative: 1\n",
      "[LightGBM] [Warning] There are no meaningful features which satisfy the provided configuration. Decreasing Dataset parameters min_data_in_bin or min_data_in_leaf and re-constructing Dataset might resolve this warning.\n",
      "[LightGBM] [Info] Number of positive: 1, number of negative: 1\n",
      "[LightGBM] [Info] This is the GPU trainer!!\n",
      "[LightGBM] [Info] Total Bins 0\n",
      "[LightGBM] [Info] Number of data points in the train set: 2, number of used features: 0\n",
      "[LightGBM] [Warning] There are no meaningful features which satisfy the provided configuration. Decreasing Dataset parameters min_data_in_bin or min_data_in_leaf and re-constructing Dataset might resolve this warning.\n",
      "[LightGBM] [Warning] Using sparse features with CUDA is currently not supported.\n",
      "[LightGBM] [Info] Number of positive: 1, number of negative: 1\n"
     ]
    },
    {
     "name": "stderr",
     "output_type": "stream",
     "text": [
      "[LightGBM] [Fatal] CUDA Tree Learner was not enabled in this build.\n",
      "Please recompile with CMake option -DUSE_CUDAP=1\n",
      "[LightGBM] [Fatal] CUDA Tree Learner was not enabled in this build.\n",
      "Please recompile with CMake option -DUSE_CUDAP=1\n"
     ]
    },
    {
     "data": {
      "text/html": [
       "<style type=\"text/css\">\n",
       "#T_a386a_row11_col1, #T_a386a_row20_col1 {\n",
       "  background-color: lightgreen;\n",
       "}\n",
       "</style>\n",
       "<table id=\"T_a386a\">\n",
       "  <thead>\n",
       "    <tr>\n",
       "      <th class=\"blank level0\" >&nbsp;</th>\n",
       "      <th id=\"T_a386a_level0_col0\" class=\"col_heading level0 col0\" >Description</th>\n",
       "      <th id=\"T_a386a_level0_col1\" class=\"col_heading level0 col1\" >Value</th>\n",
       "    </tr>\n",
       "  </thead>\n",
       "  <tbody>\n",
       "    <tr>\n",
       "      <th id=\"T_a386a_level0_row0\" class=\"row_heading level0 row0\" >0</th>\n",
       "      <td id=\"T_a386a_row0_col0\" class=\"data row0 col0\" >Session id</td>\n",
       "      <td id=\"T_a386a_row0_col1\" class=\"data row0 col1\" >123</td>\n",
       "    </tr>\n",
       "    <tr>\n",
       "      <th id=\"T_a386a_level0_row1\" class=\"row_heading level0 row1\" >1</th>\n",
       "      <td id=\"T_a386a_row1_col0\" class=\"data row1 col0\" >Target</td>\n",
       "      <td id=\"T_a386a_row1_col1\" class=\"data row1 col1\" >signal</td>\n",
       "    </tr>\n",
       "    <tr>\n",
       "      <th id=\"T_a386a_level0_row2\" class=\"row_heading level0 row2\" >2</th>\n",
       "      <td id=\"T_a386a_row2_col0\" class=\"data row2 col0\" >Target type</td>\n",
       "      <td id=\"T_a386a_row2_col1\" class=\"data row2 col1\" >Multiclass</td>\n",
       "    </tr>\n",
       "    <tr>\n",
       "      <th id=\"T_a386a_level0_row3\" class=\"row_heading level0 row3\" >3</th>\n",
       "      <td id=\"T_a386a_row3_col0\" class=\"data row3 col0\" >Target mapping</td>\n",
       "      <td id=\"T_a386a_row3_col1\" class=\"data row3 col1\" >dont_trade: 0, long: 1, short: 2</td>\n",
       "    </tr>\n",
       "    <tr>\n",
       "      <th id=\"T_a386a_level0_row4\" class=\"row_heading level0 row4\" >4</th>\n",
       "      <td id=\"T_a386a_row4_col0\" class=\"data row4 col0\" >Original data shape</td>\n",
       "      <td id=\"T_a386a_row4_col1\" class=\"data row4 col1\" >(23082, 54)</td>\n",
       "    </tr>\n",
       "    <tr>\n",
       "      <th id=\"T_a386a_level0_row5\" class=\"row_heading level0 row5\" >5</th>\n",
       "      <td id=\"T_a386a_row5_col0\" class=\"data row5 col0\" >Transformed data shape</td>\n",
       "      <td id=\"T_a386a_row5_col1\" class=\"data row5 col1\" >(23082, 54)</td>\n",
       "    </tr>\n",
       "    <tr>\n",
       "      <th id=\"T_a386a_level0_row6\" class=\"row_heading level0 row6\" >6</th>\n",
       "      <td id=\"T_a386a_row6_col0\" class=\"data row6 col0\" >Transformed train set shape</td>\n",
       "      <td id=\"T_a386a_row6_col1\" class=\"data row6 col1\" >(16157, 54)</td>\n",
       "    </tr>\n",
       "    <tr>\n",
       "      <th id=\"T_a386a_level0_row7\" class=\"row_heading level0 row7\" >7</th>\n",
       "      <td id=\"T_a386a_row7_col0\" class=\"data row7 col0\" >Transformed test set shape</td>\n",
       "      <td id=\"T_a386a_row7_col1\" class=\"data row7 col1\" >(6925, 54)</td>\n",
       "    </tr>\n",
       "    <tr>\n",
       "      <th id=\"T_a386a_level0_row8\" class=\"row_heading level0 row8\" >8</th>\n",
       "      <td id=\"T_a386a_row8_col0\" class=\"data row8 col0\" >Numeric features</td>\n",
       "      <td id=\"T_a386a_row8_col1\" class=\"data row8 col1\" >52</td>\n",
       "    </tr>\n",
       "    <tr>\n",
       "      <th id=\"T_a386a_level0_row9\" class=\"row_heading level0 row9\" >9</th>\n",
       "      <td id=\"T_a386a_row9_col0\" class=\"data row9 col0\" >Categorical features</td>\n",
       "      <td id=\"T_a386a_row9_col1\" class=\"data row9 col1\" >1</td>\n",
       "    </tr>\n",
       "    <tr>\n",
       "      <th id=\"T_a386a_level0_row10\" class=\"row_heading level0 row10\" >10</th>\n",
       "      <td id=\"T_a386a_row10_col0\" class=\"data row10 col0\" >Rows with missing values</td>\n",
       "      <td id=\"T_a386a_row10_col1\" class=\"data row10 col1\" >0.3%</td>\n",
       "    </tr>\n",
       "    <tr>\n",
       "      <th id=\"T_a386a_level0_row11\" class=\"row_heading level0 row11\" >11</th>\n",
       "      <td id=\"T_a386a_row11_col0\" class=\"data row11 col0\" >Preprocess</td>\n",
       "      <td id=\"T_a386a_row11_col1\" class=\"data row11 col1\" >True</td>\n",
       "    </tr>\n",
       "    <tr>\n",
       "      <th id=\"T_a386a_level0_row12\" class=\"row_heading level0 row12\" >12</th>\n",
       "      <td id=\"T_a386a_row12_col0\" class=\"data row12 col0\" >Imputation type</td>\n",
       "      <td id=\"T_a386a_row12_col1\" class=\"data row12 col1\" >simple</td>\n",
       "    </tr>\n",
       "    <tr>\n",
       "      <th id=\"T_a386a_level0_row13\" class=\"row_heading level0 row13\" >13</th>\n",
       "      <td id=\"T_a386a_row13_col0\" class=\"data row13 col0\" >Numeric imputation</td>\n",
       "      <td id=\"T_a386a_row13_col1\" class=\"data row13 col1\" >mean</td>\n",
       "    </tr>\n",
       "    <tr>\n",
       "      <th id=\"T_a386a_level0_row14\" class=\"row_heading level0 row14\" >14</th>\n",
       "      <td id=\"T_a386a_row14_col0\" class=\"data row14 col0\" >Categorical imputation</td>\n",
       "      <td id=\"T_a386a_row14_col1\" class=\"data row14 col1\" >mode</td>\n",
       "    </tr>\n",
       "    <tr>\n",
       "      <th id=\"T_a386a_level0_row15\" class=\"row_heading level0 row15\" >15</th>\n",
       "      <td id=\"T_a386a_row15_col0\" class=\"data row15 col0\" >Maximum one-hot encoding</td>\n",
       "      <td id=\"T_a386a_row15_col1\" class=\"data row15 col1\" >25</td>\n",
       "    </tr>\n",
       "    <tr>\n",
       "      <th id=\"T_a386a_level0_row16\" class=\"row_heading level0 row16\" >16</th>\n",
       "      <td id=\"T_a386a_row16_col0\" class=\"data row16 col0\" >Encoding method</td>\n",
       "      <td id=\"T_a386a_row16_col1\" class=\"data row16 col1\" >None</td>\n",
       "    </tr>\n",
       "    <tr>\n",
       "      <th id=\"T_a386a_level0_row17\" class=\"row_heading level0 row17\" >17</th>\n",
       "      <td id=\"T_a386a_row17_col0\" class=\"data row17 col0\" >Fold Generator</td>\n",
       "      <td id=\"T_a386a_row17_col1\" class=\"data row17 col1\" >StratifiedKFold</td>\n",
       "    </tr>\n",
       "    <tr>\n",
       "      <th id=\"T_a386a_level0_row18\" class=\"row_heading level0 row18\" >18</th>\n",
       "      <td id=\"T_a386a_row18_col0\" class=\"data row18 col0\" >Fold Number</td>\n",
       "      <td id=\"T_a386a_row18_col1\" class=\"data row18 col1\" >10</td>\n",
       "    </tr>\n",
       "    <tr>\n",
       "      <th id=\"T_a386a_level0_row19\" class=\"row_heading level0 row19\" >19</th>\n",
       "      <td id=\"T_a386a_row19_col0\" class=\"data row19 col0\" >CPU Jobs</td>\n",
       "      <td id=\"T_a386a_row19_col1\" class=\"data row19 col1\" >-1</td>\n",
       "    </tr>\n",
       "    <tr>\n",
       "      <th id=\"T_a386a_level0_row20\" class=\"row_heading level0 row20\" >20</th>\n",
       "      <td id=\"T_a386a_row20_col0\" class=\"data row20 col0\" >Use GPU</td>\n",
       "      <td id=\"T_a386a_row20_col1\" class=\"data row20 col1\" >True</td>\n",
       "    </tr>\n",
       "    <tr>\n",
       "      <th id=\"T_a386a_level0_row21\" class=\"row_heading level0 row21\" >21</th>\n",
       "      <td id=\"T_a386a_row21_col0\" class=\"data row21 col0\" >Log Experiment</td>\n",
       "      <td id=\"T_a386a_row21_col1\" class=\"data row21 col1\" >False</td>\n",
       "    </tr>\n",
       "    <tr>\n",
       "      <th id=\"T_a386a_level0_row22\" class=\"row_heading level0 row22\" >22</th>\n",
       "      <td id=\"T_a386a_row22_col0\" class=\"data row22 col0\" >Experiment Name</td>\n",
       "      <td id=\"T_a386a_row22_col1\" class=\"data row22 col1\" >clf-default-name</td>\n",
       "    </tr>\n",
       "    <tr>\n",
       "      <th id=\"T_a386a_level0_row23\" class=\"row_heading level0 row23\" >23</th>\n",
       "      <td id=\"T_a386a_row23_col0\" class=\"data row23 col0\" >USI</td>\n",
       "      <td id=\"T_a386a_row23_col1\" class=\"data row23 col1\" >4755</td>\n",
       "    </tr>\n",
       "  </tbody>\n",
       "</table>\n"
      ],
      "text/plain": [
       "<pandas.io.formats.style.Styler at 0x7f6620921ea0>"
      ]
     },
     "metadata": {},
     "output_type": "display_data"
    },
    {
     "name": "stdout",
     "output_type": "stream",
     "text": [
      "[LightGBM] [Warning] There are no meaningful features which satisfy the provided configuration. Decreasing Dataset parameters min_data_in_bin or min_data_in_leaf and re-constructing Dataset might resolve this warning.\n",
      "[LightGBM] [Info] Number of positive: 1, number of negative: 1\n",
      "[LightGBM] [Info] This is the GPU trainer!!\n",
      "[LightGBM] [Info] Total Bins 0\n",
      "[LightGBM] [Info] Number of data points in the train set: 2, number of used features: 0\n",
      "[LightGBM] [Warning] There are no meaningful features which satisfy the provided configuration. Decreasing Dataset parameters min_data_in_bin or min_data_in_leaf and re-constructing Dataset might resolve this warning.\n",
      "[LightGBM] [Warning] Using sparse features with CUDA is currently not supported.\n",
      "[LightGBM] [Info] Number of positive: 1, number of negative: 1\n",
      "[LightGBM] [Warning] There are no meaningful features which satisfy the provided configuration. Decreasing Dataset parameters min_data_in_bin or min_data_in_leaf and re-constructing Dataset might resolve this warning.\n",
      "[LightGBM] [Info] Number of positive: 1, number of negative: 1\n",
      "[LightGBM] [Info] This is the GPU trainer!!\n",
      "[LightGBM] [Info] Total Bins 0\n",
      "[LightGBM] [Info] Number of data points in the train set: 2, number of used features: 0\n",
      "[LightGBM] [Warning] There are no meaningful features which satisfy the provided configuration. Decreasing Dataset parameters min_data_in_bin or min_data_in_leaf and re-constructing Dataset might resolve this warning.\n",
      "[LightGBM] [Warning] Using sparse features with CUDA is currently not supported.\n",
      "[LightGBM] [Info] Number of positive: 1, number of negative: 1\n"
     ]
    },
    {
     "name": "stderr",
     "output_type": "stream",
     "text": [
      "[LightGBM] [Fatal] CUDA Tree Learner was not enabled in this build.\n",
      "Please recompile with CMake option -DUSE_CUDAP=1\n",
      "[LightGBM] [Fatal] CUDA Tree Learner was not enabled in this build.\n",
      "Please recompile with CMake option -DUSE_CUDAP=1\n"
     ]
    },
    {
     "data": {
      "text/html": [],
      "text/plain": [
       "<IPython.core.display.HTML object>"
      ]
     },
     "metadata": {},
     "output_type": "display_data"
    },
    {
     "data": {
      "text/html": [
       "<style type=\"text/css\">\n",
       "#T_1bfb9_row10_col0, #T_1bfb9_row10_col1, #T_1bfb9_row10_col2, #T_1bfb9_row10_col3, #T_1bfb9_row10_col4, #T_1bfb9_row10_col5, #T_1bfb9_row10_col6 {\n",
       "  background: yellow;\n",
       "}\n",
       "</style>\n",
       "<table id=\"T_1bfb9\">\n",
       "  <thead>\n",
       "    <tr>\n",
       "      <th class=\"blank level0\" >&nbsp;</th>\n",
       "      <th id=\"T_1bfb9_level0_col0\" class=\"col_heading level0 col0\" >Accuracy</th>\n",
       "      <th id=\"T_1bfb9_level0_col1\" class=\"col_heading level0 col1\" >AUC</th>\n",
       "      <th id=\"T_1bfb9_level0_col2\" class=\"col_heading level0 col2\" >Recall</th>\n",
       "      <th id=\"T_1bfb9_level0_col3\" class=\"col_heading level0 col3\" >Prec.</th>\n",
       "      <th id=\"T_1bfb9_level0_col4\" class=\"col_heading level0 col4\" >F1</th>\n",
       "      <th id=\"T_1bfb9_level0_col5\" class=\"col_heading level0 col5\" >Kappa</th>\n",
       "      <th id=\"T_1bfb9_level0_col6\" class=\"col_heading level0 col6\" >MCC</th>\n",
       "    </tr>\n",
       "    <tr>\n",
       "      <th class=\"index_name level0\" >Fold</th>\n",
       "      <th class=\"blank col0\" >&nbsp;</th>\n",
       "      <th class=\"blank col1\" >&nbsp;</th>\n",
       "      <th class=\"blank col2\" >&nbsp;</th>\n",
       "      <th class=\"blank col3\" >&nbsp;</th>\n",
       "      <th class=\"blank col4\" >&nbsp;</th>\n",
       "      <th class=\"blank col5\" >&nbsp;</th>\n",
       "      <th class=\"blank col6\" >&nbsp;</th>\n",
       "    </tr>\n",
       "  </thead>\n",
       "  <tbody>\n",
       "    <tr>\n",
       "      <th id=\"T_1bfb9_level0_row0\" class=\"row_heading level0 row0\" >0</th>\n",
       "      <td id=\"T_1bfb9_row0_col0\" class=\"data row0 col0\" >0.8348</td>\n",
       "      <td id=\"T_1bfb9_row0_col1\" class=\"data row0 col1\" >0.9577</td>\n",
       "      <td id=\"T_1bfb9_row0_col2\" class=\"data row0 col2\" >0.8348</td>\n",
       "      <td id=\"T_1bfb9_row0_col3\" class=\"data row0 col3\" >0.8345</td>\n",
       "      <td id=\"T_1bfb9_row0_col4\" class=\"data row0 col4\" >0.8346</td>\n",
       "      <td id=\"T_1bfb9_row0_col5\" class=\"data row0 col5\" >0.7518</td>\n",
       "      <td id=\"T_1bfb9_row0_col6\" class=\"data row0 col6\" >0.7518</td>\n",
       "    </tr>\n",
       "    <tr>\n",
       "      <th id=\"T_1bfb9_level0_row1\" class=\"row_heading level0 row1\" >1</th>\n",
       "      <td id=\"T_1bfb9_row1_col0\" class=\"data row1 col0\" >0.8558</td>\n",
       "      <td id=\"T_1bfb9_row1_col1\" class=\"data row1 col1\" >0.9607</td>\n",
       "      <td id=\"T_1bfb9_row1_col2\" class=\"data row1 col2\" >0.8558</td>\n",
       "      <td id=\"T_1bfb9_row1_col3\" class=\"data row1 col3\" >0.8554</td>\n",
       "      <td id=\"T_1bfb9_row1_col4\" class=\"data row1 col4\" >0.8552</td>\n",
       "      <td id=\"T_1bfb9_row1_col5\" class=\"data row1 col5\" >0.7832</td>\n",
       "      <td id=\"T_1bfb9_row1_col6\" class=\"data row1 col6\" >0.7836</td>\n",
       "    </tr>\n",
       "    <tr>\n",
       "      <th id=\"T_1bfb9_level0_row2\" class=\"row_heading level0 row2\" >2</th>\n",
       "      <td id=\"T_1bfb9_row2_col0\" class=\"data row2 col0\" >0.8657</td>\n",
       "      <td id=\"T_1bfb9_row2_col1\" class=\"data row2 col1\" >0.9673</td>\n",
       "      <td id=\"T_1bfb9_row2_col2\" class=\"data row2 col2\" >0.8657</td>\n",
       "      <td id=\"T_1bfb9_row2_col3\" class=\"data row2 col3\" >0.8665</td>\n",
       "      <td id=\"T_1bfb9_row2_col4\" class=\"data row2 col4\" >0.8661</td>\n",
       "      <td id=\"T_1bfb9_row2_col5\" class=\"data row2 col5\" >0.7983</td>\n",
       "      <td id=\"T_1bfb9_row2_col6\" class=\"data row2 col6\" >0.7984</td>\n",
       "    </tr>\n",
       "    <tr>\n",
       "      <th id=\"T_1bfb9_level0_row3\" class=\"row_heading level0 row3\" >3</th>\n",
       "      <td id=\"T_1bfb9_row3_col0\" class=\"data row3 col0\" >0.8515</td>\n",
       "      <td id=\"T_1bfb9_row3_col1\" class=\"data row3 col1\" >0.9583</td>\n",
       "      <td id=\"T_1bfb9_row3_col2\" class=\"data row3 col2\" >0.8515</td>\n",
       "      <td id=\"T_1bfb9_row3_col3\" class=\"data row3 col3\" >0.8505</td>\n",
       "      <td id=\"T_1bfb9_row3_col4\" class=\"data row3 col4\" >0.8506</td>\n",
       "      <td id=\"T_1bfb9_row3_col5\" class=\"data row3 col5\" >0.7766</td>\n",
       "      <td id=\"T_1bfb9_row3_col6\" class=\"data row3 col6\" >0.7770</td>\n",
       "    </tr>\n",
       "    <tr>\n",
       "      <th id=\"T_1bfb9_level0_row4\" class=\"row_heading level0 row4\" >4</th>\n",
       "      <td id=\"T_1bfb9_row4_col0\" class=\"data row4 col0\" >0.8453</td>\n",
       "      <td id=\"T_1bfb9_row4_col1\" class=\"data row4 col1\" >0.9593</td>\n",
       "      <td id=\"T_1bfb9_row4_col2\" class=\"data row4 col2\" >0.8453</td>\n",
       "      <td id=\"T_1bfb9_row4_col3\" class=\"data row4 col3\" >0.8445</td>\n",
       "      <td id=\"T_1bfb9_row4_col4\" class=\"data row4 col4\" >0.8444</td>\n",
       "      <td id=\"T_1bfb9_row4_col5\" class=\"data row4 col5\" >0.7674</td>\n",
       "      <td id=\"T_1bfb9_row4_col6\" class=\"data row4 col6\" >0.7678</td>\n",
       "    </tr>\n",
       "    <tr>\n",
       "      <th id=\"T_1bfb9_level0_row5\" class=\"row_heading level0 row5\" >5</th>\n",
       "      <td id=\"T_1bfb9_row5_col0\" class=\"data row5 col0\" >0.8274</td>\n",
       "      <td id=\"T_1bfb9_row5_col1\" class=\"data row5 col1\" >0.9534</td>\n",
       "      <td id=\"T_1bfb9_row5_col2\" class=\"data row5 col2\" >0.8274</td>\n",
       "      <td id=\"T_1bfb9_row5_col3\" class=\"data row5 col3\" >0.8276</td>\n",
       "      <td id=\"T_1bfb9_row5_col4\" class=\"data row5 col4\" >0.8273</td>\n",
       "      <td id=\"T_1bfb9_row5_col5\" class=\"data row5 col5\" >0.7404</td>\n",
       "      <td id=\"T_1bfb9_row5_col6\" class=\"data row5 col6\" >0.7406</td>\n",
       "    </tr>\n",
       "    <tr>\n",
       "      <th id=\"T_1bfb9_level0_row6\" class=\"row_heading level0 row6\" >6</th>\n",
       "      <td id=\"T_1bfb9_row6_col0\" class=\"data row6 col0\" >0.8552</td>\n",
       "      <td id=\"T_1bfb9_row6_col1\" class=\"data row6 col1\" >0.9637</td>\n",
       "      <td id=\"T_1bfb9_row6_col2\" class=\"data row6 col2\" >0.8552</td>\n",
       "      <td id=\"T_1bfb9_row6_col3\" class=\"data row6 col3\" >0.8555</td>\n",
       "      <td id=\"T_1bfb9_row6_col4\" class=\"data row6 col4\" >0.8548</td>\n",
       "      <td id=\"T_1bfb9_row6_col5\" class=\"data row6 col5\" >0.7822</td>\n",
       "      <td id=\"T_1bfb9_row6_col6\" class=\"data row6 col6\" >0.7827</td>\n",
       "    </tr>\n",
       "    <tr>\n",
       "      <th id=\"T_1bfb9_level0_row7\" class=\"row_heading level0 row7\" >7</th>\n",
       "      <td id=\"T_1bfb9_row7_col0\" class=\"data row7 col0\" >0.8632</td>\n",
       "      <td id=\"T_1bfb9_row7_col1\" class=\"data row7 col1\" >0.9638</td>\n",
       "      <td id=\"T_1bfb9_row7_col2\" class=\"data row7 col2\" >0.8632</td>\n",
       "      <td id=\"T_1bfb9_row7_col3\" class=\"data row7 col3\" >0.8629</td>\n",
       "      <td id=\"T_1bfb9_row7_col4\" class=\"data row7 col4\" >0.8623</td>\n",
       "      <td id=\"T_1bfb9_row7_col5\" class=\"data row7 col5\" >0.7942</td>\n",
       "      <td id=\"T_1bfb9_row7_col6\" class=\"data row7 col6\" >0.7949</td>\n",
       "    </tr>\n",
       "    <tr>\n",
       "      <th id=\"T_1bfb9_level0_row8\" class=\"row_heading level0 row8\" >8</th>\n",
       "      <td id=\"T_1bfb9_row8_col0\" class=\"data row8 col0\" >0.8502</td>\n",
       "      <td id=\"T_1bfb9_row8_col1\" class=\"data row8 col1\" >0.9596</td>\n",
       "      <td id=\"T_1bfb9_row8_col2\" class=\"data row8 col2\" >0.8502</td>\n",
       "      <td id=\"T_1bfb9_row8_col3\" class=\"data row8 col3\" >0.8492</td>\n",
       "      <td id=\"T_1bfb9_row8_col4\" class=\"data row8 col4\" >0.8494</td>\n",
       "      <td id=\"T_1bfb9_row8_col5\" class=\"data row8 col5\" >0.7747</td>\n",
       "      <td id=\"T_1bfb9_row8_col6\" class=\"data row8 col6\" >0.7750</td>\n",
       "    </tr>\n",
       "    <tr>\n",
       "      <th id=\"T_1bfb9_level0_row9\" class=\"row_heading level0 row9\" >9</th>\n",
       "      <td id=\"T_1bfb9_row9_col0\" class=\"data row9 col0\" >0.8539</td>\n",
       "      <td id=\"T_1bfb9_row9_col1\" class=\"data row9 col1\" >0.9621</td>\n",
       "      <td id=\"T_1bfb9_row9_col2\" class=\"data row9 col2\" >0.8539</td>\n",
       "      <td id=\"T_1bfb9_row9_col3\" class=\"data row9 col3\" >0.8536</td>\n",
       "      <td id=\"T_1bfb9_row9_col4\" class=\"data row9 col4\" >0.8529</td>\n",
       "      <td id=\"T_1bfb9_row9_col5\" class=\"data row9 col5\" >0.7801</td>\n",
       "      <td id=\"T_1bfb9_row9_col6\" class=\"data row9 col6\" >0.7809</td>\n",
       "    </tr>\n",
       "    <tr>\n",
       "      <th id=\"T_1bfb9_level0_row10\" class=\"row_heading level0 row10\" >Mean</th>\n",
       "      <td id=\"T_1bfb9_row10_col0\" class=\"data row10 col0\" >0.8503</td>\n",
       "      <td id=\"T_1bfb9_row10_col1\" class=\"data row10 col1\" >0.9606</td>\n",
       "      <td id=\"T_1bfb9_row10_col2\" class=\"data row10 col2\" >0.8503</td>\n",
       "      <td id=\"T_1bfb9_row10_col3\" class=\"data row10 col3\" >0.8500</td>\n",
       "      <td id=\"T_1bfb9_row10_col4\" class=\"data row10 col4\" >0.8498</td>\n",
       "      <td id=\"T_1bfb9_row10_col5\" class=\"data row10 col5\" >0.7749</td>\n",
       "      <td id=\"T_1bfb9_row10_col6\" class=\"data row10 col6\" >0.7753</td>\n",
       "    </tr>\n",
       "    <tr>\n",
       "      <th id=\"T_1bfb9_level0_row11\" class=\"row_heading level0 row11\" >Std</th>\n",
       "      <td id=\"T_1bfb9_row11_col0\" class=\"data row11 col0\" >0.0112</td>\n",
       "      <td id=\"T_1bfb9_row11_col1\" class=\"data row11 col1\" >0.0037</td>\n",
       "      <td id=\"T_1bfb9_row11_col2\" class=\"data row11 col2\" >0.0112</td>\n",
       "      <td id=\"T_1bfb9_row11_col3\" class=\"data row11 col3\" >0.0113</td>\n",
       "      <td id=\"T_1bfb9_row11_col4\" class=\"data row11 col4\" >0.0112</td>\n",
       "      <td id=\"T_1bfb9_row11_col5\" class=\"data row11 col5\" >0.0169</td>\n",
       "      <td id=\"T_1bfb9_row11_col6\" class=\"data row11 col6\" >0.0170</td>\n",
       "    </tr>\n",
       "  </tbody>\n",
       "</table>\n"
      ],
      "text/plain": [
       "<pandas.io.formats.style.Styler at 0x7f66199d8f70>"
      ]
     },
     "metadata": {},
     "output_type": "display_data"
    },
    {
     "data": {
      "text/html": [],
      "text/plain": [
       "<IPython.core.display.HTML object>"
      ]
     },
     "metadata": {},
     "output_type": "display_data"
    },
    {
     "data": {
      "text/html": [],
      "text/plain": [
       "<IPython.core.display.HTML object>"
      ]
     },
     "metadata": {},
     "output_type": "display_data"
    },
    {
     "data": {
      "image/png": "[encoded data removed]",
      "text/plain": [
       "<Figure size 800x550 with 1 Axes>"
      ]
     },
     "metadata": {},
     "output_type": "display_data"
    }
   ],
   "source": [
    "import pandas as pd\n",
    "from pycaret.classification import *\n",
    "from pycaret.classification import ClassificationExperiment\n",
    "from lightgbm import LGBMClassifier\n",
    "exp = ClassificationExperiment()\n",
    "\n",
    "\n",
    "o_data = pd.read_csv('../../data/HBARUSDT_training_features.csv')\n",
    "data = pd.DataFrame()\n",
    "sf = ['signal', 'coin', 'DPO_20', 'AD', 'NVI_1', 'PVT', 'CMF_20', 'BEARP_13', 'UO_7_14_28', 'THERMOl_20_2_0.5', 'CHOP_14_1_100', 'SQZPRO_ON_WIDE', 'ADOSC_3_10', 'D_9_3', 'K_9_3', 'CDL_DOJI_10_0.1', 'SQZPRO_ON_NORMAL', 'SQZ_ON', 'STOCHRSId_14_14_3_3', 'STOCHRSIk_14_14_3_3', 'J_9_3', 'PVR', 'SQZPRO_ON_NARROW', 'STOCHd_14_3_3', 'INERTIA_20_14', 'AMATe_SR_8_21_2', 'STOCHk_14_3_3', 'TTM_TRND_6', 'BOP', 'RVI_14', 'AOBV_SR_2', 'DEC_1', 'AOBV_LR_2', 'BBP_5_2.0', 'EBSW_40_10', 'INC_1', 'SQZ_NO', 'SQZPRO_NO', 'AMATe_LR_8_21_2', 'AROOND_14', 'PSL_12', 'CDL_INSIDE', 'SMIo_5_20_5', 'MACDh_12_26_9', 'PPOh_12_26_9', 'CFO_9', 'CTI_12', 'AROONOSC_14', 'KURT_30', 'KVO_34_55_13', 'KVOs_34_55_13', 'PSARr_0.02_0.2', 'SQZ_OFF', 'LOGRET_1']\n",
    "for val in sf:\n",
    "    data[val] = o_data[val]\n",
    "\n",
    "data.head()\n",
    "\n",
    "s = setup(data, target = 'signal', session_id = 123, use_gpu=True)\n",
    "# best = compare_models(exclude=['gbc'])\n",
    "best = create_model(LGBMClassifier())\n",
    "# plot confusion matrix\n",
    "plot_model(best, plot = 'confusion_matrix', plot_kwargs = {'percent': True})\n"
   ]
  },
  {
   "cell_type": "code",
   "execution_count": 18,
   "metadata": {},
   "outputs": [
    {
     "data": {
      "text/plain": [
       "54"
      ]
     },
     "execution_count": 18,
     "metadata": {},
     "output_type": "execute_result"
    }
   ],
   "source": [
    "len(sf)"
   ]
  },
  {
   "cell_type": "code",
   "execution_count": null,
   "metadata": {},
   "outputs": [],
   "source": [
    "# save pipeline\n",
    "model_name = 'ETHUSDT-15m-12-3'\n",
    "save_model(best, f'../../models/{model_name}')"
   ]
  },
  {
   "cell_type": "code",
   "execution_count": 28,
   "metadata": {},
   "outputs": [
    {
     "name": "stdout",
     "output_type": "stream",
     "text": [
      "Transformation Pipeline and Model Successfully Loaded\n"
     ]
    },
    {
     "data": {
      "text/html": [
       "<style type=\"text/css\">\n",
       "</style>\n",
       "<table id=\"T_c5951\">\n",
       "  <thead>\n",
       "    <tr>\n",
       "      <th class=\"blank level0\" >&nbsp;</th>\n",
       "      <th id=\"T_c5951_level0_col0\" class=\"col_heading level0 col0\" >Model</th>\n",
       "      <th id=\"T_c5951_level0_col1\" class=\"col_heading level0 col1\" >Accuracy</th>\n",
       "      <th id=\"T_c5951_level0_col2\" class=\"col_heading level0 col2\" >AUC</th>\n",
       "      <th id=\"T_c5951_level0_col3\" class=\"col_heading level0 col3\" >Recall</th>\n",
       "      <th id=\"T_c5951_level0_col4\" class=\"col_heading level0 col4\" >Prec.</th>\n",
       "      <th id=\"T_c5951_level0_col5\" class=\"col_heading level0 col5\" >F1</th>\n",
       "      <th id=\"T_c5951_level0_col6\" class=\"col_heading level0 col6\" >Kappa</th>\n",
       "      <th id=\"T_c5951_level0_col7\" class=\"col_heading level0 col7\" >MCC</th>\n",
       "    </tr>\n",
       "  </thead>\n",
       "  <tbody>\n",
       "    <tr>\n",
       "      <th id=\"T_c5951_level0_row0\" class=\"row_heading level0 row0\" >0</th>\n",
       "      <td id=\"T_c5951_row0_col0\" class=\"data row0 col0\" >Light Gradient Boosting Machine</td>\n",
       "      <td id=\"T_c5951_row0_col1\" class=\"data row0 col1\" >1.0000</td>\n",
       "      <td id=\"T_c5951_row0_col2\" class=\"data row0 col2\" >0</td>\n",
       "      <td id=\"T_c5951_row0_col3\" class=\"data row0 col3\" >1.0000</td>\n",
       "      <td id=\"T_c5951_row0_col4\" class=\"data row0 col4\" >1.0000</td>\n",
       "      <td id=\"T_c5951_row0_col5\" class=\"data row0 col5\" >1.0000</td>\n",
       "      <td id=\"T_c5951_row0_col6\" class=\"data row0 col6\" >nan</td>\n",
       "      <td id=\"T_c5951_row0_col7\" class=\"data row0 col7\" >0.0000</td>\n",
       "    </tr>\n",
       "  </tbody>\n",
       "</table>\n"
      ],
      "text/plain": [
       "<pandas.io.formats.style.Styler at 0x7f7323b88520>"
      ]
     },
     "metadata": {},
     "output_type": "display_data"
    },
    {
     "name": "stdout",
     "output_type": "stream",
     "text": [
      "{'prediction': 'long', 'prediction_score': 0.9942}\n"
     ]
    }
   ],
   "source": [
    "import pandas as pd\n",
    "from pycaret.classification import load_model, predict_model\n",
    "\n",
    "\n",
    "\n",
    "model_name = 'ETHUSDT-15m-12-3'\n",
    "model = load_model(f'../../models/{model_name}')\n",
    "# Load trained Pipeline\n",
    "# model = load_model(\"loaded_best_pipeline_api\")\n",
    "\n",
    "df = pd.read_csv('../../data/dataset.csv')\n",
    "predictions = predict_model(model, data=df[-6888:-6887])\n",
    "result = {\"prediction\": predictions[\"prediction_label\"].iloc[0], \"prediction_score\": predictions[\"prediction_score\"].iloc[0]}\n",
    "print(result)\n"
   ]
  },
  {
   "cell_type": "code",
   "execution_count": null,
   "metadata": {},
   "outputs": [],
   "source": [
    "import pandas as pd\n",
    "from pycaret.classification import load_model, predict_model\n",
    "\n",
    "\n",
    "\n",
    "# Load trained Pipeline\n",
    "model_name = 'ETHUSDT-15m-12-3'\n",
    "model = load_model(f'../../models/{model_name}')\n",
    "\n",
    "df = pd.read_csv('../../data/dataset.csv')\n",
    "for i in range(1,10,1):\n",
    "    data=df[i:i+1]\n",
    "    correct_predition = list(data['signal'])[0]\n",
    "    predictions = predict_model(model, data)\n",
    "    result = {\"prediction\": predictions[\"prediction_label\"].iloc[0], \"prediction_score\": predictions[\"prediction_score\"].iloc[0]}\n",
    "    print('correct_predition', correct_predition, 'bot predictions', result['prediction'], 'prediction_score', result['prediction_score'])"
   ]
  },
  {
   "cell_type": "code",
   "execution_count": 37,
   "metadata": {},
   "outputs": [
    {
     "data": {
      "text/plain": [
       "'long'"
      ]
     },
     "execution_count": 37,
     "metadata": {},
     "output_type": "execute_result"
    }
   ],
   "source": [
    "list(data['signal'])[0]"
   ]
  },
  {
   "cell_type": "code",
   "execution_count": null,
   "metadata": {},
   "outputs": [],
   "source": [
    "# plot AUC\n",
    "plot_model(best, plot = 'feature_all')"
   ]
  }
 ],
 "metadata": {
  "kernelspec": {
   "display_name": "Python 3",
   "language": "python",
   "name": "python3"
  },
  "language_info": {
   "codemirror_mode": {
    "name": "ipython",
    "version": 3
   },
   "file_extension": ".py",
   "mimetype": "text/x-python",
   "name": "python",
   "nbconvert_exporter": "python",
   "pygments_lexer": "ipython3",
   "version": "3.10.12"
  },
  "orig_nbformat": 4
 },
 "nbformat": 4,
 "nbformat_minor": 2
}
