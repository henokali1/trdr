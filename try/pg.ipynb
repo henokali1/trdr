{
 "cells": [
  {
   "cell_type": "code",
   "execution_count": 21,
   "metadata": {},
   "outputs": [],
   "source": [
    "import os\n",
    "import numpy as np\n",
    "import pandas as pd\n",
    "import pandas_ta as ta\n",
    "from pathlib import Path\n",
    "from datetime import datetime\n",
    "\n",
    "\n",
    "candlestick_frame = 60*4\n",
    "\n",
    "downloads_path = str(Path.home() / \"Downloads\")\n",
    "raw_data = f'{downloads_path}\\\\01-11-2019  15-08-2023.csv'\n",
    "df = pd.read_csv(raw_data)\n",
    "df['sma'] = ta.sma(df['close'], length=7)\n",
    "\n",
    "ts = list(df['time'])\n",
    "open = list(df['open'])\n",
    "high = list(df['high'])\n",
    "low = list(df['low'])\n",
    "close = list(df['close'])\n",
    "volume = list(df['volume'])\n",
    "sma = list(df['sma'])\n",
    "\n",
    "\n",
    "tot = len(ts)\n",
    "long_runup_lst = []\n",
    "long_drawdown_lst = []\n",
    "short_runup_lst = []\n",
    "short_drawdown_lst = []\n",
    "\n",
    "for idx in range(tot):\n",
    "    if (idx >= candlestick_frame) and (idx <= tot - candlestick_frame):\n",
    "        max_high = max(high[idx:idx+candlestick_frame])\n",
    "        min_low = min(low[idx:idx+candlestick_frame])\n",
    "        entry_price = open[idx]\n",
    "        long_runup_lst.append(round((max_high*100/entry_price)-100, 2))\n",
    "        long_drawdown_lst.append(round((min_low*100/entry_price)-100, 2))\n",
    "        short_runup_lst.append(round((entry_price*100/min_low)-100, 2))\n",
    "        short_drawdown_lst.append(round((entry_price*100/max_high)-100, 2))\n",
    "    else:\n",
    "        long_runup_lst.append(0)\n",
    "        long_drawdown_lst.append(0)\n",
    "        short_runup_lst.append(0)\n",
    "        short_drawdown_lst.append(0)     \n",
    "\n",
    "\n",
    "df['long_runup'] = long_runup_lst\n",
    "df['long_drawdown'] = long_drawdown_lst\n",
    "df['short_runup'] = short_runup_lst\n",
    "df['short_drawdown'] = short_drawdown_lst\n",
    "\n",
    "exp_df_fn = f'{downloads_path}\\\\exp_df.csv'\n",
    "df.to_csv(exp_df_fn, index=False)\n",
    "# os.system(f\"start EXCEL.EXE {exp_df_fn}\")\n"
   ]
  },
  {
   "cell_type": "code",
   "execution_count": 26,
   "metadata": {},
   "outputs": [
    {
     "data": {
      "text/plain": [
       "-32.97"
      ]
     },
     "execution_count": 26,
     "metadata": {},
     "output_type": "execute_result"
    }
   ],
   "source": [
    "min(short_drawdown_lst)"
   ]
  },
  {
   "cell_type": "code",
   "execution_count": null,
   "metadata": {},
   "outputs": [],
   "source": []
  }
 ],
 "metadata": {
  "kernelspec": {
   "display_name": "Python 3",
   "language": "python",
   "name": "python3"
  },
  "language_info": {
   "codemirror_mode": {
    "name": "ipython",
    "version": 3
   },
   "file_extension": ".py",
   "mimetype": "text/x-python",
   "name": "python",
   "nbconvert_exporter": "python",
   "pygments_lexer": "ipython3",
   "version": "3.11.0"
  },
  "orig_nbformat": 4
 },
 "nbformat": 4,
 "nbformat_minor": 2
}
